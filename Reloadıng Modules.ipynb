{
 "cells": [
  {
   "cell_type": "code",
   "execution_count": 3,
   "id": "8f403ac6-0dfd-4b2b-b340-577067dc8040",
   "metadata": {},
   "outputs": [],
   "source": [
    "import os\n",
    "\n",
    "def create_module_file(module_name,**kwargs):\n",
    "    '''Create a module file named <module_name>.py\n",
    "    Module has a single function (print_values) that will print out \n",
    "    the supplied (stringified) kwargs'''\n",
    "\n",
    "    module_file_name = f'{module_name}.py'\n",
    "    #module_file_name = f'{0}.py'.format(module_name)\n",
    "    module_rel_file_path = module_file_name\n",
    "    module_abs_file_path = os.path.abspath(module_rel_file_path)\n",
    "\n",
    "    with open(module_abs_file_path, 'w') as f:\n",
    "        f.write(f'# {module_name}.py\\n\\n')\n",
    "        f.write(f\"print('running {module_file_name} ...')\\n\\n\")\n",
    "        f.write(f'def print_values():\\n')\n",
    "        for key, value in kwargs.items():\n",
    "            f.write(f\"\\tprint('{str(key)}','{str(value)}')\\n\")"
   ]
  },
  {
   "cell_type": "code",
   "execution_count": 4,
   "id": "7965d5db-625d-4501-a46f-cc0d0a9bd4f3",
   "metadata": {},
   "outputs": [],
   "source": [
    "create_module_file('test', k1=10, k2='python')"
   ]
  },
  {
   "cell_type": "code",
   "execution_count": 5,
   "id": "49a0ce80-a242-42c0-82c9-8ef9115089fb",
   "metadata": {},
   "outputs": [
    {
     "name": "stdout",
     "output_type": "stream",
     "text": [
      "running test.py ...\n"
     ]
    }
   ],
   "source": [
    "import test"
   ]
  },
  {
   "cell_type": "code",
   "execution_count": 6,
   "id": "50f34505-9df2-4461-8366-2bfd17e1c359",
   "metadata": {},
   "outputs": [
    {
     "data": {
      "text/plain": [
       "<module 'test' from 'C:\\\\Users\\\\afaq\\\\Desktop\\\\udemy\\\\NumPy,Pandas and Matplotlib\\\\Deep Dive Part 1\\\\test.py'>"
      ]
     },
     "execution_count": 6,
     "metadata": {},
     "output_type": "execute_result"
    }
   ],
   "source": [
    "test"
   ]
  },
  {
   "cell_type": "code",
   "execution_count": 7,
   "id": "18845ff3-6203-45f3-a86c-3b49b269cc19",
   "metadata": {},
   "outputs": [
    {
     "name": "stdout",
     "output_type": "stream",
     "text": [
      "k1 10\n",
      "k2 python\n"
     ]
    }
   ],
   "source": [
    "test.print_values()"
   ]
  },
  {
   "cell_type": "code",
   "execution_count": 8,
   "id": "3406cda5-9b91-422c-9c1b-e8c1f2df7cf1",
   "metadata": {},
   "outputs": [],
   "source": [
    "create_module_file('test',k1=10,k2='python',k3='cheese')"
   ]
  },
  {
   "cell_type": "code",
   "execution_count": 9,
   "id": "18d80f64-4197-46fb-babe-97375f74c820",
   "metadata": {},
   "outputs": [],
   "source": [
    "import test"
   ]
  },
  {
   "cell_type": "code",
   "execution_count": 10,
   "id": "339b7d3c-36b5-4816-bcf8-5e40b035eb6a",
   "metadata": {},
   "outputs": [
    {
     "data": {
      "text/plain": [
       "<module 'test' from 'C:\\\\Users\\\\afaq\\\\Desktop\\\\udemy\\\\NumPy,Pandas and Matplotlib\\\\Deep Dive Part 1\\\\test.py'>"
      ]
     },
     "execution_count": 10,
     "metadata": {},
     "output_type": "execute_result"
    }
   ],
   "source": [
    "test"
   ]
  },
  {
   "cell_type": "code",
   "execution_count": 11,
   "id": "6e0a8595-9226-499d-a81c-7c045d2e1e09",
   "metadata": {},
   "outputs": [
    {
     "name": "stdout",
     "output_type": "stream",
     "text": [
      "k1 10\n",
      "k2 python\n"
     ]
    }
   ],
   "source": [
    "test.print_values()"
   ]
  },
  {
   "cell_type": "code",
   "execution_count": 12,
   "id": "82df2ccd-52ee-4153-96cb-9592c100a333",
   "metadata": {},
   "outputs": [
    {
     "data": {
      "text/plain": [
       "1770280910208"
      ]
     },
     "execution_count": 12,
     "metadata": {},
     "output_type": "execute_result"
    }
   ],
   "source": [
    "id(test)"
   ]
  },
  {
   "cell_type": "code",
   "execution_count": 13,
   "id": "04552cc3-a11c-4706-bd4f-ba11bb2f041c",
   "metadata": {},
   "outputs": [],
   "source": [
    "import sys"
   ]
  },
  {
   "cell_type": "code",
   "execution_count": 14,
   "id": "771658b1-ddf3-4b36-b897-78964877d980",
   "metadata": {},
   "outputs": [
    {
     "data": {
      "text/plain": [
       "True"
      ]
     },
     "execution_count": 14,
     "metadata": {},
     "output_type": "execute_result"
    }
   ],
   "source": [
    "'test' in sys.modules"
   ]
  },
  {
   "cell_type": "code",
   "execution_count": 15,
   "id": "ac4d04dd-3e45-45c1-a0f1-67613b8d2a03",
   "metadata": {},
   "outputs": [
    {
     "data": {
      "text/plain": [
       "True"
      ]
     },
     "execution_count": 15,
     "metadata": {},
     "output_type": "execute_result"
    }
   ],
   "source": [
    "'test' in globals()"
   ]
  },
  {
   "cell_type": "code",
   "execution_count": 16,
   "id": "99948b5f-629f-4427-bddc-406434a2b28a",
   "metadata": {},
   "outputs": [],
   "source": [
    "del sys.modules['test']"
   ]
  },
  {
   "cell_type": "code",
   "execution_count": 17,
   "id": "2c84643f-bb58-4a29-9b14-d9ddb22511a0",
   "metadata": {},
   "outputs": [
    {
     "data": {
      "text/plain": [
       "False"
      ]
     },
     "execution_count": 17,
     "metadata": {},
     "output_type": "execute_result"
    }
   ],
   "source": [
    "'test' in sys.modules"
   ]
  },
  {
   "cell_type": "code",
   "execution_count": 18,
   "id": "2ebbedf0-6fed-486a-8e65-7f6366b147a9",
   "metadata": {},
   "outputs": [
    {
     "name": "stdout",
     "output_type": "stream",
     "text": [
      "running test.py ...\n"
     ]
    }
   ],
   "source": [
    "import test"
   ]
  },
  {
   "cell_type": "code",
   "execution_count": 19,
   "id": "8539e61f-9dc2-4640-b282-8554a04e76a0",
   "metadata": {},
   "outputs": [
    {
     "data": {
      "text/plain": [
       "1770280910688"
      ]
     },
     "execution_count": 19,
     "metadata": {},
     "output_type": "execute_result"
    }
   ],
   "source": [
    "id(sys.modules['test'])"
   ]
  },
  {
   "cell_type": "code",
   "execution_count": 20,
   "id": "bb3fa63b-3b9a-4601-b031-5af1d8c1fa3f",
   "metadata": {},
   "outputs": [
    {
     "data": {
      "text/plain": [
       "True"
      ]
     },
     "execution_count": 20,
     "metadata": {},
     "output_type": "execute_result"
    }
   ],
   "source": [
    "'test' in globals()"
   ]
  },
  {
   "cell_type": "code",
   "execution_count": 21,
   "id": "9b0b85ae-0696-4a15-92ec-788a00a93391",
   "metadata": {},
   "outputs": [
    {
     "data": {
      "text/plain": [
       "1770280910688"
      ]
     },
     "execution_count": 21,
     "metadata": {},
     "output_type": "execute_result"
    }
   ],
   "source": [
    "id(test)"
   ]
  },
  {
   "cell_type": "code",
   "execution_count": 22,
   "id": "4d91188f-cf9c-47c3-a79a-f0c83abc5be8",
   "metadata": {},
   "outputs": [
    {
     "name": "stdout",
     "output_type": "stream",
     "text": [
      "k1 10\n",
      "k2 python\n",
      "k3 cheese\n"
     ]
    }
   ],
   "source": [
    "test.print_values()"
   ]
  },
  {
   "cell_type": "code",
   "execution_count": 23,
   "id": "a368e3a2-aacf-4e03-8520-f7884a8cdf26",
   "metadata": {},
   "outputs": [
    {
     "data": {
      "text/plain": [
       "1770280910688"
      ]
     },
     "execution_count": 23,
     "metadata": {},
     "output_type": "execute_result"
    }
   ],
   "source": [
    "id(test)"
   ]
  },
  {
   "cell_type": "code",
   "execution_count": 24,
   "id": "062a0fc9-13de-43cd-a0d3-0ab639f7fa76",
   "metadata": {},
   "outputs": [
    {
     "data": {
      "text/plain": [
       "1770280910688"
      ]
     },
     "execution_count": 24,
     "metadata": {},
     "output_type": "execute_result"
    }
   ],
   "source": [
    "id(sys.modules['test'])"
   ]
  },
  {
   "cell_type": "code",
   "execution_count": 25,
   "id": "0bf66c2d-b4fb-4a98-bbbd-2d9efd9431db",
   "metadata": {},
   "outputs": [],
   "source": [
    "create_module_file('test',k1=10,k2='python',k3='cheese',k4='parrots')"
   ]
  },
  {
   "cell_type": "code",
   "execution_count": 26,
   "id": "7e73b813-880b-44c0-abfb-357998eeb5d0",
   "metadata": {},
   "outputs": [
    {
     "name": "stdout",
     "output_type": "stream",
     "text": [
      "running test.py ...\n"
     ]
    },
    {
     "data": {
      "text/plain": [
       "<module 'test' from 'C:\\\\Users\\\\afaq\\\\Desktop\\\\udemy\\\\NumPy,Pandas and Matplotlib\\\\Deep Dive Part 1\\\\test.py'>"
      ]
     },
     "execution_count": 26,
     "metadata": {},
     "output_type": "execute_result"
    }
   ],
   "source": [
    "import importlib\n",
    "\n",
    "importlib.reload(test)"
   ]
  },
  {
   "cell_type": "code",
   "execution_count": 27,
   "id": "512d5bbb-222b-4d0d-9dbf-31f48c06dbe9",
   "metadata": {},
   "outputs": [
    {
     "data": {
      "text/plain": [
       "1770280910688"
      ]
     },
     "execution_count": 27,
     "metadata": {},
     "output_type": "execute_result"
    }
   ],
   "source": [
    "id(test)"
   ]
  },
  {
   "cell_type": "code",
   "execution_count": 28,
   "id": "c779af0b-07fd-4ad1-b3d7-d00e7e46d0f2",
   "metadata": {},
   "outputs": [
    {
     "data": {
      "text/plain": [
       "1770280910688"
      ]
     },
     "execution_count": 28,
     "metadata": {},
     "output_type": "execute_result"
    }
   ],
   "source": [
    "id(sys.modules['test'])"
   ]
  },
  {
   "cell_type": "code",
   "execution_count": 29,
   "id": "52a1eba5-502c-4cf6-aedf-c57f16882dc7",
   "metadata": {},
   "outputs": [
    {
     "name": "stdout",
     "output_type": "stream",
     "text": [
      "k1 10\n",
      "k2 python\n",
      "k3 cheese\n",
      "k4 parrots\n"
     ]
    }
   ],
   "source": [
    "test.print_values()"
   ]
  },
  {
   "cell_type": "code",
   "execution_count": 30,
   "id": "099a55f2-75ce-4e98-85e6-c27349f9833b",
   "metadata": {},
   "outputs": [],
   "source": [
    "create_module_file('test2',k1='python')"
   ]
  },
  {
   "cell_type": "code",
   "execution_count": 31,
   "id": "f89ca4f0-f5ca-4c66-a6e1-f437874ce52d",
   "metadata": {},
   "outputs": [
    {
     "name": "stdout",
     "output_type": "stream",
     "text": [
      "running test2.py ...\n"
     ]
    }
   ],
   "source": [
    "from test2 import print_values"
   ]
  },
  {
   "cell_type": "code",
   "execution_count": 32,
   "id": "c20527d4-63a3-4701-9ad9-bba071ad22e5",
   "metadata": {},
   "outputs": [
    {
     "data": {
      "text/plain": [
       "False"
      ]
     },
     "execution_count": 32,
     "metadata": {},
     "output_type": "execute_result"
    }
   ],
   "source": [
    "'test2' in globals()"
   ]
  },
  {
   "cell_type": "code",
   "execution_count": 33,
   "id": "3792a86b-18d7-4aa4-9afc-dae3a9fef19e",
   "metadata": {},
   "outputs": [
    {
     "data": {
      "text/plain": [
       "True"
      ]
     },
     "execution_count": 33,
     "metadata": {},
     "output_type": "execute_result"
    }
   ],
   "source": [
    "'test2' in sys.modules"
   ]
  },
  {
   "cell_type": "code",
   "execution_count": 35,
   "id": "6795d7da-3c9a-4b13-92c7-5eec81b28118",
   "metadata": {},
   "outputs": [],
   "source": [
    "create_module_file('test2',k1='python',k2='cheese')"
   ]
  },
  {
   "cell_type": "code",
   "execution_count": 36,
   "id": "86c7d07e-ccda-4a9c-b2e5-dd046bdc4b09",
   "metadata": {},
   "outputs": [
    {
     "name": "stdout",
     "output_type": "stream",
     "text": [
      "running test2.py ...\n"
     ]
    },
    {
     "data": {
      "text/plain": [
       "<module 'test2' from 'C:\\\\Users\\\\afaq\\\\Desktop\\\\udemy\\\\NumPy,Pandas and Matplotlib\\\\Deep Dive Part 1\\\\test2.py'>"
      ]
     },
     "execution_count": 36,
     "metadata": {},
     "output_type": "execute_result"
    }
   ],
   "source": [
    "importlib.reload(sys.modules['test2'])"
   ]
  },
  {
   "cell_type": "code",
   "execution_count": 37,
   "id": "a3237503-7668-4326-bcfe-3a4e4e090543",
   "metadata": {},
   "outputs": [
    {
     "name": "stdout",
     "output_type": "stream",
     "text": [
      "k1 python\n"
     ]
    }
   ],
   "source": [
    "print_values()"
   ]
  },
  {
   "cell_type": "code",
   "execution_count": 39,
   "id": "cdb57cd3-1b0c-48e8-95ba-960ca0727f78",
   "metadata": {},
   "outputs": [],
   "source": [
    "from test2 import print_values"
   ]
  },
  {
   "cell_type": "code",
   "execution_count": 40,
   "id": "e4f4037c-4c0b-49ce-b87f-44c3b7f7d60e",
   "metadata": {},
   "outputs": [],
   "source": [
    "print_values = sys.modules['test2'].print_values"
   ]
  },
  {
   "cell_type": "code",
   "execution_count": 41,
   "id": "78b72aa3-ad70-4e48-9aaa-736ab15c0996",
   "metadata": {},
   "outputs": [
    {
     "name": "stdout",
     "output_type": "stream",
     "text": [
      "k1 python\n",
      "k2 cheese\n"
     ]
    }
   ],
   "source": [
    "print_values()"
   ]
  },
  {
   "cell_type": "code",
   "execution_count": null,
   "id": "caaf3f57-70ee-4523-8424-cd060e95f9a0",
   "metadata": {},
   "outputs": [],
   "source": []
  }
 ],
 "metadata": {
  "kernelspec": {
   "display_name": "Python 3 (ipykernel)",
   "language": "python",
   "name": "python3"
  },
  "language_info": {
   "codemirror_mode": {
    "name": "ipython",
    "version": 3
   },
   "file_extension": ".py",
   "mimetype": "text/x-python",
   "name": "python",
   "nbconvert_exporter": "python",
   "pygments_lexer": "ipython3",
   "version": "3.11.5"
  },
  "widgets": {
   "application/vnd.jupyter.widget-state+json": {
    "state": {},
    "version_major": 2,
    "version_minor": 0
   }
  }
 },
 "nbformat": 4,
 "nbformat_minor": 5
}
