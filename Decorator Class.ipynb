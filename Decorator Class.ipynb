{
 "cells": [
  {
   "cell_type": "code",
   "execution_count": 1,
   "id": "76f6cfbe-2439-4e4b-a2f2-525eb617f2b0",
   "metadata": {},
   "outputs": [],
   "source": [
    "def my_dec(a,b):\n",
    "    def dec(fn):\n",
    "        def inner(*args,**kwargs):\n",
    "            print('decorated function called: a = {0}, b = {1}'.format(a,b))\n",
    "            return fn(*args,**kwargs)\n",
    "        return inner\n",
    "    return dec"
   ]
  },
  {
   "cell_type": "code",
   "execution_count": 2,
   "id": "398ee3d9-4de9-449c-a9bc-4ac44aa7fa38",
   "metadata": {},
   "outputs": [],
   "source": [
    "@my_dec(10,20)\n",
    "def my_func(s):\n",
    "    print('hello {0}'.format(s))"
   ]
  },
  {
   "cell_type": "code",
   "execution_count": 3,
   "id": "fd154d92-dc3a-4299-9612-9c37457d8fb5",
   "metadata": {},
   "outputs": [
    {
     "name": "stdout",
     "output_type": "stream",
     "text": [
      "decorated function called: a = 10, b = 20\n",
      "hello World\n"
     ]
    }
   ],
   "source": [
    "my_func('World')"
   ]
  },
  {
   "cell_type": "code",
   "execution_count": 16,
   "id": "1804ac02-5342-47f1-b208-3d8c5d3a0c1e",
   "metadata": {},
   "outputs": [],
   "source": [
    "class MyClass:\n",
    "    def __init__(self,a,b):\n",
    "        self.a = a\n",
    "        self.b = b\n",
    "\n",
    "    def __call__(self,c):\n",
    "        self.c = c\n",
    "        print('called a={0},b={1},c={2}'.format(self.a,self.b,self.c))"
   ]
  },
  {
   "cell_type": "code",
   "execution_count": 17,
   "id": "c40e9680-7abc-43fc-be2c-1970830adb4f",
   "metadata": {},
   "outputs": [],
   "source": [
    "obj = MyClass(10,20)"
   ]
  },
  {
   "cell_type": "code",
   "execution_count": 18,
   "id": "66acf38a-15f9-4076-86fe-9a52b91c53e5",
   "metadata": {},
   "outputs": [
    {
     "data": {
      "text/plain": [
       "<__main__.MyClass at 0x201d4a47390>"
      ]
     },
     "execution_count": 18,
     "metadata": {},
     "output_type": "execute_result"
    }
   ],
   "source": [
    "obj"
   ]
  },
  {
   "cell_type": "code",
   "execution_count": 19,
   "id": "30e89be6-a5bb-439e-bd80-44b041e08f49",
   "metadata": {},
   "outputs": [
    {
     "name": "stdout",
     "output_type": "stream",
     "text": [
      "called a=10,b=20,c=100\n"
     ]
    }
   ],
   "source": [
    "obj.__call__(100)"
   ]
  },
  {
   "cell_type": "code",
   "execution_count": 20,
   "id": "92857a24-e6b7-4f49-a956-d67014a4ff9c",
   "metadata": {},
   "outputs": [
    {
     "name": "stdout",
     "output_type": "stream",
     "text": [
      "called a=10,b=20,c=100\n"
     ]
    }
   ],
   "source": [
    "obj(100)"
   ]
  },
  {
   "cell_type": "code",
   "execution_count": 25,
   "id": "9b7d4db1-fb04-41db-9b07-dbd9d31ee157",
   "metadata": {},
   "outputs": [],
   "source": [
    "class MyClass:\n",
    "    def __init__(self,a,b):\n",
    "        self.a = a\n",
    "        self.b = b\n",
    "\n",
    "    def __call__(self,fn):\n",
    "        def inner(*args,**kwargs):\n",
    "            print('decorated function called: a = {0}, b = {1}'.format(self.a,self.b))\n",
    "            return fn(*args,**kwargs)\n",
    "        return inner\n"
   ]
  },
  {
   "cell_type": "code",
   "execution_count": 26,
   "id": "c241e0e3-f673-4ce1-b5b0-87b58271fb73",
   "metadata": {},
   "outputs": [],
   "source": [
    "@MyClass(10,20)\n",
    "def my_func(s):\n",
    "    print('hello {0}'.format(s))"
   ]
  },
  {
   "cell_type": "code",
   "execution_count": 27,
   "id": "6307b0a0-3789-458f-82a7-4250e41a9ba8",
   "metadata": {},
   "outputs": [
    {
     "name": "stdout",
     "output_type": "stream",
     "text": [
      "decorated function called: a = 10, b = 20\n",
      "hello World\n"
     ]
    }
   ],
   "source": [
    "my_func('World')"
   ]
  },
  {
   "cell_type": "code",
   "execution_count": 28,
   "id": "7177421d-3636-4f3d-ba8f-af76b9a517cc",
   "metadata": {},
   "outputs": [],
   "source": [
    "obj = MyClass(10,20)"
   ]
  },
  {
   "cell_type": "code",
   "execution_count": 29,
   "id": "5115a1b9-befa-4faa-829a-118470a556b1",
   "metadata": {},
   "outputs": [],
   "source": [
    "def my_func(s):\n",
    "    print('hello {0}'.format(s))"
   ]
  },
  {
   "cell_type": "code",
   "execution_count": 30,
   "id": "f3366e3a-ba2c-4920-ae2a-5bcb8800c522",
   "metadata": {},
   "outputs": [],
   "source": [
    "my_func = obj(my_func)"
   ]
  },
  {
   "cell_type": "code",
   "execution_count": 31,
   "id": "1bfc1ff4-71e5-4d47-bf1c-839c4ff5cbf2",
   "metadata": {},
   "outputs": [
    {
     "name": "stdout",
     "output_type": "stream",
     "text": [
      "decorated function called: a = 10, b = 20\n",
      "hello World\n"
     ]
    }
   ],
   "source": [
    "my_func('World')"
   ]
  },
  {
   "cell_type": "code",
   "execution_count": null,
   "id": "7a08efa0-421c-42c8-a601-006142d9646b",
   "metadata": {},
   "outputs": [],
   "source": []
  }
 ],
 "metadata": {
  "kernelspec": {
   "display_name": "Python 3 (ipykernel)",
   "language": "python",
   "name": "python3"
  },
  "language_info": {
   "codemirror_mode": {
    "name": "ipython",
    "version": 3
   },
   "file_extension": ".py",
   "mimetype": "text/x-python",
   "name": "python",
   "nbconvert_exporter": "python",
   "pygments_lexer": "ipython3",
   "version": "3.11.5"
  }
 },
 "nbformat": 4,
 "nbformat_minor": 5
}
