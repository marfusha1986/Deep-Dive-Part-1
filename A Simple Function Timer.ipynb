{
 "cells": [
  {
   "cell_type": "code",
   "execution_count": 1,
   "id": "c72b76f9",
   "metadata": {},
   "outputs": [],
   "source": [
    "import time"
   ]
  },
  {
   "cell_type": "code",
   "execution_count": 2,
   "id": "9444e79d",
   "metadata": {},
   "outputs": [],
   "source": [
    "def time_it(fn,*args,**kwargs):\n",
    "    print(args,kwargs)"
   ]
  },
  {
   "cell_type": "code",
   "execution_count": 3,
   "id": "619daff6",
   "metadata": {},
   "outputs": [
    {
     "name": "stdout",
     "output_type": "stream",
     "text": [
      "(1, 2, 3) {'sep': '-', 'end': ' ***'}\n"
     ]
    }
   ],
   "source": [
    "time_it(print,1,2,3,sep='-',end=' ***')"
   ]
  },
  {
   "cell_type": "code",
   "execution_count": 4,
   "id": "8d75730a",
   "metadata": {},
   "outputs": [],
   "source": [
    "def time_it(fn,*args,**kwargs):\n",
    "    fn(*args,**kwargs)"
   ]
  },
  {
   "cell_type": "code",
   "execution_count": 5,
   "id": "fdc375c2",
   "metadata": {},
   "outputs": [
    {
     "name": "stdout",
     "output_type": "stream",
     "text": [
      "1-2-3 ***"
     ]
    }
   ],
   "source": [
    "time_it(print,1,2,3,sep='-',end=' ***')"
   ]
  },
  {
   "cell_type": "code",
   "execution_count": 6,
   "id": "8a491f59",
   "metadata": {},
   "outputs": [],
   "source": [
    "def time_it(fn,*args,rep=1,**kwargs):\n",
    "    for i in range(rep):\n",
    "        fn(*args, **kwargs)"
   ]
  },
  {
   "cell_type": "code",
   "execution_count": 7,
   "id": "14a56dba",
   "metadata": {},
   "outputs": [
    {
     "name": "stdout",
     "output_type": "stream",
     "text": [
      "1-2-3 ***\n",
      "1-2-3 ***\n",
      "1-2-3 ***\n",
      "1-2-3 ***\n",
      "1-2-3 ***\n"
     ]
    }
   ],
   "source": [
    "time_it(print,1,2,3,sep='-',rep=5,end=' ***\\n')"
   ]
  },
  {
   "cell_type": "code",
   "execution_count": 8,
   "id": "7ea9cf7d",
   "metadata": {},
   "outputs": [],
   "source": [
    "def time_it(fn,*args,rep=1,**kwargs):\n",
    "    start = time.perf_counter()\n",
    "    for i in range(rep):\n",
    "        fn(*args,**kwargs)\n",
    "    end = time.perf_counter()\n",
    "    return (end - start)/ rep"
   ]
  },
  {
   "cell_type": "code",
   "execution_count": 9,
   "id": "5763f09a",
   "metadata": {},
   "outputs": [
    {
     "name": "stdout",
     "output_type": "stream",
     "text": [
      "1-2-3 ***\n",
      "1-2-3 ***\n",
      "1-2-3 ***\n",
      "1-2-3 ***\n",
      "1-2-3 ***\n"
     ]
    },
    {
     "data": {
      "text/plain": [
       "3.0120000019451254e-05"
      ]
     },
     "execution_count": 9,
     "metadata": {},
     "output_type": "execute_result"
    }
   ],
   "source": [
    "time_it(print,1,2,3,sep='-',rep=5,end=' ***\\n')"
   ]
  },
  {
   "cell_type": "code",
   "execution_count": 12,
   "id": "4f54116c",
   "metadata": {},
   "outputs": [],
   "source": [
    "def computer_powers_1(n,*,start=1,end):\n",
    "    #using for loop\n",
    "    results = []\n",
    "    for i in range(start,end):\n",
    "        results.append(n**i)\n",
    "    return results"
   ]
  },
  {
   "cell_type": "code",
   "execution_count": 13,
   "id": "2d7c671f",
   "metadata": {},
   "outputs": [
    {
     "data": {
      "text/plain": [
       "[2, 4, 8, 16, 32, 64, 128, 256, 512]"
      ]
     },
     "execution_count": 13,
     "metadata": {},
     "output_type": "execute_result"
    }
   ],
   "source": [
    "computer_powers_1(2,end=10)"
   ]
  },
  {
   "cell_type": "code",
   "execution_count": 17,
   "id": "27fe2129",
   "metadata": {},
   "outputs": [],
   "source": [
    "def computer_powers_2(n,*,start=1,end):\n",
    "    #using list comprehension\n",
    "    return[n**i for i in range(start,end)]"
   ]
  },
  {
   "cell_type": "code",
   "execution_count": 18,
   "id": "47d6e622",
   "metadata": {},
   "outputs": [
    {
     "data": {
      "text/plain": [
       "[3, 9, 27, 81]"
      ]
     },
     "execution_count": 18,
     "metadata": {},
     "output_type": "execute_result"
    }
   ],
   "source": [
    "computer_powers_2(3,end = 5)"
   ]
  },
  {
   "cell_type": "code",
   "execution_count": 21,
   "id": "731f99cc",
   "metadata": {},
   "outputs": [],
   "source": [
    "def computer_powers_3(n,*,start=1,end):\n",
    "    #using generators expression\n",
    "    return (n**i for i in range(start,end))"
   ]
  },
  {
   "cell_type": "code",
   "execution_count": 24,
   "id": "7e5d5b86",
   "metadata": {},
   "outputs": [
    {
     "data": {
      "text/plain": [
       "[5, 25, 125, 625]"
      ]
     },
     "execution_count": 24,
     "metadata": {},
     "output_type": "execute_result"
    }
   ],
   "source": [
    "list(computer_powers_3(5,end=5))"
   ]
  },
  {
   "cell_type": "code",
   "execution_count": 25,
   "id": "326c6a63",
   "metadata": {},
   "outputs": [
    {
     "data": {
      "text/plain": [
       "0.38080030000000986"
      ]
     },
     "execution_count": 25,
     "metadata": {},
     "output_type": "execute_result"
    }
   ],
   "source": [
    "time_it(computer_powers_1,2,start=0,end=20000,rep=5)"
   ]
  },
  {
   "cell_type": "code",
   "execution_count": 26,
   "id": "ac5985af",
   "metadata": {},
   "outputs": [
    {
     "data": {
      "text/plain": [
       "0.3617706999999427"
      ]
     },
     "execution_count": 26,
     "metadata": {},
     "output_type": "execute_result"
    }
   ],
   "source": [
    "time_it(computer_powers_2,2,start=0,end=20000,rep=5)"
   ]
  },
  {
   "cell_type": "code",
   "execution_count": 27,
   "id": "f10e14d0",
   "metadata": {},
   "outputs": [
    {
     "data": {
      "text/plain": [
       "3.879999985656468e-06"
      ]
     },
     "execution_count": 27,
     "metadata": {},
     "output_type": "execute_result"
    }
   ],
   "source": [
    "time_it(computer_powers_3,2,start=0,end=20000,rep=5)"
   ]
  },
  {
   "cell_type": "code",
   "execution_count": 28,
   "id": "ae1eccad",
   "metadata": {},
   "outputs": [],
   "source": [
    "def computer_powers_3(n,*,start=1,end):\n",
    "    #using generators expression\n",
    "    return (list(n**i for i in range(start,end)))"
   ]
  },
  {
   "cell_type": "code",
   "execution_count": 29,
   "id": "dd0591ee",
   "metadata": {},
   "outputs": [
    {
     "data": {
      "text/plain": [
       "0.36219013999998423"
      ]
     },
     "execution_count": 29,
     "metadata": {},
     "output_type": "execute_result"
    }
   ],
   "source": [
    "time_it(computer_powers_3,2,start=0,end=20000,rep=5)"
   ]
  },
  {
   "cell_type": "code",
   "execution_count": null,
   "id": "d4a18530",
   "metadata": {},
   "outputs": [],
   "source": []
  }
 ],
 "metadata": {
  "kernelspec": {
   "display_name": "Python 3 (ipykernel)",
   "language": "python",
   "name": "python3"
  },
  "language_info": {
   "codemirror_mode": {
    "name": "ipython",
    "version": 3
   },
   "file_extension": ".py",
   "mimetype": "text/x-python",
   "name": "python",
   "nbconvert_exporter": "python",
   "pygments_lexer": "ipython3",
   "version": "3.9.13"
  }
 },
 "nbformat": 4,
 "nbformat_minor": 5
}
