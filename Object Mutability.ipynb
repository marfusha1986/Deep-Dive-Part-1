{
 "cells": [
  {
   "cell_type": "code",
   "execution_count": 1,
   "id": "62ca2a59",
   "metadata": {},
   "outputs": [],
   "source": [
    "my_list = [1,2,3]"
   ]
  },
  {
   "cell_type": "code",
   "execution_count": 2,
   "id": "619edee5",
   "metadata": {},
   "outputs": [
    {
     "data": {
      "text/plain": [
       "list"
      ]
     },
     "execution_count": 2,
     "metadata": {},
     "output_type": "execute_result"
    }
   ],
   "source": [
    "type(my_list)"
   ]
  },
  {
   "cell_type": "code",
   "execution_count": 3,
   "id": "98281566",
   "metadata": {},
   "outputs": [
    {
     "data": {
      "text/plain": [
       "2205328535104"
      ]
     },
     "execution_count": 3,
     "metadata": {},
     "output_type": "execute_result"
    }
   ],
   "source": [
    "id(my_list)"
   ]
  },
  {
   "cell_type": "code",
   "execution_count": 4,
   "id": "3b237386",
   "metadata": {},
   "outputs": [],
   "source": [
    "my_list.append(4)"
   ]
  },
  {
   "cell_type": "code",
   "execution_count": 5,
   "id": "6a2de280",
   "metadata": {},
   "outputs": [
    {
     "data": {
      "text/plain": [
       "[1, 2, 3, 4]"
      ]
     },
     "execution_count": 5,
     "metadata": {},
     "output_type": "execute_result"
    }
   ],
   "source": [
    "my_list"
   ]
  },
  {
   "cell_type": "code",
   "execution_count": 6,
   "id": "fd83f1f6",
   "metadata": {},
   "outputs": [
    {
     "data": {
      "text/plain": [
       "2205328535104"
      ]
     },
     "execution_count": 6,
     "metadata": {},
     "output_type": "execute_result"
    }
   ],
   "source": [
    "id(my_list)"
   ]
  },
  {
   "cell_type": "code",
   "execution_count": 7,
   "id": "329387a6",
   "metadata": {},
   "outputs": [],
   "source": [
    "my_list_1 = [1,2,3]"
   ]
  },
  {
   "cell_type": "code",
   "execution_count": 8,
   "id": "d4809a67",
   "metadata": {},
   "outputs": [
    {
     "data": {
      "text/plain": [
       "2205328492032"
      ]
     },
     "execution_count": 8,
     "metadata": {},
     "output_type": "execute_result"
    }
   ],
   "source": [
    "id(my_list_1)"
   ]
  },
  {
   "cell_type": "code",
   "execution_count": 9,
   "id": "6c62c85b",
   "metadata": {},
   "outputs": [],
   "source": [
    "my_list_1 = my_list_1 + [4]"
   ]
  },
  {
   "cell_type": "code",
   "execution_count": 10,
   "id": "47ddbab0",
   "metadata": {},
   "outputs": [
    {
     "data": {
      "text/plain": [
       "[1, 2, 3, 4]"
      ]
     },
     "execution_count": 10,
     "metadata": {},
     "output_type": "execute_result"
    }
   ],
   "source": [
    "my_list_1"
   ]
  },
  {
   "cell_type": "code",
   "execution_count": 12,
   "id": "6bfa20ee",
   "metadata": {},
   "outputs": [
    {
     "data": {
      "text/plain": [
       "2205328334080"
      ]
     },
     "execution_count": 12,
     "metadata": {},
     "output_type": "execute_result"
    }
   ],
   "source": [
    "id(my_list_1)"
   ]
  },
  {
   "cell_type": "code",
   "execution_count": 13,
   "id": "421e2232",
   "metadata": {},
   "outputs": [],
   "source": [
    "my_dict = dict(key1 = 1,key2 = 'a')"
   ]
  },
  {
   "cell_type": "code",
   "execution_count": 14,
   "id": "aac27904",
   "metadata": {},
   "outputs": [
    {
     "data": {
      "text/plain": [
       "2205328486016"
      ]
     },
     "execution_count": 14,
     "metadata": {},
     "output_type": "execute_result"
    }
   ],
   "source": [
    "id(my_dict)"
   ]
  },
  {
   "cell_type": "code",
   "execution_count": 15,
   "id": "6e90223f",
   "metadata": {},
   "outputs": [],
   "source": [
    "my_dict['key3'] = 10.5"
   ]
  },
  {
   "cell_type": "code",
   "execution_count": 16,
   "id": "1661d6a4",
   "metadata": {},
   "outputs": [
    {
     "data": {
      "text/plain": [
       "2205328486016"
      ]
     },
     "execution_count": 16,
     "metadata": {},
     "output_type": "execute_result"
    }
   ],
   "source": [
    "id(my_dict)"
   ]
  },
  {
   "cell_type": "code",
   "execution_count": 17,
   "id": "eca08ae8",
   "metadata": {},
   "outputs": [],
   "source": [
    "t = (1,2,3)"
   ]
  },
  {
   "cell_type": "code",
   "execution_count": 18,
   "id": "6bd28dc1",
   "metadata": {},
   "outputs": [
    {
     "data": {
      "text/plain": [
       "2205321081216"
      ]
     },
     "execution_count": 18,
     "metadata": {},
     "output_type": "execute_result"
    }
   ],
   "source": [
    "id(t)"
   ]
  },
  {
   "cell_type": "code",
   "execution_count": 19,
   "id": "4dabcc92",
   "metadata": {},
   "outputs": [
    {
     "data": {
      "text/plain": [
       "1"
      ]
     },
     "execution_count": 19,
     "metadata": {},
     "output_type": "execute_result"
    }
   ],
   "source": [
    "t[0]"
   ]
  },
  {
   "cell_type": "code",
   "execution_count": 20,
   "id": "dd792085",
   "metadata": {},
   "outputs": [
    {
     "data": {
      "text/plain": [
       "2205248350512"
      ]
     },
     "execution_count": 20,
     "metadata": {},
     "output_type": "execute_result"
    }
   ],
   "source": [
    "id(t[0])"
   ]
  },
  {
   "cell_type": "code",
   "execution_count": 21,
   "id": "4b3038ad",
   "metadata": {},
   "outputs": [
    {
     "data": {
      "text/plain": [
       "2205248350544"
      ]
     },
     "execution_count": 21,
     "metadata": {},
     "output_type": "execute_result"
    }
   ],
   "source": [
    "id(t[1])"
   ]
  },
  {
   "cell_type": "code",
   "execution_count": 22,
   "id": "f1d368bc",
   "metadata": {},
   "outputs": [],
   "source": [
    "t = ([1,2],[3,4])"
   ]
  },
  {
   "cell_type": "code",
   "execution_count": 23,
   "id": "9512824f",
   "metadata": {},
   "outputs": [
    {
     "data": {
      "text/plain": [
       "2205328511424"
      ]
     },
     "execution_count": 23,
     "metadata": {},
     "output_type": "execute_result"
    }
   ],
   "source": [
    "id(t)"
   ]
  },
  {
   "cell_type": "code",
   "execution_count": 24,
   "id": "52390bed",
   "metadata": {},
   "outputs": [
    {
     "data": {
      "text/plain": [
       "[1, 2]"
      ]
     },
     "execution_count": 24,
     "metadata": {},
     "output_type": "execute_result"
    }
   ],
   "source": [
    "t[0]"
   ]
  },
  {
   "cell_type": "code",
   "execution_count": 25,
   "id": "8ef74422",
   "metadata": {},
   "outputs": [
    {
     "data": {
      "text/plain": [
       "[3, 4]"
      ]
     },
     "execution_count": 25,
     "metadata": {},
     "output_type": "execute_result"
    }
   ],
   "source": [
    "t[1]"
   ]
  },
  {
   "cell_type": "code",
   "execution_count": null,
   "id": "371e8cdb",
   "metadata": {},
   "outputs": [],
   "source": [
    "t[0].append"
   ]
  }
 ],
 "metadata": {
  "kernelspec": {
   "display_name": "Python 3 (ipykernel)",
   "language": "python",
   "name": "python3"
  },
  "language_info": {
   "codemirror_mode": {
    "name": "ipython",
    "version": 3
   },
   "file_extension": ".py",
   "mimetype": "text/x-python",
   "name": "python",
   "nbconvert_exporter": "python",
   "pygments_lexer": "ipython3",
   "version": "3.9.13"
  }
 },
 "nbformat": 4,
 "nbformat_minor": 5
}
