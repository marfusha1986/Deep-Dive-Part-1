{
 "cells": [
  {
   "cell_type": "code",
   "execution_count": 1,
   "id": "0940b94d-9694-4a9a-a530-09d2c4ba5d90",
   "metadata": {},
   "outputs": [
    {
     "data": {
      "text/plain": [
       "(10, 20, 30)"
      ]
     },
     "execution_count": 1,
     "metadata": {},
     "output_type": "execute_result"
    }
   ],
   "source": [
    " (10,20,30)"
   ]
  },
  {
   "cell_type": "code",
   "execution_count": 2,
   "id": "cc6f5a6d-7fd9-4c13-9326-96036e4bd4d5",
   "metadata": {},
   "outputs": [],
   "source": [
    "a = (10,20,30)\n",
    "b = 10,20,30"
   ]
  },
  {
   "cell_type": "code",
   "execution_count": 3,
   "id": "ab85abce-d8cc-40e0-8be0-41c5c21e79af",
   "metadata": {},
   "outputs": [
    {
     "data": {
      "text/plain": [
       "tuple"
      ]
     },
     "execution_count": 3,
     "metadata": {},
     "output_type": "execute_result"
    }
   ],
   "source": [
    "type(a)"
   ]
  },
  {
   "cell_type": "code",
   "execution_count": 4,
   "id": "bc97b2ae-1c9d-4ceb-a0be-2b17d628baa9",
   "metadata": {},
   "outputs": [
    {
     "data": {
      "text/plain": [
       "tuple"
      ]
     },
     "execution_count": 4,
     "metadata": {},
     "output_type": "execute_result"
    }
   ],
   "source": [
    "type(b)"
   ]
  },
  {
   "cell_type": "code",
   "execution_count": 5,
   "id": "e6284062-3d6a-4af6-90f8-e02b405de692",
   "metadata": {},
   "outputs": [],
   "source": [
    "def print_tuple(t):\n",
    "    for e in t:\n",
    "        print(e)"
   ]
  },
  {
   "cell_type": "code",
   "execution_count": 7,
   "id": "bbca0096-fce4-4f1c-9922-ab9b7c267557",
   "metadata": {},
   "outputs": [
    {
     "name": "stdout",
     "output_type": "stream",
     "text": [
      "10\n",
      "20\n",
      "30\n"
     ]
    }
   ],
   "source": [
    "print_tuple((10,20,30))"
   ]
  },
  {
   "cell_type": "code",
   "execution_count": 9,
   "id": "f67a13ad-7f7d-46aa-85b0-577fa2600e7b",
   "metadata": {},
   "outputs": [],
   "source": [
    "a = 'a',10,200"
   ]
  },
  {
   "cell_type": "code",
   "execution_count": 10,
   "id": "57c72039-a921-4509-816f-3ed21a19dcd4",
   "metadata": {},
   "outputs": [
    {
     "data": {
      "text/plain": [
       "'a'"
      ]
     },
     "execution_count": 10,
     "metadata": {},
     "output_type": "execute_result"
    }
   ],
   "source": [
    "a[0]"
   ]
  },
  {
   "cell_type": "code",
   "execution_count": 11,
   "id": "bcbbf028-3957-4692-be33-2c5a37316358",
   "metadata": {},
   "outputs": [
    {
     "data": {
      "text/plain": [
       "tuple"
      ]
     },
     "execution_count": 11,
     "metadata": {},
     "output_type": "execute_result"
    }
   ],
   "source": [
    "type(a)"
   ]
  },
  {
   "cell_type": "code",
   "execution_count": 13,
   "id": "e5a4a97c-a5d0-47e7-abaf-770181f8fd71",
   "metadata": {},
   "outputs": [],
   "source": [
    "a = 1,2,3,4,5,6"
   ]
  },
  {
   "cell_type": "code",
   "execution_count": 14,
   "id": "12403478-007c-455c-add5-a04b6914f2ee",
   "metadata": {},
   "outputs": [
    {
     "data": {
      "text/plain": [
       "(3, 4, 5)"
      ]
     },
     "execution_count": 14,
     "metadata": {},
     "output_type": "execute_result"
    }
   ],
   "source": [
    "a[2:5]"
   ]
  },
  {
   "cell_type": "code",
   "execution_count": 15,
   "id": "b7897538-55a2-4826-b9db-92c7970afc7e",
   "metadata": {},
   "outputs": [
    {
     "name": "stdout",
     "output_type": "stream",
     "text": [
      "1\n",
      "2\n",
      "3\n",
      "4\n",
      "5\n",
      "6\n"
     ]
    }
   ],
   "source": [
    "for e in a:\n",
    "    print(e)"
   ]
  },
  {
   "cell_type": "code",
   "execution_count": 16,
   "id": "a80178da-8cb0-4ed5-aafe-214529a1082c",
   "metadata": {},
   "outputs": [],
   "source": [
    "a = 'a',10,200"
   ]
  },
  {
   "cell_type": "code",
   "execution_count": 17,
   "id": "d42d5f88-22be-4e8e-a4bc-0e27689e01b5",
   "metadata": {},
   "outputs": [],
   "source": [
    "x,y,z = a"
   ]
  },
  {
   "cell_type": "code",
   "execution_count": 18,
   "id": "f7c78fd7-4b86-437d-a1a5-6562cddb5412",
   "metadata": {},
   "outputs": [
    {
     "data": {
      "text/plain": [
       "'a'"
      ]
     },
     "execution_count": 18,
     "metadata": {},
     "output_type": "execute_result"
    }
   ],
   "source": [
    "x"
   ]
  },
  {
   "cell_type": "code",
   "execution_count": 19,
   "id": "a5af2ef2-a8ab-4c4e-b941-2eea76d4928d",
   "metadata": {},
   "outputs": [
    {
     "data": {
      "text/plain": [
       "10"
      ]
     },
     "execution_count": 19,
     "metadata": {},
     "output_type": "execute_result"
    }
   ],
   "source": [
    "y"
   ]
  },
  {
   "cell_type": "code",
   "execution_count": 20,
   "id": "99e88934-0eec-4dc9-9ac0-84c8e4010c5f",
   "metadata": {},
   "outputs": [
    {
     "data": {
      "text/plain": [
       "200"
      ]
     },
     "execution_count": 20,
     "metadata": {},
     "output_type": "execute_result"
    }
   ],
   "source": [
    "z"
   ]
  },
  {
   "cell_type": "code",
   "execution_count": 26,
   "id": "047ff8a5-828c-4984-a789-65eb99bcebff",
   "metadata": {},
   "outputs": [],
   "source": [
    "a = 1,2,3,4,5,6"
   ]
  },
  {
   "cell_type": "code",
   "execution_count": 27,
   "id": "0d4c3528-5d15-43d6-a2e4-15e37c62cc78",
   "metadata": {},
   "outputs": [],
   "source": [
    "x,*other,y,z = a"
   ]
  },
  {
   "cell_type": "code",
   "execution_count": 28,
   "id": "a8e7ee12-624f-42e5-8264-ab784d86870f",
   "metadata": {},
   "outputs": [
    {
     "data": {
      "text/plain": [
       "1"
      ]
     },
     "execution_count": 28,
     "metadata": {},
     "output_type": "execute_result"
    }
   ],
   "source": [
    "x"
   ]
  },
  {
   "cell_type": "code",
   "execution_count": 29,
   "id": "b8e39501-0f89-48a9-a2e6-e13dcf4e4838",
   "metadata": {},
   "outputs": [
    {
     "data": {
      "text/plain": [
       "5"
      ]
     },
     "execution_count": 29,
     "metadata": {},
     "output_type": "execute_result"
    }
   ],
   "source": [
    "y"
   ]
  },
  {
   "cell_type": "code",
   "execution_count": 30,
   "id": "8886f1b0-7385-4e9f-bbec-66710fe72e2e",
   "metadata": {},
   "outputs": [
    {
     "data": {
      "text/plain": [
       "[2, 3, 4]"
      ]
     },
     "execution_count": 30,
     "metadata": {},
     "output_type": "execute_result"
    }
   ],
   "source": [
    "other"
   ]
  },
  {
   "cell_type": "code",
   "execution_count": 35,
   "id": "728d0c05-d4d1-4c43-9b44-65187827b5c1",
   "metadata": {},
   "outputs": [],
   "source": [
    "class Point2D:\n",
    "    def __init__(self,x,y):\n",
    "        self.x = x\n",
    "        self.y = y\n",
    "\n",
    "    def __repr__(self):\n",
    "        return f'{self.__class__.__name__}(x = {self.x},y={self.y})'"
   ]
  },
  {
   "cell_type": "code",
   "execution_count": 36,
   "id": "b9be84f6-2ec9-4d15-bbab-159cd6867b64",
   "metadata": {},
   "outputs": [],
   "source": [
    "pt = Point2D(10,20)"
   ]
  },
  {
   "cell_type": "code",
   "execution_count": 37,
   "id": "874d0d28-af4d-4913-9dbe-3659ebbe6281",
   "metadata": {},
   "outputs": [
    {
     "data": {
      "text/plain": [
       "2548648141328"
      ]
     },
     "execution_count": 37,
     "metadata": {},
     "output_type": "execute_result"
    }
   ],
   "source": [
    "id(pt)"
   ]
  },
  {
   "cell_type": "code",
   "execution_count": 38,
   "id": "6521313d-c688-4b3d-a8da-e83be7ccbac2",
   "metadata": {},
   "outputs": [
    {
     "data": {
      "text/plain": [
       "Point2D(x = 10,y=20)"
      ]
     },
     "execution_count": 38,
     "metadata": {},
     "output_type": "execute_result"
    }
   ],
   "source": [
    "pt"
   ]
  },
  {
   "cell_type": "code",
   "execution_count": 39,
   "id": "8e763b34-2335-450f-9455-a15973c4d597",
   "metadata": {},
   "outputs": [],
   "source": [
    "pt.x = 100"
   ]
  },
  {
   "cell_type": "code",
   "execution_count": 40,
   "id": "0457cd79-cf8a-4cdf-94bc-6824073aabb7",
   "metadata": {},
   "outputs": [
    {
     "data": {
      "text/plain": [
       "Point2D(x = 100,y=20)"
      ]
     },
     "execution_count": 40,
     "metadata": {},
     "output_type": "execute_result"
    }
   ],
   "source": [
    "pt"
   ]
  },
  {
   "cell_type": "code",
   "execution_count": 41,
   "id": "fb9546b6-bd11-4592-b81b-981e5e243fc3",
   "metadata": {},
   "outputs": [
    {
     "data": {
      "text/plain": [
       "2548648141328"
      ]
     },
     "execution_count": 41,
     "metadata": {},
     "output_type": "execute_result"
    }
   ],
   "source": [
    "id(pt)"
   ]
  },
  {
   "cell_type": "code",
   "execution_count": 42,
   "id": "a981012f-d87f-4934-8510-9e57d6b46f27",
   "metadata": {},
   "outputs": [],
   "source": [
    "a = Point2D(0,0),Point2D(10,20)"
   ]
  },
  {
   "cell_type": "code",
   "execution_count": 43,
   "id": "08c4a47a-d8ee-430a-9c2f-d8fa4baefbcc",
   "metadata": {},
   "outputs": [
    {
     "data": {
      "text/plain": [
       "(Point2D(x = 0,y=0), Point2D(x = 10,y=20))"
      ]
     },
     "execution_count": 43,
     "metadata": {},
     "output_type": "execute_result"
    }
   ],
   "source": [
    "a"
   ]
  },
  {
   "cell_type": "code",
   "execution_count": 44,
   "id": "410944e9-92e8-47aa-af9a-35591a1bfe5e",
   "metadata": {},
   "outputs": [
    {
     "data": {
      "text/plain": [
       "2548648147728"
      ]
     },
     "execution_count": 44,
     "metadata": {},
     "output_type": "execute_result"
    }
   ],
   "source": [
    "id(a[0])"
   ]
  },
  {
   "cell_type": "code",
   "execution_count": 46,
   "id": "39f7d82d-e2e7-4c88-9969-e947655695b9",
   "metadata": {},
   "outputs": [],
   "source": [
    "a[0].x = 100\n"
   ]
  },
  {
   "cell_type": "code",
   "execution_count": 47,
   "id": "d3398770-a00a-4087-a692-e8220f9f3d7c",
   "metadata": {},
   "outputs": [
    {
     "data": {
      "text/plain": [
       "(Point2D(x = 100,y=0), Point2D(x = 10,y=20))"
      ]
     },
     "execution_count": 47,
     "metadata": {},
     "output_type": "execute_result"
    }
   ],
   "source": [
    "a"
   ]
  },
  {
   "cell_type": "code",
   "execution_count": 48,
   "id": "aa48b64f-14bd-4952-8535-2c6b9db5daff",
   "metadata": {},
   "outputs": [],
   "source": [
    "s = 'python'"
   ]
  },
  {
   "cell_type": "code",
   "execution_count": 49,
   "id": "6d2c7d06-78af-4e14-9917-b62d3a337605",
   "metadata": {},
   "outputs": [
    {
     "data": {
      "text/plain": [
       "2548595045104"
      ]
     },
     "execution_count": 49,
     "metadata": {},
     "output_type": "execute_result"
    }
   ],
   "source": [
    "id(s)"
   ]
  },
  {
   "cell_type": "code",
   "execution_count": 50,
   "id": "4848e955-4457-41d3-8a29-5c0727bb3e49",
   "metadata": {},
   "outputs": [],
   "source": [
    "s = 'python' + 'rocks!'"
   ]
  },
  {
   "cell_type": "code",
   "execution_count": 51,
   "id": "bb9d454d-d679-4ce0-8802-c2c6b08a31c0",
   "metadata": {},
   "outputs": [
    {
     "data": {
      "text/plain": [
       "'pythonrocks!'"
      ]
     },
     "execution_count": 51,
     "metadata": {},
     "output_type": "execute_result"
    }
   ],
   "source": [
    "s"
   ]
  },
  {
   "cell_type": "code",
   "execution_count": 52,
   "id": "c139b8ba-c517-49f5-b4d3-8e36ca648086",
   "metadata": {},
   "outputs": [
    {
     "data": {
      "text/plain": [
       "2548648418864"
      ]
     },
     "execution_count": 52,
     "metadata": {},
     "output_type": "execute_result"
    }
   ],
   "source": [
    "id(s)"
   ]
  },
  {
   "cell_type": "code",
   "execution_count": 53,
   "id": "7015815d-9707-4f87-9b1e-0f0dd152e960",
   "metadata": {},
   "outputs": [],
   "source": [
    "a = (1,2,3)"
   ]
  },
  {
   "cell_type": "code",
   "execution_count": 54,
   "id": "232e59d1-0dcf-43f0-bb81-429fa1ef3a95",
   "metadata": {},
   "outputs": [
    {
     "data": {
      "text/plain": [
       "2548648479104"
      ]
     },
     "execution_count": 54,
     "metadata": {},
     "output_type": "execute_result"
    }
   ],
   "source": [
    "id(a)"
   ]
  },
  {
   "cell_type": "code",
   "execution_count": 55,
   "id": "174e68fd-b515-4002-99ab-2a7de41e2bad",
   "metadata": {},
   "outputs": [],
   "source": [
    "a += (4,5)"
   ]
  },
  {
   "cell_type": "code",
   "execution_count": 56,
   "id": "acbc8e60-ccd1-40b3-a0d2-f1c98d749ce1",
   "metadata": {},
   "outputs": [
    {
     "data": {
      "text/plain": [
       "(1, 2, 3, 4, 5)"
      ]
     },
     "execution_count": 56,
     "metadata": {},
     "output_type": "execute_result"
    }
   ],
   "source": [
    "a"
   ]
  },
  {
   "cell_type": "code",
   "execution_count": 57,
   "id": "c296d8a6-1d40-4623-acc1-17a80428b30d",
   "metadata": {},
   "outputs": [
    {
     "data": {
      "text/plain": [
       "2548648389392"
      ]
     },
     "execution_count": 57,
     "metadata": {},
     "output_type": "execute_result"
    }
   ],
   "source": [
    "id(a)"
   ]
  },
  {
   "cell_type": "code",
   "execution_count": 58,
   "id": "b62a8db8-6a79-42e5-9332-08470d3917dd",
   "metadata": {},
   "outputs": [],
   "source": [
    "london = 'London','UK',8_750_000\n",
    "new_york = 'New York','USA',8_500_000\n",
    "beijing = 'Beijing','China',21_000_000"
   ]
  },
  {
   "cell_type": "code",
   "execution_count": 59,
   "id": "5ce7280a-627b-4b2b-81d2-becb52ce4702",
   "metadata": {},
   "outputs": [
    {
     "data": {
      "text/plain": [
       "('London', 'UK', 8750000)"
      ]
     },
     "execution_count": 59,
     "metadata": {},
     "output_type": "execute_result"
    }
   ],
   "source": [
    "london"
   ]
  },
  {
   "cell_type": "code",
   "execution_count": 60,
   "id": "f07f74d9-8dea-4f29-96cd-b4d732e610d3",
   "metadata": {},
   "outputs": [],
   "source": [
    "cities = [london,new_york,beijing]"
   ]
  },
  {
   "cell_type": "code",
   "execution_count": 62,
   "id": "19deee7e-c547-4986-91d8-529e180462c4",
   "metadata": {},
   "outputs": [
    {
     "name": "stdout",
     "output_type": "stream",
     "text": [
      "38250000\n"
     ]
    }
   ],
   "source": [
    "total = 0\n",
    "for city in cities:\n",
    "    total += city[2]\n",
    "print(total)"
   ]
  },
  {
   "cell_type": "code",
   "execution_count": 65,
   "id": "d6d155b6-3d44-4dfe-868c-e0740cc115b1",
   "metadata": {},
   "outputs": [],
   "source": [
    "total = sum(city[2] for city in cities)"
   ]
  },
  {
   "cell_type": "code",
   "execution_count": 66,
   "id": "be498bcb-e3eb-48ea-9fd8-f95750e69d90",
   "metadata": {},
   "outputs": [
    {
     "data": {
      "text/plain": [
       "38250000"
      ]
     },
     "execution_count": 66,
     "metadata": {},
     "output_type": "execute_result"
    }
   ],
   "source": [
    "total"
   ]
  },
  {
   "cell_type": "code",
   "execution_count": 67,
   "id": "db322509-f9ee-4574-8d56-3d1b55c1dd6c",
   "metadata": {},
   "outputs": [],
   "source": [
    "record = 'DJIA',2018,1,19,25_087,26_072,25_942,26_072"
   ]
  },
  {
   "cell_type": "code",
   "execution_count": 68,
   "id": "b2d61154-e237-4a68-a865-c5a9fbcfba12",
   "metadata": {},
   "outputs": [],
   "source": [
    "symbol,year,month,day,open_,high,low,close = record"
   ]
  },
  {
   "cell_type": "code",
   "execution_count": 69,
   "id": "1ca5c677-4085-4a0d-ac8d-a103001707ec",
   "metadata": {},
   "outputs": [
    {
     "data": {
      "text/plain": [
       "'DJIA'"
      ]
     },
     "execution_count": 69,
     "metadata": {},
     "output_type": "execute_result"
    }
   ],
   "source": [
    "symbol"
   ]
  },
  {
   "cell_type": "code",
   "execution_count": 70,
   "id": "e7a7023c-8ee0-4d0b-be50-88fd92f34088",
   "metadata": {},
   "outputs": [
    {
     "data": {
      "text/plain": [
       "25087"
      ]
     },
     "execution_count": 70,
     "metadata": {},
     "output_type": "execute_result"
    }
   ],
   "source": [
    "open_"
   ]
  },
  {
   "cell_type": "code",
   "execution_count": 71,
   "id": "0f703c5c-8059-4870-a0f6-ca7a70a2746c",
   "metadata": {},
   "outputs": [],
   "source": [
    "symbol,*_,close = record"
   ]
  },
  {
   "cell_type": "code",
   "execution_count": 72,
   "id": "bdc7a272-04a7-4919-a865-888713efef0d",
   "metadata": {},
   "outputs": [
    {
     "data": {
      "text/plain": [
       "('DJIA', 26072)"
      ]
     },
     "execution_count": 72,
     "metadata": {},
     "output_type": "execute_result"
    }
   ],
   "source": [
    "symbol,close"
   ]
  },
  {
   "cell_type": "code",
   "execution_count": 73,
   "id": "d41d2f93-bccd-4691-8338-1e01b64b96cb",
   "metadata": {},
   "outputs": [
    {
     "name": "stdout",
     "output_type": "stream",
     "text": [
      "[2018, 1, 19, 25087, 26072, 25942]\n"
     ]
    }
   ],
   "source": [
    "print(_)"
   ]
  },
  {
   "cell_type": "code",
   "execution_count": 74,
   "id": "27c02bc7-0529-4926-a4c9-69be9ed4cd5c",
   "metadata": {},
   "outputs": [
    {
     "name": "stdout",
     "output_type": "stream",
     "text": [
      "London UK 8750000\n",
      "New York USA 8500000\n",
      "Beijing China 21000000\n"
     ]
    }
   ],
   "source": [
    "for city,country,population in cities:\n",
    "    print(city,country,population)"
   ]
  },
  {
   "cell_type": "code",
   "execution_count": 75,
   "id": "a0e6ff98-e63d-451d-b1d9-fbe2bab087f7",
   "metadata": {},
   "outputs": [
    {
     "name": "stdout",
     "output_type": "stream",
     "text": [
      "(0, ('London', 'UK', 8750000))\n",
      "(1, ('New York', 'USA', 8500000))\n",
      "(2, ('Beijing', 'China', 21000000))\n"
     ]
    }
   ],
   "source": [
    "for item in enumerate(cities):\n",
    "    print(item)"
   ]
  },
  {
   "cell_type": "code",
   "execution_count": 76,
   "id": "1ae08f21-b0e5-4d97-abdc-8bb9f3d2acbf",
   "metadata": {},
   "outputs": [
    {
     "name": "stdout",
     "output_type": "stream",
     "text": [
      "0 ('London', 'UK', 8750000)\n",
      "1 ('New York', 'USA', 8500000)\n",
      "2 ('Beijing', 'China', 21000000)\n"
     ]
    }
   ],
   "source": [
    "for index,city in enumerate(cities):\n",
    "    print(index,city)"
   ]
  },
  {
   "cell_type": "code",
   "execution_count": 77,
   "id": "3c1329a3-e9dc-4aa2-aa2b-047c4f81bc9d",
   "metadata": {},
   "outputs": [],
   "source": [
    "from random import uniform\n",
    "from math import sqrt\n",
    "\n",
    "def random_shot(radius):\n",
    "    random_x = uniform(-radius,radius)\n",
    "    random_y = uniform(-radius,radius)\n",
    "\n",
    "    if sqrt(random_x **2 + random_y **2) <= radius:\n",
    "        is_in_circle = True\n",
    "\n",
    "    else:\n",
    "        is_in_circle = False\n",
    "\n",
    "    return random_x,random_y, is_in_circle"
   ]
  },
  {
   "cell_type": "code",
   "execution_count": 79,
   "id": "23b199e7-c2df-4b5d-87b2-6c9349133a01",
   "metadata": {},
   "outputs": [
    {
     "name": "stdout",
     "output_type": "stream",
     "text": [
      "Pi is approximatelyL 3.140816\n"
     ]
    }
   ],
   "source": [
    "num_attempts = 1_000_000\n",
    "count_inside = 0\n",
    "for i in range(num_attempts):\n",
    "    *_,is_in_circle = random_shot(1)\n",
    "    if is_in_circle:\n",
    "        count_inside += 1\n",
    "\n",
    "print(f'Pi is approximatelyL {4 * count_inside / num_attempts}')"
   ]
  },
  {
   "cell_type": "code",
   "execution_count": null,
   "id": "eadced07-d342-47b9-b50a-a795992ddd3f",
   "metadata": {},
   "outputs": [],
   "source": []
  }
 ],
 "metadata": {
  "kernelspec": {
   "display_name": "Python 3 (ipykernel)",
   "language": "python",
   "name": "python3"
  },
  "language_info": {
   "codemirror_mode": {
    "name": "ipython",
    "version": 3
   },
   "file_extension": ".py",
   "mimetype": "text/x-python",
   "name": "python",
   "nbconvert_exporter": "python",
   "pygments_lexer": "ipython3",
   "version": "3.11.5"
  },
  "widgets": {
   "application/vnd.jupyter.widget-state+json": {
    "state": {},
    "version_major": 2,
    "version_minor": 0
   }
  }
 },
 "nbformat": 4,
 "nbformat_minor": 5
}
