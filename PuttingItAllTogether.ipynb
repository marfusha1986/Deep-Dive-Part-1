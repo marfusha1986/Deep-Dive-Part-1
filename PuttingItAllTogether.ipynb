{
 "cells": [
  {
   "cell_type": "code",
   "execution_count": 1,
   "id": "030824d6",
   "metadata": {},
   "outputs": [],
   "source": [
    "def func(a,b,*args):\n",
    "    print(a,b,args)"
   ]
  },
  {
   "cell_type": "code",
   "execution_count": 2,
   "id": "9427c836",
   "metadata": {},
   "outputs": [
    {
     "name": "stdout",
     "output_type": "stream",
     "text": [
      "1 2 ('x', 'y', 'z')\n"
     ]
    }
   ],
   "source": [
    "func(1,2,'x','y','z')\n"
   ]
  },
  {
   "cell_type": "code",
   "execution_count": 3,
   "id": "9e60dc03",
   "metadata": {},
   "outputs": [
    {
     "ename": "SyntaxError",
     "evalue": "positional argument follows keyword argument (2477614441.py, line 1)",
     "output_type": "error",
     "traceback": [
      "\u001b[1;36m  File \u001b[1;32m\"C:\\Users\\afaq\\AppData\\Local\\Temp\\ipykernel_16796\\2477614441.py\"\u001b[1;36m, line \u001b[1;32m1\u001b[0m\n\u001b[1;33m    func(a=1,b=2,'x','y')\u001b[0m\n\u001b[1;37m                        ^\u001b[0m\n\u001b[1;31mSyntaxError\u001b[0m\u001b[1;31m:\u001b[0m positional argument follows keyword argument\n"
     ]
    }
   ],
   "source": [
    "func(a=1,b=2,'x','y')"
   ]
  },
  {
   "cell_type": "code",
   "execution_count": 4,
   "id": "089762a9",
   "metadata": {},
   "outputs": [],
   "source": [
    "def func(a,b=2,c=3,*args):\n",
    "    print(a,b,c,args)"
   ]
  },
  {
   "cell_type": "code",
   "execution_count": 5,
   "id": "f93cdb35",
   "metadata": {},
   "outputs": [
    {
     "name": "stdout",
     "output_type": "stream",
     "text": [
      "1 2 3 ('w', 'r')\n"
     ]
    }
   ],
   "source": [
    "func(1,2,3,'w','r')"
   ]
  },
  {
   "cell_type": "code",
   "execution_count": 6,
   "id": "df81e08b",
   "metadata": {},
   "outputs": [
    {
     "name": "stdout",
     "output_type": "stream",
     "text": [
      "1 2 5 ()\n"
     ]
    }
   ],
   "source": [
    "func(1,c=5)"
   ]
  },
  {
   "cell_type": "code",
   "execution_count": 12,
   "id": "b803e97f",
   "metadata": {},
   "outputs": [],
   "source": [
    "def func(a=1,b=2,*args,c=3,d):\n",
    "    print(a,b,c,args,d)"
   ]
  },
  {
   "cell_type": "code",
   "execution_count": 13,
   "id": "44bcd2d6",
   "metadata": {},
   "outputs": [
    {
     "name": "stdout",
     "output_type": "stream",
     "text": [
      "10 20 4 ('x', 'y', 'z') 1\n"
     ]
    }
   ],
   "source": [
    "func(10,20,'x','y','z',c=4,d=1)"
   ]
  },
  {
   "cell_type": "code",
   "execution_count": 14,
   "id": "7c06a1f1",
   "metadata": {},
   "outputs": [
    {
     "name": "stdout",
     "output_type": "stream",
     "text": [
      "10 20 3 ('x', 'y', 'z') 10\n"
     ]
    }
   ],
   "source": [
    "func(10,20,'x','y','z',d=10)"
   ]
  },
  {
   "cell_type": "code",
   "execution_count": 15,
   "id": "7910e0c0",
   "metadata": {},
   "outputs": [],
   "source": [
    "def func(a,b,*args,c=100,d=200,**kwargs):\n",
    "    print(a,b,args,c,d,kwargs)"
   ]
  },
  {
   "cell_type": "code",
   "execution_count": 16,
   "id": "5335cc5c",
   "metadata": {},
   "outputs": [
    {
     "name": "stdout",
     "output_type": "stream",
     "text": [
      "1 2 ('x', 'y', 'x') 100 200 {'x': 0.1, 'y': 0.2}\n"
     ]
    }
   ],
   "source": [
    "func(1,2,'x','y','x',c=100,d=200,x=0.1,y=0.2)"
   ]
  },
  {
   "cell_type": "code",
   "execution_count": 17,
   "id": "aee6ed86",
   "metadata": {},
   "outputs": [
    {
     "name": "stdout",
     "output_type": "stream",
     "text": [
      "Help on built-in function print in module builtins:\n",
      "\n",
      "print(...)\n",
      "    print(value, ..., sep=' ', end='\\n', file=sys.stdout, flush=False)\n",
      "    \n",
      "    Prints the values to a stream, or to sys.stdout by default.\n",
      "    Optional keyword arguments:\n",
      "    file:  a file-like object (stream); defaults to the current sys.stdout.\n",
      "    sep:   string inserted between values, default a space.\n",
      "    end:   string appended after the last value, default a newline.\n",
      "    flush: whether to forcibly flush the stream.\n",
      "\n"
     ]
    }
   ],
   "source": [
    "help(print)"
   ]
  },
  {
   "cell_type": "code",
   "execution_count": 18,
   "id": "8de00dab",
   "metadata": {},
   "outputs": [
    {
     "name": "stdout",
     "output_type": "stream",
     "text": [
      "1 2 3\n",
      "4 5 6\n"
     ]
    }
   ],
   "source": [
    "print(1,2,3)\n",
    "print(4,5,6)"
   ]
  },
  {
   "cell_type": "code",
   "execution_count": 20,
   "id": "0121b183",
   "metadata": {},
   "outputs": [
    {
     "name": "stdout",
     "output_type": "stream",
     "text": [
      "1-2-3\n",
      "4-5-6\n"
     ]
    }
   ],
   "source": [
    "print(1,2,3,sep='-',end='\\n')\n",
    "print(4,5,6,sep='-')"
   ]
  },
  {
   "cell_type": "code",
   "execution_count": 22,
   "id": "907b8a5b",
   "metadata": {},
   "outputs": [
    {
     "name": "stdout",
     "output_type": "stream",
     "text": [
      "1-2-3 *** 4-5-6\n"
     ]
    }
   ],
   "source": [
    "print(1,2,3,sep='-',end=' *** ')\n",
    "print(4,5,6,sep='-')"
   ]
  },
  {
   "cell_type": "code",
   "execution_count": 27,
   "id": "e9cafab1",
   "metadata": {},
   "outputs": [],
   "source": [
    "def calc_hi_lo_avg(*args,log_to_console=False):\n",
    "    hi = int(bool(args)) and max(args)\n",
    "    lo = min(args) if len(args) > 0 else 0\n",
    "#     if len(args) == 0:\n",
    "#         lo = 0\n",
    "#     else:\n",
    "#         lo = min(args)\n",
    "    avg = (hi + lo) / 2\n",
    "    if log_to_console:\n",
    "        print('high={0}, low={1},avg={2}'.format(hi,lo,avg))\n",
    "    return avg"
   ]
  },
  {
   "cell_type": "code",
   "execution_count": 28,
   "id": "1dfeb810",
   "metadata": {},
   "outputs": [
    {
     "name": "stdout",
     "output_type": "stream",
     "text": [
      "high=5, low=1,avg=3.0\n",
      "3.0\n"
     ]
    }
   ],
   "source": [
    "is_debug = True\n",
    "avg = calc_hi_lo_avg(1,2,3,4,5,log_to_console = is_debug)\n",
    "print(avg)"
   ]
  },
  {
   "cell_type": "code",
   "execution_count": null,
   "id": "42ad6b2d",
   "metadata": {},
   "outputs": [],
   "source": []
  }
 ],
 "metadata": {
  "kernelspec": {
   "display_name": "Python 3 (ipykernel)",
   "language": "python",
   "name": "python3"
  },
  "language_info": {
   "codemirror_mode": {
    "name": "ipython",
    "version": 3
   },
   "file_extension": ".py",
   "mimetype": "text/x-python",
   "name": "python",
   "nbconvert_exporter": "python",
   "pygments_lexer": "ipython3",
   "version": "3.9.13"
  }
 },
 "nbformat": 4,
 "nbformat_minor": 5
}
