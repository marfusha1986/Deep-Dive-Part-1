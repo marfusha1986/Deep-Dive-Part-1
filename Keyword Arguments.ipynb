{
 "cells": [
  {
   "cell_type": "code",
   "execution_count": 1,
   "id": "f920006a",
   "metadata": {},
   "outputs": [],
   "source": [
    "def func1(a,b,c):\n",
    "    print(a,b,c)"
   ]
  },
  {
   "cell_type": "code",
   "execution_count": 2,
   "id": "bac8fa86",
   "metadata": {},
   "outputs": [
    {
     "name": "stdout",
     "output_type": "stream",
     "text": [
      "1 2 3\n"
     ]
    }
   ],
   "source": [
    "func1(1,2,3)"
   ]
  },
  {
   "cell_type": "code",
   "execution_count": 3,
   "id": "d08d5298",
   "metadata": {},
   "outputs": [
    {
     "name": "stdout",
     "output_type": "stream",
     "text": [
      "1 2 3\n"
     ]
    }
   ],
   "source": [
    "func1(1,c=3,b=2)"
   ]
  },
  {
   "cell_type": "code",
   "execution_count": 4,
   "id": "0ebea6cf",
   "metadata": {},
   "outputs": [
    {
     "name": "stdout",
     "output_type": "stream",
     "text": [
      "1 2 3\n"
     ]
    }
   ],
   "source": [
    "func1(c=3,a=1,b=2)"
   ]
  },
  {
   "cell_type": "code",
   "execution_count": 5,
   "id": "77ad221b",
   "metadata": {},
   "outputs": [],
   "source": [
    "def func1(a,b,*args):\n",
    "    print(a,b,args)"
   ]
  },
  {
   "cell_type": "code",
   "execution_count": 6,
   "id": "f1eaaae6",
   "metadata": {},
   "outputs": [
    {
     "name": "stdout",
     "output_type": "stream",
     "text": [
      "1 2 (3, 4)\n"
     ]
    }
   ],
   "source": [
    "func1(1,2,3,4)"
   ]
  },
  {
   "cell_type": "code",
   "execution_count": 7,
   "id": "bbbc1eb6",
   "metadata": {},
   "outputs": [],
   "source": [
    "def func1(a,b,*args,d):\n",
    "    print(a,b,args,d)"
   ]
  },
  {
   "cell_type": "code",
   "execution_count": 8,
   "id": "557c0302",
   "metadata": {},
   "outputs": [
    {
     "ename": "TypeError",
     "evalue": "func1() missing 1 required keyword-only argument: 'd'",
     "output_type": "error",
     "traceback": [
      "\u001b[1;31m---------------------------------------------------------------------------\u001b[0m",
      "\u001b[1;31mTypeError\u001b[0m                                 Traceback (most recent call last)",
      "\u001b[1;32m~\\AppData\\Local\\Temp\\ipykernel_14356\\355898616.py\u001b[0m in \u001b[0;36m<module>\u001b[1;34m\u001b[0m\n\u001b[1;32m----> 1\u001b[1;33m \u001b[0mfunc1\u001b[0m\u001b[1;33m(\u001b[0m\u001b[1;36m1\u001b[0m\u001b[1;33m,\u001b[0m\u001b[1;36m2\u001b[0m\u001b[1;33m,\u001b[0m\u001b[1;36m3\u001b[0m\u001b[1;33m,\u001b[0m\u001b[1;36m4\u001b[0m\u001b[1;33m,\u001b[0m\u001b[1;36m5\u001b[0m\u001b[1;33m,\u001b[0m\u001b[1;36m6\u001b[0m\u001b[1;33m)\u001b[0m\u001b[1;33m\u001b[0m\u001b[1;33m\u001b[0m\u001b[0m\n\u001b[0m",
      "\u001b[1;31mTypeError\u001b[0m: func1() missing 1 required keyword-only argument: 'd'"
     ]
    }
   ],
   "source": [
    "func1(1,2,3,4,5,6)"
   ]
  },
  {
   "cell_type": "code",
   "execution_count": 9,
   "id": "4f04a686",
   "metadata": {},
   "outputs": [
    {
     "name": "stdout",
     "output_type": "stream",
     "text": [
      "1 2 (3, 4, 5) 6\n"
     ]
    }
   ],
   "source": [
    "func1(1,2,3,4,5,d=6)"
   ]
  },
  {
   "cell_type": "code",
   "execution_count": 10,
   "id": "4cb8d776",
   "metadata": {},
   "outputs": [],
   "source": [
    "def func1(*args,d):\n",
    "    print(args,d)"
   ]
  },
  {
   "cell_type": "code",
   "execution_count": 11,
   "id": "6004c14f",
   "metadata": {},
   "outputs": [
    {
     "name": "stdout",
     "output_type": "stream",
     "text": [
      "(1, 2, 3) a\n"
     ]
    }
   ],
   "source": [
    "func1(1,2,3,d='a')"
   ]
  },
  {
   "cell_type": "code",
   "execution_count": 12,
   "id": "96001104",
   "metadata": {},
   "outputs": [
    {
     "name": "stdout",
     "output_type": "stream",
     "text": [
      "() a\n"
     ]
    }
   ],
   "source": [
    "func1(d='a')"
   ]
  },
  {
   "cell_type": "code",
   "execution_count": 13,
   "id": "b1162580",
   "metadata": {},
   "outputs": [],
   "source": [
    "def func(*,d):\n",
    "    print(d)"
   ]
  },
  {
   "cell_type": "code",
   "execution_count": 14,
   "id": "029e374f",
   "metadata": {},
   "outputs": [
    {
     "ename": "TypeError",
     "evalue": "func() takes 0 positional arguments but 2 positional arguments (and 1 keyword-only argument) were given",
     "output_type": "error",
     "traceback": [
      "\u001b[1;31m---------------------------------------------------------------------------\u001b[0m",
      "\u001b[1;31mTypeError\u001b[0m                                 Traceback (most recent call last)",
      "\u001b[1;32m~\\AppData\\Local\\Temp\\ipykernel_14356\\3882992718.py\u001b[0m in \u001b[0;36m<module>\u001b[1;34m\u001b[0m\n\u001b[1;32m----> 1\u001b[1;33m \u001b[0mfunc\u001b[0m\u001b[1;33m(\u001b[0m\u001b[1;36m1\u001b[0m\u001b[1;33m,\u001b[0m\u001b[1;36m2\u001b[0m\u001b[1;33m,\u001b[0m\u001b[0md\u001b[0m\u001b[1;33m=\u001b[0m\u001b[1;36m100\u001b[0m\u001b[1;33m)\u001b[0m\u001b[1;33m\u001b[0m\u001b[1;33m\u001b[0m\u001b[0m\n\u001b[0m",
      "\u001b[1;31mTypeError\u001b[0m: func() takes 0 positional arguments but 2 positional arguments (and 1 keyword-only argument) were given"
     ]
    }
   ],
   "source": [
    "func(1,2,d=100)"
   ]
  },
  {
   "cell_type": "code",
   "execution_count": 15,
   "id": "2e9b388b",
   "metadata": {},
   "outputs": [
    {
     "name": "stdout",
     "output_type": "stream",
     "text": [
      "100\n"
     ]
    }
   ],
   "source": [
    "func(d=100)"
   ]
  },
  {
   "cell_type": "code",
   "execution_count": 16,
   "id": "64594a15",
   "metadata": {},
   "outputs": [],
   "source": [
    "def func(a,b,*,d):\n",
    "    print(a,b,d)"
   ]
  },
  {
   "cell_type": "code",
   "execution_count": 19,
   "id": "795d7c68",
   "metadata": {},
   "outputs": [
    {
     "name": "stdout",
     "output_type": "stream",
     "text": [
      "1 2 4\n"
     ]
    }
   ],
   "source": [
    "func(1,2,d=4)"
   ]
  },
  {
   "cell_type": "code",
   "execution_count": 20,
   "id": "21776c6e",
   "metadata": {},
   "outputs": [],
   "source": [
    "def func(a, b=2, *args, d):\n",
    "    print(a,b,args,d)"
   ]
  },
  {
   "cell_type": "code",
   "execution_count": 21,
   "id": "f0efd454",
   "metadata": {},
   "outputs": [
    {
     "name": "stdout",
     "output_type": "stream",
     "text": [
      "1 5 (3, 4) a\n"
     ]
    }
   ],
   "source": [
    "func(1,5,3,4,d='a')"
   ]
  },
  {
   "cell_type": "code",
   "execution_count": 22,
   "id": "493d3feb",
   "metadata": {},
   "outputs": [],
   "source": [
    "def func(a,b=20,*args,d=0,e):\n",
    "    print(a,b,args,d,e)"
   ]
  },
  {
   "cell_type": "code",
   "execution_count": 23,
   "id": "690b6a36",
   "metadata": {},
   "outputs": [
    {
     "name": "stdout",
     "output_type": "stream",
     "text": [
      "5 4 (3, 2, 6) 0 all engines running\n"
     ]
    }
   ],
   "source": [
    "func(5,4,3,2,6,e='all engines running')"
   ]
  },
  {
   "cell_type": "code",
   "execution_count": 24,
   "id": "5103e86c",
   "metadata": {},
   "outputs": [
    {
     "name": "stdout",
     "output_type": "stream",
     "text": [
      "0 600 () good morning python\n"
     ]
    }
   ],
   "source": [
    "func(0,600,d='good morning',e='python')"
   ]
  },
  {
   "cell_type": "code",
   "execution_count": 25,
   "id": "003a181d",
   "metadata": {},
   "outputs": [
    {
     "name": "stdout",
     "output_type": "stream",
     "text": [
      "11 m/s (24, 'mph') unladen swallow\n"
     ]
    }
   ],
   "source": [
    "func(11,'m/s',24,'mph',d='unladen',e='swallow')"
   ]
  },
  {
   "cell_type": "code",
   "execution_count": null,
   "id": "22fc37dd",
   "metadata": {},
   "outputs": [],
   "source": []
  }
 ],
 "metadata": {
  "kernelspec": {
   "display_name": "Python 3 (ipykernel)",
   "language": "python",
   "name": "python3"
  },
  "language_info": {
   "codemirror_mode": {
    "name": "ipython",
    "version": 3
   },
   "file_extension": ".py",
   "mimetype": "text/x-python",
   "name": "python",
   "nbconvert_exporter": "python",
   "pygments_lexer": "ipython3",
   "version": "3.9.13"
  }
 },
 "nbformat": 4,
 "nbformat_minor": 5
}
