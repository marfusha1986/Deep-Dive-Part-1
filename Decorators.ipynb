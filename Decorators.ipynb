{
 "cells": [
  {
   "cell_type": "code",
   "execution_count": 9,
   "id": "9f591110-c244-45a8-9718-5241f5c73d53",
   "metadata": {},
   "outputs": [],
   "source": [
    "def counter (fn):\n",
    "    count = 0\n",
    "\n",
    "    def inner(*args,**kwargs):\n",
    "        nonlocal count\n",
    "        count += 1\n",
    "        print('Function {0} (id={1}) was called {2} times'.format(fn.__name__,id(fn),count))\n",
    "        result = fn(*args,**kwargs)\n",
    "        return result\n",
    "\n",
    "    return inner"
   ]
  },
  {
   "cell_type": "code",
   "execution_count": 10,
   "id": "674122ab-1bd2-423e-af5b-51ead6f51d8c",
   "metadata": {},
   "outputs": [],
   "source": [
    "def add(a:int,b:int=0):\n",
    "    \"\"\"\n",
    "    adds two values\n",
    "    \"\"\"\n",
    "    return a + b"
   ]
  },
  {
   "cell_type": "code",
   "execution_count": 11,
   "id": "cd79ab7a-c259-4e4e-90bc-163539065d0e",
   "metadata": {},
   "outputs": [
    {
     "name": "stdout",
     "output_type": "stream",
     "text": [
      "Help on function add in module __main__:\n",
      "\n",
      "add(a: int, b: int = 0)\n",
      "    adds two values\n",
      "\n"
     ]
    }
   ],
   "source": [
    "help(add)"
   ]
  },
  {
   "cell_type": "code",
   "execution_count": 12,
   "id": "c16bb1d7-f7da-4dec-8818-9df97be8b203",
   "metadata": {},
   "outputs": [
    {
     "data": {
      "text/plain": [
       "2055233600096"
      ]
     },
     "execution_count": 12,
     "metadata": {},
     "output_type": "execute_result"
    }
   ],
   "source": [
    "id(add)"
   ]
  },
  {
   "cell_type": "code",
   "execution_count": 13,
   "id": "e5c3b44a-010d-4f1d-80cf-0f0b093230ab",
   "metadata": {},
   "outputs": [],
   "source": [
    "add = counter(add)"
   ]
  },
  {
   "cell_type": "code",
   "execution_count": 14,
   "id": "7693f377-a7bd-4b8f-974d-d961ca27d137",
   "metadata": {},
   "outputs": [
    {
     "data": {
      "text/plain": [
       "2055233599936"
      ]
     },
     "execution_count": 14,
     "metadata": {},
     "output_type": "execute_result"
    }
   ],
   "source": [
    "id(add)"
   ]
  },
  {
   "cell_type": "code",
   "execution_count": 15,
   "id": "1baa3254-f43a-415a-a9be-e364a21e2497",
   "metadata": {},
   "outputs": [
    {
     "name": "stdout",
     "output_type": "stream",
     "text": [
      "Help on function inner in module __main__:\n",
      "\n",
      "inner(*args, **kwargs)\n",
      "\n"
     ]
    }
   ],
   "source": [
    "help(add)"
   ]
  },
  {
   "cell_type": "code",
   "execution_count": 16,
   "id": "bf3dda61-43e6-432e-a09f-b0e27e09502f",
   "metadata": {},
   "outputs": [
    {
     "name": "stdout",
     "output_type": "stream",
     "text": [
      "Function add (id=2055233600096) was called 1 times\n"
     ]
    },
    {
     "data": {
      "text/plain": [
       "30"
      ]
     },
     "execution_count": 16,
     "metadata": {},
     "output_type": "execute_result"
    }
   ],
   "source": [
    "add(10,20)"
   ]
  },
  {
   "cell_type": "code",
   "execution_count": 17,
   "id": "705d7946-3c8f-41b0-8bbd-eda2d6accc38",
   "metadata": {},
   "outputs": [
    {
     "name": "stdout",
     "output_type": "stream",
     "text": [
      "Function add (id=2055233600096) was called 2 times\n"
     ]
    },
    {
     "data": {
      "text/plain": [
       "60"
      ]
     },
     "execution_count": 17,
     "metadata": {},
     "output_type": "execute_result"
    }
   ],
   "source": [
    "add(20,40)"
   ]
  },
  {
   "cell_type": "code",
   "execution_count": 18,
   "id": "6d8203d0-fad2-48f1-84e9-6c1681f19181",
   "metadata": {},
   "outputs": [
    {
     "name": "stdout",
     "output_type": "stream",
     "text": [
      "Function add (id=2055233600096) was called 3 times\n"
     ]
    },
    {
     "data": {
      "text/plain": [
       "10"
      ]
     },
     "execution_count": 18,
     "metadata": {},
     "output_type": "execute_result"
    }
   ],
   "source": [
    "add(10)"
   ]
  },
  {
   "cell_type": "code",
   "execution_count": 19,
   "id": "0bbfc2bb-7913-43c1-b1b2-e02451e7a5f2",
   "metadata": {},
   "outputs": [],
   "source": [
    "def mult(a:int,b:int,c:int=1,*, d):\n",
    "    \"\"\"\n",
    "    multiplies four values\n",
    "    \"\"\"\n",
    "    return a*b*c*d"
   ]
  },
  {
   "cell_type": "code",
   "execution_count": 21,
   "id": "89e3b707-0486-4b84-842c-92d25d730003",
   "metadata": {},
   "outputs": [
    {
     "data": {
      "text/plain": [
       "24"
      ]
     },
     "execution_count": 21,
     "metadata": {},
     "output_type": "execute_result"
    }
   ],
   "source": [
    "mult(1,2,3,d=4)"
   ]
  },
  {
   "cell_type": "code",
   "execution_count": 22,
   "id": "53aca30f-2db2-427b-9af6-fc37236b4570",
   "metadata": {},
   "outputs": [
    {
     "data": {
      "text/plain": [
       "6"
      ]
     },
     "execution_count": 22,
     "metadata": {},
     "output_type": "execute_result"
    }
   ],
   "source": [
    "mult(1,2,d=3)"
   ]
  },
  {
   "cell_type": "code",
   "execution_count": 23,
   "id": "d446df0c-de88-4e53-89b7-bae5292858c7",
   "metadata": {},
   "outputs": [],
   "source": [
    "mult = counter(mult)"
   ]
  },
  {
   "cell_type": "code",
   "execution_count": 25,
   "id": "448ec1f4-5bc1-43aa-afd3-3a442b9767f7",
   "metadata": {},
   "outputs": [
    {
     "name": "stdout",
     "output_type": "stream",
     "text": [
      "Help on function inner in module __main__:\n",
      "\n",
      "inner(*args, **kwargs)\n",
      "\n"
     ]
    }
   ],
   "source": [
    "help(mult)"
   ]
  },
  {
   "cell_type": "code",
   "execution_count": 27,
   "id": "ea709b08-67af-4a29-847f-7479d6dd19bd",
   "metadata": {},
   "outputs": [
    {
     "name": "stdout",
     "output_type": "stream",
     "text": [
      "Function mult (id=2055233598336) was called 1 times\n"
     ]
    },
    {
     "data": {
      "text/plain": [
       "24"
      ]
     },
     "execution_count": 27,
     "metadata": {},
     "output_type": "execute_result"
    }
   ],
   "source": [
    "mult(1,2,3,d=4)"
   ]
  },
  {
   "cell_type": "code",
   "execution_count": 30,
   "id": "fdcf6664-cd70-40ae-97f1-3a41c9c1adbe",
   "metadata": {},
   "outputs": [],
   "source": [
    "@counter\n",
    "def my_func(s:str,i:int)->str:\n",
    "    return s * i"
   ]
  },
  {
   "cell_type": "code",
   "execution_count": 31,
   "id": "49761f6b-144d-4dd3-98a9-00cb57afffbe",
   "metadata": {},
   "outputs": [
    {
     "name": "stdout",
     "output_type": "stream",
     "text": [
      "Help on function inner in module __main__:\n",
      "\n",
      "inner(*args, **kwargs)\n",
      "\n"
     ]
    }
   ],
   "source": [
    "help(my_func)"
   ]
  },
  {
   "cell_type": "code",
   "execution_count": 32,
   "id": "3c926363-b096-4bb7-9a63-0c4eedc9148b",
   "metadata": {},
   "outputs": [
    {
     "name": "stdout",
     "output_type": "stream",
     "text": [
      "Function my_func (id=2055234841760) was called 1 times\n"
     ]
    },
    {
     "data": {
      "text/plain": [
       "'aaaaaaaaaa'"
      ]
     },
     "execution_count": 32,
     "metadata": {},
     "output_type": "execute_result"
    }
   ],
   "source": [
    "my_func('a',10)"
   ]
  },
  {
   "cell_type": "code",
   "execution_count": 33,
   "id": "1ff63673-efc4-4d7a-a249-ec425cb3d59b",
   "metadata": {},
   "outputs": [
    {
     "name": "stdout",
     "output_type": "stream",
     "text": [
      "Help on function inner in module __main__:\n",
      "\n",
      "inner(*args, **kwargs)\n",
      "\n"
     ]
    }
   ],
   "source": [
    "help(my_func)"
   ]
  },
  {
   "cell_type": "code",
   "execution_count": 34,
   "id": "d70fd2e2-e00c-48cb-8595-9f85a610f3fa",
   "metadata": {},
   "outputs": [
    {
     "name": "stdout",
     "output_type": "stream",
     "text": [
      "Help on function inner in module __main__:\n",
      "\n",
      "inner(*args, **kwargs)\n",
      "\n"
     ]
    }
   ],
   "source": [
    "help(mult)"
   ]
  },
  {
   "cell_type": "code",
   "execution_count": 35,
   "id": "fd3c271e-f81d-4faf-830e-0313ef457137",
   "metadata": {},
   "outputs": [
    {
     "data": {
      "text/plain": [
       "'inner'"
      ]
     },
     "execution_count": 35,
     "metadata": {},
     "output_type": "execute_result"
    }
   ],
   "source": [
    "mult.__name__"
   ]
  },
  {
   "cell_type": "code",
   "execution_count": 36,
   "id": "1dea5303-e9d4-42f8-95b4-1ae45956936e",
   "metadata": {},
   "outputs": [],
   "source": [
    "mult.__doc__"
   ]
  },
  {
   "cell_type": "code",
   "execution_count": 41,
   "id": "2640beb5-b21e-48f5-9676-0901a50be68b",
   "metadata": {},
   "outputs": [],
   "source": [
    "def counter (fn):\n",
    "    count = 0\n",
    "\n",
    "    def inner(*args,**kwargs):\n",
    "        \"\"\"\n",
    "        this is the inner closure\n",
    "        \"\"\"\n",
    "        nonlocal count\n",
    "        count += 1\n",
    "        print('Function {0} (id={1}) was called {2} times'.format(fn.__name__,id(fn),count))\n",
    "        result = fn(*args,**kwargs)\n",
    "        return result\n",
    "    inner.__name__ = fn.__name__\n",
    "    inner.__doc__  = fn.__doc__\n",
    "    return inner"
   ]
  },
  {
   "cell_type": "code",
   "execution_count": 42,
   "id": "cbe2842d-da19-4b25-9100-79d4c3d08879",
   "metadata": {},
   "outputs": [],
   "source": [
    "def mult(a:int,b:int,c:int=1,*, d):\n",
    "    \"\"\"\n",
    "    multiplies four values\n",
    "    \"\"\"\n",
    "    return a*b*c*d"
   ]
  },
  {
   "cell_type": "code",
   "execution_count": 43,
   "id": "95f37c52-a1dd-4ed3-b957-2e90782b9ec7",
   "metadata": {},
   "outputs": [],
   "source": [
    "mult=counter(mult)"
   ]
  },
  {
   "cell_type": "code",
   "execution_count": 44,
   "id": "edd74a1b-97f6-489d-86e0-44ca1182b873",
   "metadata": {},
   "outputs": [
    {
     "name": "stdout",
     "output_type": "stream",
     "text": [
      "Help on function mult in module __main__:\n",
      "\n",
      "mult(*args, **kwargs)\n",
      "    multiplies four values\n",
      "\n"
     ]
    }
   ],
   "source": [
    "help(mult)"
   ]
  },
  {
   "cell_type": "code",
   "execution_count": 45,
   "id": "03e3a415-2ed5-4b8f-923d-d1becf5ca67e",
   "metadata": {},
   "outputs": [],
   "source": [
    "from functools import wraps"
   ]
  },
  {
   "cell_type": "code",
   "execution_count": 46,
   "id": "e4709374-5de8-44e9-8500-892550ed79e2",
   "metadata": {},
   "outputs": [],
   "source": [
    "def counter (fn):\n",
    "    count = 0\n",
    "\n",
    "    @wraps(fn)\n",
    "    def inner(*args,**kwargs):\n",
    "        \"\"\"\n",
    "        this is the inner closure\n",
    "        \"\"\"\n",
    "        nonlocal count\n",
    "        count += 1\n",
    "        print('Function {0} (id={1}) was called {2} times'.format(fn.__name__,id(fn),count))\n",
    "        result = fn(*args,**kwargs)\n",
    "        return result\n",
    "    inner = wraps(fn)(inner)\n",
    "    return inner"
   ]
  },
  {
   "cell_type": "code",
   "execution_count": null,
   "id": "2c5b7afd-5ee4-4b19-848a-ce5c75a0d4c4",
   "metadata": {},
   "outputs": [],
   "source": []
  }
 ],
 "metadata": {
  "kernelspec": {
   "display_name": "Python 3 (ipykernel)",
   "language": "python",
   "name": "python3"
  },
  "language_info": {
   "codemirror_mode": {
    "name": "ipython",
    "version": 3
   },
   "file_extension": ".py",
   "mimetype": "text/x-python",
   "name": "python",
   "nbconvert_exporter": "python",
   "pygments_lexer": "ipython3",
   "version": "3.11.5"
  }
 },
 "nbformat": 4,
 "nbformat_minor": 5
}
