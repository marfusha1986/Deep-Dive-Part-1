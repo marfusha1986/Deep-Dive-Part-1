{
 "cells": [
  {
   "cell_type": "code",
   "execution_count": 1,
   "id": "42fed78b",
   "metadata": {},
   "outputs": [],
   "source": [
    "from datetime import datetime"
   ]
  },
  {
   "cell_type": "code",
   "execution_count": 2,
   "id": "9c7666ab",
   "metadata": {},
   "outputs": [
    {
     "data": {
      "text/plain": [
       "datetime.datetime(2023, 11, 21, 12, 59, 45, 501700)"
      ]
     },
     "execution_count": 2,
     "metadata": {},
     "output_type": "execute_result"
    }
   ],
   "source": [
    "datetime.utcnow()"
   ]
  },
  {
   "cell_type": "code",
   "execution_count": 3,
   "id": "636489e2",
   "metadata": {},
   "outputs": [
    {
     "name": "stdout",
     "output_type": "stream",
     "text": [
      "2023-11-21 13:41:51.381228\n"
     ]
    }
   ],
   "source": [
    "print(datetime.utcnow())"
   ]
  },
  {
   "cell_type": "code",
   "execution_count": 4,
   "id": "5305cb5b",
   "metadata": {},
   "outputs": [
    {
     "name": "stdout",
     "output_type": "stream",
     "text": [
      "2023-11-21 13:42:26.761195\n"
     ]
    }
   ],
   "source": [
    "print(datetime.utcnow())"
   ]
  },
  {
   "cell_type": "code",
   "execution_count": 5,
   "id": "a1b1a97e",
   "metadata": {},
   "outputs": [
    {
     "name": "stdout",
     "output_type": "stream",
     "text": [
      "2023-11-21 13:42:35.946852\n"
     ]
    }
   ],
   "source": [
    "print(datetime.utcnow())"
   ]
  },
  {
   "cell_type": "code",
   "execution_count": 6,
   "id": "7d1457e7",
   "metadata": {},
   "outputs": [],
   "source": [
    "def log(msg,dt=datetime.utcnow()):\n",
    "    print('{0}: {1}'.format(dt,msg))"
   ]
  },
  {
   "cell_type": "code",
   "execution_count": 7,
   "id": "862bd1ea",
   "metadata": {},
   "outputs": [
    {
     "name": "stdout",
     "output_type": "stream",
     "text": [
      "2010-01-01 00:00:00.000: message1\n"
     ]
    }
   ],
   "source": [
    "log('message1',dt='2010-01-01 00:00:00.000')"
   ]
  },
  {
   "cell_type": "code",
   "execution_count": 8,
   "id": "50483c3c",
   "metadata": {},
   "outputs": [
    {
     "name": "stdout",
     "output_type": "stream",
     "text": [
      "2023-11-21 13:45:06.356414: message2\n"
     ]
    }
   ],
   "source": [
    "log('message2')"
   ]
  },
  {
   "cell_type": "code",
   "execution_count": 9,
   "id": "e23ed1cd",
   "metadata": {},
   "outputs": [
    {
     "name": "stdout",
     "output_type": "stream",
     "text": [
      "2023-11-21 13:45:06.356414: message 3\n"
     ]
    }
   ],
   "source": [
    "log('message 3')"
   ]
  },
  {
   "cell_type": "code",
   "execution_count": 16,
   "id": "ddc05b37",
   "metadata": {},
   "outputs": [],
   "source": [
    "def log(msg, dt=None):\n",
    "    dt = dt or datetime.utcnow()\n",
    "#     if  not dt:\n",
    "#         dt=datetime.utcnow()\n",
    "    print('{0}: {1}'.format(dt,msg))"
   ]
  },
  {
   "cell_type": "code",
   "execution_count": 17,
   "id": "a80f9705",
   "metadata": {},
   "outputs": [
    {
     "name": "stdout",
     "output_type": "stream",
     "text": [
      "2010-01-01: message 1\n"
     ]
    }
   ],
   "source": [
    "log('message 1',dt='2010-01-01')"
   ]
  },
  {
   "cell_type": "code",
   "execution_count": 18,
   "id": "f6b852cf",
   "metadata": {},
   "outputs": [
    {
     "name": "stdout",
     "output_type": "stream",
     "text": [
      "2023-11-21 13:51:02.544373: message2\n"
     ]
    }
   ],
   "source": [
    "log('message2')"
   ]
  },
  {
   "cell_type": "code",
   "execution_count": 19,
   "id": "4e318dfb",
   "metadata": {},
   "outputs": [
    {
     "name": "stdout",
     "output_type": "stream",
     "text": [
      "2023-11-21 13:51:03.080026: message3\n"
     ]
    }
   ],
   "source": [
    "log('message3')"
   ]
  },
  {
   "cell_type": "code",
   "execution_count": 20,
   "id": "3febac02",
   "metadata": {},
   "outputs": [
    {
     "name": "stdout",
     "output_type": "stream",
     "text": [
      "2023-11-21 13:51:32.349098: message 4\n"
     ]
    }
   ],
   "source": [
    "log('message 4',dt=None)"
   ]
  },
  {
   "cell_type": "code",
   "execution_count": 21,
   "id": "0e47323e",
   "metadata": {},
   "outputs": [],
   "source": [
    "my_list = [1,2,3]\n",
    "def func(a = my_list):\n",
    "    print(a)\n"
   ]
  },
  {
   "cell_type": "code",
   "execution_count": 22,
   "id": "3ed3fcd2",
   "metadata": {},
   "outputs": [
    {
     "name": "stdout",
     "output_type": "stream",
     "text": [
      "[1, 2, 3]\n"
     ]
    }
   ],
   "source": [
    "func()"
   ]
  },
  {
   "cell_type": "code",
   "execution_count": 23,
   "id": "658f802a",
   "metadata": {},
   "outputs": [],
   "source": [
    "my_list.append(4)"
   ]
  },
  {
   "cell_type": "code",
   "execution_count": 24,
   "id": "0c43d328",
   "metadata": {},
   "outputs": [
    {
     "name": "stdout",
     "output_type": "stream",
     "text": [
      "[1, 2, 3, 4]\n"
     ]
    }
   ],
   "source": [
    "func()"
   ]
  },
  {
   "cell_type": "code",
   "execution_count": null,
   "id": "2cb718b1",
   "metadata": {},
   "outputs": [],
   "source": []
  }
 ],
 "metadata": {
  "kernelspec": {
   "display_name": "Python 3 (ipykernel)",
   "language": "python",
   "name": "python3"
  },
  "language_info": {
   "codemirror_mode": {
    "name": "ipython",
    "version": 3
   },
   "file_extension": ".py",
   "mimetype": "text/x-python",
   "name": "python",
   "nbconvert_exporter": "python",
   "pygments_lexer": "ipython3",
   "version": "3.9.13"
  }
 },
 "nbformat": 4,
 "nbformat_minor": 5
}
