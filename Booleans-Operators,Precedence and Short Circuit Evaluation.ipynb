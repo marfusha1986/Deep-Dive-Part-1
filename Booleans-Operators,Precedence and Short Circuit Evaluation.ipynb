{
 "cells": [
  {
   "cell_type": "markdown",
   "id": "5b3f81b2",
   "metadata": {},
   "source": [
    "not --> and --> or"
   ]
  },
  {
   "cell_type": "code",
   "execution_count": 13,
   "id": "051ef1b9",
   "metadata": {},
   "outputs": [
    {
     "data": {
      "text/plain": [
       "True"
      ]
     },
     "execution_count": 13,
     "metadata": {},
     "output_type": "execute_result"
    }
   ],
   "source": [
    "True or True and False"
   ]
  },
  {
   "cell_type": "code",
   "execution_count": 14,
   "id": "6634592e",
   "metadata": {},
   "outputs": [
    {
     "data": {
      "text/plain": [
       "True"
      ]
     },
     "execution_count": 14,
     "metadata": {},
     "output_type": "execute_result"
    }
   ],
   "source": [
    "True or (True and False)"
   ]
  },
  {
   "cell_type": "code",
   "execution_count": 15,
   "id": "ed1f6988",
   "metadata": {},
   "outputs": [
    {
     "data": {
      "text/plain": [
       "False"
      ]
     },
     "execution_count": 15,
     "metadata": {},
     "output_type": "execute_result"
    }
   ],
   "source": [
    "(True or True) and False"
   ]
  },
  {
   "cell_type": "markdown",
   "id": "4ca03529",
   "metadata": {},
   "source": [
    "#Short-Circuiting"
   ]
  },
  {
   "cell_type": "markdown",
   "id": "d9a5c6cf",
   "metadata": {},
   "source": [
    "#### True or Y --> True\n",
    "|\n",
    "#### False and Y --> False"
   ]
  },
  {
   "cell_type": "code",
   "execution_count": 16,
   "id": "6aadd22a",
   "metadata": {},
   "outputs": [
    {
     "name": "stdout",
     "output_type": "stream",
     "text": [
      "a is at leats twice b\n"
     ]
    }
   ],
   "source": [
    "a = 10\n",
    "b = 2\n",
    "\n",
    "if a/b > 2:\n",
    "    print('a is at leats twice b')"
   ]
  },
  {
   "cell_type": "code",
   "execution_count": 17,
   "id": "e9b7c832",
   "metadata": {},
   "outputs": [
    {
     "ename": "ZeroDivisionError",
     "evalue": "division by zero",
     "output_type": "error",
     "traceback": [
      "\u001b[1;31m---------------------------------------------------------------------------\u001b[0m",
      "\u001b[1;31mZeroDivisionError\u001b[0m                         Traceback (most recent call last)",
      "\u001b[1;32m~\\AppData\\Local\\Temp\\ipykernel_17008\\2969540269.py\u001b[0m in \u001b[0;36m<module>\u001b[1;34m\u001b[0m\n\u001b[0;32m      2\u001b[0m \u001b[0mb\u001b[0m \u001b[1;33m=\u001b[0m \u001b[1;36m0\u001b[0m\u001b[1;33m\u001b[0m\u001b[1;33m\u001b[0m\u001b[0m\n\u001b[0;32m      3\u001b[0m \u001b[1;33m\u001b[0m\u001b[0m\n\u001b[1;32m----> 4\u001b[1;33m \u001b[1;32mif\u001b[0m \u001b[0ma\u001b[0m\u001b[1;33m/\u001b[0m\u001b[0mb\u001b[0m \u001b[1;33m>\u001b[0m \u001b[1;36m2\u001b[0m\u001b[1;33m:\u001b[0m\u001b[1;33m\u001b[0m\u001b[1;33m\u001b[0m\u001b[0m\n\u001b[0m\u001b[0;32m      5\u001b[0m     \u001b[0mprint\u001b[0m\u001b[1;33m(\u001b[0m\u001b[1;34m'a is at least twice b'\u001b[0m\u001b[1;33m)\u001b[0m\u001b[1;33m\u001b[0m\u001b[1;33m\u001b[0m\u001b[0m\n",
      "\u001b[1;31mZeroDivisionError\u001b[0m: division by zero"
     ]
    }
   ],
   "source": [
    "a = 10\n",
    "b = 0\n",
    "\n",
    "if a/b > 2:\n",
    "    print('a is at least twice b')"
   ]
  },
  {
   "cell_type": "code",
   "execution_count": null,
   "id": "39024952",
   "metadata": {},
   "outputs": [],
   "source": [
    "a = 10\n",
    "b = 0\n",
    "\n",
    "if b > 0 and a/b > 2   :\n",
    "    print('a is at least twice b')"
   ]
  },
  {
   "cell_type": "code",
   "execution_count": null,
   "id": "e4f41362",
   "metadata": {},
   "outputs": [],
   "source": [
    "import string\n"
   ]
  },
  {
   "cell_type": "code",
   "execution_count": null,
   "id": "7ff2db53",
   "metadata": {},
   "outputs": [],
   "source": [
    "help(string)"
   ]
  },
  {
   "cell_type": "code",
   "execution_count": 18,
   "id": "956aeedd",
   "metadata": {},
   "outputs": [
    {
     "data": {
      "text/plain": [
       "False"
      ]
     },
     "execution_count": 18,
     "metadata": {},
     "output_type": "execute_result"
    }
   ],
   "source": [
    "a = 'c'\n",
    "a in string.ascii_uppercase"
   ]
  },
  {
   "cell_type": "code",
   "execution_count": 24,
   "id": "7fa81f65",
   "metadata": {},
   "outputs": [
    {
     "data": {
      "text/plain": [
       "'ABCDEFGHIJKLMNOPQRSTUVWXYZ'"
      ]
     },
     "execution_count": 24,
     "metadata": {},
     "output_type": "execute_result"
    }
   ],
   "source": [
    "string.ascii_uppercase"
   ]
  },
  {
   "cell_type": "code",
   "execution_count": 25,
   "id": "25fe359f",
   "metadata": {},
   "outputs": [
    {
     "data": {
      "text/plain": [
       "'0123456789'"
      ]
     },
     "execution_count": 25,
     "metadata": {},
     "output_type": "execute_result"
    }
   ],
   "source": [
    "string.digits"
   ]
  },
  {
   "cell_type": "code",
   "execution_count": 27,
   "id": "f22dfd02",
   "metadata": {},
   "outputs": [
    {
     "data": {
      "text/plain": [
       "'abcdefghijklmnopqrstuvwxyz'"
      ]
     },
     "execution_count": 27,
     "metadata": {},
     "output_type": "execute_result"
    }
   ],
   "source": [
    "string.ascii_lowercase"
   ]
  },
  {
   "cell_type": "code",
   "execution_count": 28,
   "id": "e8151f0c",
   "metadata": {},
   "outputs": [
    {
     "data": {
      "text/plain": [
       "'ABCDEFGHIJKLMNOPQRSTUVWXYZ'"
      ]
     },
     "execution_count": 28,
     "metadata": {},
     "output_type": "execute_result"
    }
   ],
   "source": [
    "string.ascii_uppercase"
   ]
  },
  {
   "cell_type": "code",
   "execution_count": 30,
   "id": "b8e7395e",
   "metadata": {},
   "outputs": [
    {
     "data": {
      "text/plain": [
       "'abcdefghijklmnopqrstuvwxyzABCDEFGHIJKLMNOPQRSTUVWXYZ'"
      ]
     },
     "execution_count": 30,
     "metadata": {},
     "output_type": "execute_result"
    }
   ],
   "source": [
    "string.ascii_letters"
   ]
  },
  {
   "cell_type": "code",
   "execution_count": 32,
   "id": "83964720",
   "metadata": {},
   "outputs": [],
   "source": [
    "name = 'Bob'\n",
    "if name[0] in string.digits:\n",
    "    print('Name cannot start with a digit.')"
   ]
  },
  {
   "cell_type": "code",
   "execution_count": 34,
   "id": "3235b66a",
   "metadata": {},
   "outputs": [],
   "source": [
    "name = ''\n",
    "if len(name) and name[0] in string.digits:\n",
    "    print('Name cannot start with a digits.')"
   ]
  },
  {
   "cell_type": "code",
   "execution_count": 35,
   "id": "559e1feb",
   "metadata": {},
   "outputs": [],
   "source": [
    "name = None\n",
    "if name is not None and len(name) > 0 and name[0] in string.digits:\n",
    "    print('Name cannot start with a digits.')"
   ]
  },
  {
   "cell_type": "code",
   "execution_count": null,
   "id": "b689f307",
   "metadata": {},
   "outputs": [],
   "source": []
  }
 ],
 "metadata": {
  "kernelspec": {
   "display_name": "Python 3 (ipykernel)",
   "language": "python",
   "name": "python3"
  },
  "language_info": {
   "codemirror_mode": {
    "name": "ipython",
    "version": 3
   },
   "file_extension": ".py",
   "mimetype": "text/x-python",
   "name": "python",
   "nbconvert_exporter": "python",
   "pygments_lexer": "ipython3",
   "version": "3.9.13"
  }
 },
 "nbformat": 4,
 "nbformat_minor": 5
}
