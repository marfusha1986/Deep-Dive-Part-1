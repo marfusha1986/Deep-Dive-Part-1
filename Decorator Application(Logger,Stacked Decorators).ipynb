{
 "cells": [
  {
   "cell_type": "code",
   "execution_count": 1,
   "id": "20d3ca5d",
   "metadata": {},
   "outputs": [],
   "source": [
    "def logged(fn):\n",
    "    from functools import wraps\n",
    "    from datetime import datetime,timezone\n",
    "\n",
    "    @wraps(fn)\n",
    "    def inner(*args,**kwargs):\n",
    "        run_dt = datetime.now(timezone.utc)\n",
    "        result = fn(*args,**kwargs)\n",
    "        print('{0}:called {1}'.format(run_dt,fn.__name__))\n",
    "        return result\n",
    "\n",
    "    return inner"
   ]
  },
  {
   "cell_type": "code",
   "execution_count": 2,
   "id": "02ada3eb-76ef-42e1-a2f4-692736e21e72",
   "metadata": {},
   "outputs": [],
   "source": [
    "@logged\n",
    "def func_1():\n",
    "    pass"
   ]
  },
  {
   "cell_type": "code",
   "execution_count": 3,
   "id": "933b3ff7-8f8a-4387-af85-650cb8337945",
   "metadata": {},
   "outputs": [],
   "source": [
    "@logged\n",
    "def func_2():\n",
    "    pass"
   ]
  },
  {
   "cell_type": "code",
   "execution_count": 4,
   "id": "054f0b98-8334-46e3-922b-ad8fac341b72",
   "metadata": {},
   "outputs": [
    {
     "name": "stdout",
     "output_type": "stream",
     "text": [
      "2024-02-05 13:07:52.771242+00:00:called func_1\n"
     ]
    }
   ],
   "source": [
    "func_1()"
   ]
  },
  {
   "cell_type": "code",
   "execution_count": 5,
   "id": "74dcd713-f0bc-4348-a214-12cf359d3b50",
   "metadata": {},
   "outputs": [
    {
     "name": "stdout",
     "output_type": "stream",
     "text": [
      "2024-02-05 13:07:53.778449+00:00:called func_2\n"
     ]
    }
   ],
   "source": [
    "func_2()"
   ]
  },
  {
   "cell_type": "code",
   "execution_count": 6,
   "id": "229c6369-ba48-4c1a-8ccb-4161bef6c127",
   "metadata": {},
   "outputs": [],
   "source": [
    "def timed(fn):\n",
    "    from time import perf_counter\n",
    "    from functools import wraps\n",
    "\n",
    "    @wraps(fn)\n",
    "    def inner(*args,**kwargs):\n",
    "        start = perf_counter()\n",
    "        result = fn(*args,**kwargs)\n",
    "        end = perf_counter()\n",
    "        print('{0}({1}) run for {1:.6f}s.'.format(fn.__name__,\n",
    "                                                  end-start))\n",
    "        return result\n",
    "    return inner"
   ]
  },
  {
   "cell_type": "code",
   "execution_count": 16,
   "id": "d462d63e-2756-4942-8e53-43e65cced33c",
   "metadata": {},
   "outputs": [],
   "source": [
    "@logged\n",
    "@timed\n",
    "def fact(n):\n",
    "    from operator import mul\n",
    "    from functools import reduce\n",
    "\n",
    "    return reduce(mul,range(1,n+1))"
   ]
  },
  {
   "cell_type": "code",
   "execution_count": 17,
   "id": "46313322-c195-4520-8e2e-3276d889725f",
   "metadata": {},
   "outputs": [
    {
     "name": "stdout",
     "output_type": "stream",
     "text": [
      "fact(9.700015652924776e-06) run for 0.000010s.\n",
      "2024-02-05 13:21:17.306653+00:00:called fact\n"
     ]
    },
    {
     "data": {
      "text/plain": [
       "120"
      ]
     },
     "execution_count": 17,
     "metadata": {},
     "output_type": "execute_result"
    }
   ],
   "source": [
    "fact(5)"
   ]
  },
  {
   "cell_type": "markdown",
   "id": "0581ac14-decb-4252-a659-413bed7c7c79",
   "metadata": {},
   "source": [
    "fact = logged(timed(fact)) is the same \n",
    "@logged\n",
    "@timed\n",
    "def fact(n):\n",
    "    from operator import mul\n",
    "    from functools import reduce\n",
    "\n",
    "    return reduce(mul,range(1,n+1))\n"
   ]
  },
  {
   "cell_type": "code",
   "execution_count": 18,
   "id": "5319dcf3-1001-4a34-9d22-5935ddaf2ceb",
   "metadata": {},
   "outputs": [
    {
     "name": "stdout",
     "output_type": "stream",
     "text": [
      "fact(9.100011084228754e-06) run for 0.000009s.\n",
      "2024-02-05 13:21:18.602888+00:00:called fact\n"
     ]
    },
    {
     "data": {
      "text/plain": [
       "6"
      ]
     },
     "execution_count": 18,
     "metadata": {},
     "output_type": "execute_result"
    }
   ],
   "source": [
    "fact(3)"
   ]
  },
  {
   "cell_type": "markdown",
   "id": "69bbef8d-f523-4c2e-aca5-511878e52a76",
   "metadata": {},
   "source": [
    "---------------"
   ]
  },
  {
   "cell_type": "code",
   "execution_count": 42,
   "id": "56b80dea-0142-4d4e-9521-12afee398d31",
   "metadata": {},
   "outputs": [],
   "source": [
    "def dec_1(fn):\n",
    "    def inner():\n",
    "        result = fn()\n",
    "        print('Ruuning dec_1')\n",
    "        return result\n",
    "    return inner"
   ]
  },
  {
   "cell_type": "code",
   "execution_count": 43,
   "id": "15369ae3-17e8-4419-a611-7096342d3e74",
   "metadata": {},
   "outputs": [],
   "source": [
    "def dec_2(fn):\n",
    "    def inner():\n",
    "        result = fn()\n",
    "        print('Ruuning dec_2')\n",
    "        return result\n",
    "    return inner"
   ]
  },
  {
   "cell_type": "code",
   "execution_count": 44,
   "id": "4b7691c0-b8cb-4242-8fb6-bb8bc7a11d6d",
   "metadata": {},
   "outputs": [],
   "source": [
    "@dec_1\n",
    "@dec_2\n",
    "@logged\n",
    "@timed\n",
    "\n",
    "def my_func():\n",
    "    print('Running my_func')"
   ]
  },
  {
   "cell_type": "markdown",
   "id": "149275e6-de92-4138-91f2-76c79503eb4c",
   "metadata": {},
   "source": [
    "###my_func = dec_1(dec_2(my_func))"
   ]
  },
  {
   "cell_type": "code",
   "execution_count": 45,
   "id": "d9383066-deaa-4a25-a369-3314b522f6c3",
   "metadata": {},
   "outputs": [
    {
     "name": "stdout",
     "output_type": "stream",
     "text": [
      "Running my_func\n",
      "my_func(0.000179499969817698) run for 0.000179s.\n",
      "2024-02-05 13:32:39.963819+00:00:called my_func\n",
      "Ruuning dec_2\n",
      "Ruuning dec_1\n"
     ]
    }
   ],
   "source": [
    "my_func()"
   ]
  },
  {
   "cell_type": "raw",
   "id": "72c5225a-87ac-4178-8170-9b2dc6c721b0",
   "metadata": {},
   "source": [
    "''\n",
    "@auth\n",
    "@logged\n",
    "''"
   ]
  },
  {
   "cell_type": "raw",
   "id": "273e676f-e5da-47e0-96d4-05c386a9941f",
   "metadata": {},
   "source": [
    "@looged\n",
    "@auth\n",
    "def save_resource():\n",
    "pass"
   ]
  },
  {
   "cell_type": "raw",
   "id": "aa36b205-c7c0-4681-9d1a-4da4bdd0e4cb",
   "metadata": {},
   "source": [
    "save_resource = logged(auth(save_resource))"
   ]
  },
  {
   "cell_type": "code",
   "execution_count": null,
   "id": "e2074263-c480-446f-8189-f982aa506b28",
   "metadata": {},
   "outputs": [],
   "source": []
  }
 ],
 "metadata": {
  "kernelspec": {
   "display_name": "Python 3 (ipykernel)",
   "language": "python",
   "name": "python3"
  },
  "language_info": {
   "codemirror_mode": {
    "name": "ipython",
    "version": 3
   },
   "file_extension": ".py",
   "mimetype": "text/x-python",
   "name": "python",
   "nbconvert_exporter": "python",
   "pygments_lexer": "ipython3",
   "version": "3.11.5"
  }
 },
 "nbformat": 4,
 "nbformat_minor": 5
}
