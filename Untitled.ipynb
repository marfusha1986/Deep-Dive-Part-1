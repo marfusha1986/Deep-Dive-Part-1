{
 "cells": [
  {
   "cell_type": "markdown",
   "id": "569b4a1e-aaef-4f36-997f-b125a2991ffe",
   "metadata": {},
   "source": [
    "**Don`t use *args and** '**kwargs' Names Blindly**"
   ]
  },
  {
   "cell_type": "code",
   "execution_count": 8,
   "id": "0cd0e909-a826-4efe-898b-53118e85a94f",
   "metadata": {},
   "outputs": [],
   "source": [
    "def audit(func):\n",
    "    def inner(*args, **kwargs):\n",
    "        print(f'Called {func.__name__}')\n",
    "        return func(*args,**kwargs)\n",
    "    return inner"
   ]
  },
  {
   "cell_type": "code",
   "execution_count": 9,
   "id": "42d65a00-e2e4-4c2f-b184-4f1fa2c4b375",
   "metadata": {},
   "outputs": [],
   "source": [
    "@audit\n",
    "def say_hello(name):\n",
    "    return f'Hello {name}'\n",
    "\n",
    "from operator import mul\n",
    "from functools import reduce\n",
    "\n",
    "@audit\n",
    "def product(*values):\n",
    "    return reduce(mul,values)"
   ]
  },
  {
   "cell_type": "code",
   "execution_count": 10,
   "id": "d1612760-6029-4bcf-807a-2e94bde2e5f6",
   "metadata": {},
   "outputs": [
    {
     "name": "stdout",
     "output_type": "stream",
     "text": [
      "Called say_hello\n"
     ]
    },
    {
     "data": {
      "text/plain": [
       "'Hello Poly'"
      ]
     },
     "execution_count": 10,
     "metadata": {},
     "output_type": "execute_result"
    }
   ],
   "source": [
    "say_hello(name='Poly')"
   ]
  },
  {
   "cell_type": "code",
   "execution_count": 11,
   "id": "18497e30-43eb-478b-af2a-d0eea211eecc",
   "metadata": {},
   "outputs": [
    {
     "name": "stdout",
     "output_type": "stream",
     "text": [
      "Called product\n"
     ]
    },
    {
     "data": {
      "text/plain": [
       "120"
      ]
     },
     "execution_count": 11,
     "metadata": {},
     "output_type": "execute_result"
    }
   ],
   "source": [
    "product(1,2,5,3,4)"
   ]
  },
  {
   "cell_type": "code",
   "execution_count": 14,
   "id": "ae4ecd74-8cb8-4c66-9713-620611df3cf2",
   "metadata": {},
   "outputs": [],
   "source": [
    "class Person:\n",
    "    def __init__(self,name,age,**custom_attributes):\n",
    "        self.name = name\n",
    "        self.age = age\n",
    "        for attr_name,attr_value in custom_attributes.items():\n",
    "            setattr(self,attr_name,attr_value)"
   ]
  },
  {
   "cell_type": "code",
   "execution_count": 15,
   "id": "d0a366f8-e144-433c-815f-208e95337800",
   "metadata": {},
   "outputs": [],
   "source": [
    "parrot= Person('Polly',101,status='stiff',vooms=False)"
   ]
  },
  {
   "cell_type": "code",
   "execution_count": 16,
   "id": "7a1d84c3-c233-435e-8d34-117ff848b832",
   "metadata": {},
   "outputs": [
    {
     "name": "stdout",
     "output_type": "stream",
     "text": [
      "{'name': 'Polly', 'age': 101, 'status': 'stiff', 'vooms': False}\n"
     ]
    }
   ],
   "source": [
    "print(vars(parrot))"
   ]
  },
  {
   "cell_type": "code",
   "execution_count": null,
   "id": "f967ff1c-0b16-44e2-8d99-2fa1ebb00f42",
   "metadata": {},
   "outputs": [],
   "source": []
  }
 ],
 "metadata": {
  "kernelspec": {
   "display_name": "Python 3 (ipykernel)",
   "language": "python",
   "name": "python3"
  },
  "language_info": {
   "codemirror_mode": {
    "name": "ipython",
    "version": 3
   },
   "file_extension": ".py",
   "mimetype": "text/x-python",
   "name": "python",
   "nbconvert_exporter": "python",
   "pygments_lexer": "ipython3",
   "version": "3.11.5"
  },
  "widgets": {
   "application/vnd.jupyter.widget-state+json": {
    "state": {},
    "version_major": 2,
    "version_minor": 0
   }
  }
 },
 "nbformat": 4,
 "nbformat_minor": 5
}
