{
 "cells": [
  {
   "cell_type": "code",
   "execution_count": 60,
   "id": "9e0b7c91",
   "metadata": {},
   "outputs": [],
   "source": [
    "l = [1,5,7,9,8]"
   ]
  },
  {
   "cell_type": "code",
   "execution_count": 61,
   "id": "8283bdc3",
   "metadata": {},
   "outputs": [],
   "source": [
    "_max = lambda x,y: x if x > y else y"
   ]
  },
  {
   "cell_type": "code",
   "execution_count": 62,
   "id": "e6d8885e",
   "metadata": {},
   "outputs": [],
   "source": [
    "def max_sequence(sequence):\n",
    "    result = sequence[0]\n",
    "    for x in sequence[1:]:\n",
    "        result = _max(result,x)\n",
    "    return result"
   ]
  },
  {
   "cell_type": "code",
   "execution_count": 63,
   "id": "7068e46e",
   "metadata": {},
   "outputs": [
    {
     "data": {
      "text/plain": [
       "9"
      ]
     },
     "execution_count": 63,
     "metadata": {},
     "output_type": "execute_result"
    }
   ],
   "source": [
    "max_sequence(l)"
   ]
  },
  {
   "cell_type": "code",
   "execution_count": 64,
   "id": "adaebb28",
   "metadata": {},
   "outputs": [],
   "source": [
    "_min = lambda x,y: x if x < y else y"
   ]
  },
  {
   "cell_type": "code",
   "execution_count": 65,
   "id": "be51072b",
   "metadata": {},
   "outputs": [],
   "source": [
    "def min_sequence(sequence):\n",
    "    result = sequence[0]\n",
    "    for x in sequence[1:]:\n",
    "        result = _min(result,x)\n",
    "    return result"
   ]
  },
  {
   "cell_type": "code",
   "execution_count": 66,
   "id": "b7d4384e",
   "metadata": {},
   "outputs": [
    {
     "data": {
      "text/plain": [
       "1"
      ]
     },
     "execution_count": 66,
     "metadata": {},
     "output_type": "execute_result"
    }
   ],
   "source": [
    "min_sequence(l)"
   ]
  },
  {
   "cell_type": "code",
   "execution_count": 67,
   "id": "7a2fa497",
   "metadata": {},
   "outputs": [],
   "source": [
    "_add = lambda a,b: a+b"
   ]
  },
  {
   "cell_type": "code",
   "execution_count": 68,
   "id": "e48d5542",
   "metadata": {},
   "outputs": [],
   "source": [
    "def add_sequence(sequence):\n",
    "    result = sequence[0]\n",
    "    for x in sequence[1:]:\n",
    "        result = _add(result,x)\n",
    "    return result"
   ]
  },
  {
   "cell_type": "code",
   "execution_count": 69,
   "id": "c1f7c9cd",
   "metadata": {},
   "outputs": [
    {
     "data": {
      "text/plain": [
       "30"
      ]
     },
     "execution_count": 69,
     "metadata": {},
     "output_type": "execute_result"
    }
   ],
   "source": [
    "add_sequence(l)"
   ]
  },
  {
   "cell_type": "code",
   "execution_count": 70,
   "id": "4d002419",
   "metadata": {},
   "outputs": [],
   "source": [
    "def _reduce(fn,sequence):\n",
    "    result = sequence[0]\n",
    "    for x in sequence[1:]:\n",
    "        result = fn(result,x)\n",
    "    return result"
   ]
  },
  {
   "cell_type": "code",
   "execution_count": 71,
   "id": "1dfc3368",
   "metadata": {},
   "outputs": [
    {
     "data": {
      "text/plain": [
       "9"
      ]
     },
     "execution_count": 71,
     "metadata": {},
     "output_type": "execute_result"
    }
   ],
   "source": [
    "_reduce(_max,l)"
   ]
  },
  {
   "cell_type": "code",
   "execution_count": 72,
   "id": "50b38092",
   "metadata": {},
   "outputs": [
    {
     "data": {
      "text/plain": [
       "1"
      ]
     },
     "execution_count": 72,
     "metadata": {},
     "output_type": "execute_result"
    }
   ],
   "source": [
    "_reduce(_min,l)"
   ]
  },
  {
   "cell_type": "code",
   "execution_count": 73,
   "id": "75bcdd4b",
   "metadata": {},
   "outputs": [
    {
     "data": {
      "text/plain": [
       "30"
      ]
     },
     "execution_count": 73,
     "metadata": {},
     "output_type": "execute_result"
    }
   ],
   "source": [
    "_reduce(_add,l)"
   ]
  },
  {
   "cell_type": "code",
   "execution_count": 74,
   "id": "830ce198",
   "metadata": {},
   "outputs": [
    {
     "data": {
      "text/plain": [
       "3"
      ]
     },
     "execution_count": 74,
     "metadata": {},
     "output_type": "execute_result"
    }
   ],
   "source": [
    "_reduce(_max,(1,2,3))"
   ]
  },
  {
   "cell_type": "code",
   "execution_count": 75,
   "id": "4002ed89",
   "metadata": {},
   "outputs": [],
   "source": [
    "from functools import reduce"
   ]
  },
  {
   "cell_type": "code",
   "execution_count": 76,
   "id": "c829d482",
   "metadata": {},
   "outputs": [
    {
     "data": {
      "text/plain": [
       "9"
      ]
     },
     "execution_count": 76,
     "metadata": {},
     "output_type": "execute_result"
    }
   ],
   "source": [
    "reduce(_max,l)"
   ]
  },
  {
   "cell_type": "code",
   "execution_count": 77,
   "id": "b832799b",
   "metadata": {},
   "outputs": [
    {
     "data": {
      "text/plain": [
       "30"
      ]
     },
     "execution_count": 77,
     "metadata": {},
     "output_type": "execute_result"
    }
   ],
   "source": [
    "reduce(_add,l)"
   ]
  },
  {
   "cell_type": "code",
   "execution_count": 78,
   "id": "9e025c53",
   "metadata": {},
   "outputs": [
    {
     "data": {
      "text/plain": [
       "45"
      ]
     },
     "execution_count": 78,
     "metadata": {},
     "output_type": "execute_result"
    }
   ],
   "source": [
    "reduce(_max,(4,5,45))"
   ]
  },
  {
   "cell_type": "code",
   "execution_count": 79,
   "id": "a89d30c1",
   "metadata": {},
   "outputs": [
    {
     "data": {
      "text/plain": [
       "1"
      ]
     },
     "execution_count": 79,
     "metadata": {},
     "output_type": "execute_result"
    }
   ],
   "source": [
    "min(l)"
   ]
  },
  {
   "cell_type": "code",
   "execution_count": 80,
   "id": "63a8cc25",
   "metadata": {},
   "outputs": [],
   "source": [
    "s = {True,1,0,None}"
   ]
  },
  {
   "cell_type": "code",
   "execution_count": 81,
   "id": "80368c8c",
   "metadata": {},
   "outputs": [
    {
     "data": {
      "text/plain": [
       "False"
      ]
     },
     "execution_count": 81,
     "metadata": {},
     "output_type": "execute_result"
    }
   ],
   "source": [
    "all(s)"
   ]
  },
  {
   "cell_type": "code",
   "execution_count": 82,
   "id": "ba149819",
   "metadata": {},
   "outputs": [],
   "source": [
    "s2 = {True,1,'s'}"
   ]
  },
  {
   "cell_type": "code",
   "execution_count": 83,
   "id": "ef582821",
   "metadata": {},
   "outputs": [
    {
     "data": {
      "text/plain": [
       "True"
      ]
     },
     "execution_count": 83,
     "metadata": {},
     "output_type": "execute_result"
    }
   ],
   "source": [
    "all(s2)"
   ]
  },
  {
   "cell_type": "code",
   "execution_count": 84,
   "id": "18de3558",
   "metadata": {},
   "outputs": [
    {
     "data": {
      "text/plain": [
       "False"
      ]
     },
     "execution_count": 84,
     "metadata": {},
     "output_type": "execute_result"
    }
   ],
   "source": [
    "bool(True) and bool(1) and bool(None)"
   ]
  },
  {
   "cell_type": "code",
   "execution_count": 85,
   "id": "267f6a15",
   "metadata": {},
   "outputs": [
    {
     "data": {
      "text/plain": [
       "True"
      ]
     },
     "execution_count": 85,
     "metadata": {},
     "output_type": "execute_result"
    }
   ],
   "source": [
    "any(s)"
   ]
  },
  {
   "cell_type": "code",
   "execution_count": 86,
   "id": "c158bc61",
   "metadata": {},
   "outputs": [
    {
     "data": {
      "text/plain": [
       "True"
      ]
     },
     "execution_count": 86,
     "metadata": {},
     "output_type": "execute_result"
    }
   ],
   "source": [
    "any(s2)"
   ]
  },
  {
   "cell_type": "code",
   "execution_count": 87,
   "id": "1f458924",
   "metadata": {},
   "outputs": [],
   "source": [
    "s3 = {False,0,None}"
   ]
  },
  {
   "cell_type": "code",
   "execution_count": 88,
   "id": "30119ca7",
   "metadata": {},
   "outputs": [
    {
     "data": {
      "text/plain": [
       "False"
      ]
     },
     "execution_count": 88,
     "metadata": {},
     "output_type": "execute_result"
    }
   ],
   "source": [
    "any(s3)"
   ]
  },
  {
   "cell_type": "code",
   "execution_count": 89,
   "id": "a79e2625",
   "metadata": {},
   "outputs": [
    {
     "data": {
      "text/plain": [
       "False"
      ]
     },
     "execution_count": 89,
     "metadata": {},
     "output_type": "execute_result"
    }
   ],
   "source": [
    "reduce(lambda a,b:bool(a) and bool(b),s)"
   ]
  },
  {
   "cell_type": "code",
   "execution_count": 90,
   "id": "7b4da096",
   "metadata": {},
   "outputs": [
    {
     "data": {
      "text/plain": [
       "False"
      ]
     },
     "execution_count": 90,
     "metadata": {},
     "output_type": "execute_result"
    }
   ],
   "source": [
    "reduce(lambda a,b:bool(a) or bool(b),s3)"
   ]
  },
  {
   "cell_type": "code",
   "execution_count": 91,
   "id": "ee7639e3",
   "metadata": {},
   "outputs": [],
   "source": [
    "l = [5,8,6,10,9]"
   ]
  },
  {
   "cell_type": "code",
   "execution_count": 92,
   "id": "672c2955",
   "metadata": {},
   "outputs": [
    {
     "data": {
      "text/plain": [
       "21600"
      ]
     },
     "execution_count": 92,
     "metadata": {},
     "output_type": "execute_result"
    }
   ],
   "source": [
    "reduce(lambda a,b:a*b,l)"
   ]
  },
  {
   "cell_type": "code",
   "execution_count": 93,
   "id": "3ca792a6",
   "metadata": {},
   "outputs": [],
   "source": [
    "#4! = 1*2*3*4"
   ]
  },
  {
   "cell_type": "code",
   "execution_count": 94,
   "id": "cd3992ee",
   "metadata": {},
   "outputs": [
    {
     "data": {
      "text/plain": [
       "range(0, 5)"
      ]
     },
     "execution_count": 94,
     "metadata": {},
     "output_type": "execute_result"
    }
   ],
   "source": [
    "range(5)"
   ]
  },
  {
   "cell_type": "code",
   "execution_count": 95,
   "id": "2fd8f262",
   "metadata": {},
   "outputs": [
    {
     "data": {
      "text/plain": [
       "0"
      ]
     },
     "execution_count": 95,
     "metadata": {},
     "output_type": "execute_result"
    }
   ],
   "source": [
    "range(5)[0]"
   ]
  },
  {
   "cell_type": "code",
   "execution_count": 96,
   "id": "4f164ed0",
   "metadata": {},
   "outputs": [
    {
     "data": {
      "text/plain": [
       "[0, 1, 2, 3, 4]"
      ]
     },
     "execution_count": 96,
     "metadata": {},
     "output_type": "execute_result"
    }
   ],
   "source": [
    "list(range(5))"
   ]
  },
  {
   "cell_type": "code",
   "execution_count": 97,
   "id": "6dff2da6",
   "metadata": {},
   "outputs": [
    {
     "data": {
      "text/plain": [
       "[1, 2, 3, 4, 5]"
      ]
     },
     "execution_count": 97,
     "metadata": {},
     "output_type": "execute_result"
    }
   ],
   "source": [
    "list(range(1,5+1))"
   ]
  },
  {
   "cell_type": "code",
   "execution_count": 98,
   "id": "c16a2705",
   "metadata": {},
   "outputs": [
    {
     "data": {
      "text/plain": [
       "120"
      ]
     },
     "execution_count": 98,
     "metadata": {},
     "output_type": "execute_result"
    }
   ],
   "source": [
    "reduce(lambda a,b:a*b,range(1,5+1))"
   ]
  },
  {
   "cell_type": "code",
   "execution_count": 99,
   "id": "8d904502",
   "metadata": {},
   "outputs": [],
   "source": [
    "def fact(n):\n",
    "    return 1 if n<2 else n* fact(n-1)"
   ]
  },
  {
   "cell_type": "code",
   "execution_count": 100,
   "id": "c17ba2cc",
   "metadata": {},
   "outputs": [
    {
     "data": {
      "text/plain": [
       "120"
      ]
     },
     "execution_count": 100,
     "metadata": {},
     "output_type": "execute_result"
    }
   ],
   "source": [
    "fact(5)"
   ]
  },
  {
   "cell_type": "code",
   "execution_count": 101,
   "id": "03ad36fc",
   "metadata": {},
   "outputs": [],
   "source": [
    "def fact1(n):\n",
    "    return reduce(lambda a,b:a*b,range(1,5+1))"
   ]
  },
  {
   "cell_type": "code",
   "execution_count": 102,
   "id": "6332f00e",
   "metadata": {},
   "outputs": [
    {
     "data": {
      "text/plain": [
       "120"
      ]
     },
     "execution_count": 102,
     "metadata": {},
     "output_type": "execute_result"
    }
   ],
   "source": [
    "fact1(5)"
   ]
  },
  {
   "cell_type": "code",
   "execution_count": 103,
   "id": "da5ead96",
   "metadata": {},
   "outputs": [],
   "source": [
    "def _reduce1(fn,sequence,initial):\n",
    "    result = initial\n",
    "    for x in sequence:\n",
    "        result = fn(result,x)\n",
    "    return result"
   ]
  },
  {
   "cell_type": "code",
   "execution_count": 105,
   "id": "e7bd9171",
   "metadata": {},
   "outputs": [
    {
     "data": {
      "text/plain": [
       "138"
      ]
     },
     "execution_count": 105,
     "metadata": {},
     "output_type": "execute_result"
    }
   ],
   "source": [
    "_reduce1(lambda a,b:a+b, l, 100)"
   ]
  },
  {
   "cell_type": "code",
   "execution_count": null,
   "id": "0013f05b",
   "metadata": {},
   "outputs": [],
   "source": [
    "_reduce"
   ]
  },
  {
   "cell_type": "code",
   "execution_count": null,
   "id": "b5b68c6c",
   "metadata": {},
   "outputs": [],
   "source": []
  }
 ],
 "metadata": {
  "kernelspec": {
   "display_name": "Python 3 (ipykernel)",
   "language": "python",
   "name": "python3"
  },
  "language_info": {
   "codemirror_mode": {
    "name": "ipython",
    "version": 3
   },
   "file_extension": ".py",
   "mimetype": "text/x-python",
   "name": "python",
   "nbconvert_exporter": "python",
   "pygments_lexer": "ipython3",
   "version": "3.9.13"
  }
 },
 "nbformat": 4,
 "nbformat_minor": 5
}
