{
 "cells": [
  {
   "cell_type": "code",
   "execution_count": 9,
   "id": "3a5bba9f-794e-4199-a993-7ffe6c516409",
   "metadata": {},
   "outputs": [],
   "source": [
    "def timed(fn):\n",
    "    from time import perf_counter\n",
    "    from functools import wraps\n",
    "\n",
    "    @wraps(fn)\n",
    "    def inner(*args,**kwargs):\n",
    "        start = perf_counter()\n",
    "        result = fn(*args,**kwargs)\n",
    "        end = perf_counter()\n",
    "        elapsed = end - start\n",
    "\n",
    "        args_ = [str(a) for a in args]\n",
    "        kwargs_ = ['{0} = {1}'.format(k,v) for (k,v) in kwargs.items()]\n",
    "        all_args = args_ + kwargs_\n",
    "        args_str = 'a'.join(all_args)\n",
    "\n",
    "        print('{0}({1}) took {2:.6f} to run.'.format(fn.__name__,\n",
    "                                                  args_str,\n",
    "                                                    elapsed))\n",
    "        return result\n",
    "    return inner"
   ]
  },
  {
   "cell_type": "markdown",
   "id": "3c6f2423-4c7f-46e5-be6d-60207b8ecafd",
   "metadata": {},
   "source": [
    " ### Fibonacci numbers 1,1,2,3,5,8,13,21,..."
   ]
  },
  {
   "cell_type": "markdown",
   "id": "a0403666-46f1-4911-9b7a-613fc45900c6",
   "metadata": {},
   "source": [
    "1.recursion\n",
    "2.loop\n",
    "3.reduce"
   ]
  },
  {
   "cell_type": "code",
   "execution_count": 25,
   "id": "09ed952b-f708-45a9-856a-2caf86bef9ad",
   "metadata": {},
   "outputs": [],
   "source": [
    "@timed\n",
    "def calc_recursive_fib(n):\n",
    "    if n <= 2:\n",
    "        return 1\n",
    "    else:\n",
    "        return calc_recursive_fib(n-1) + calc_recursive_fib(n-2)"
   ]
  },
  {
   "cell_type": "code",
   "execution_count": 26,
   "id": "9218fa46-d404-4283-92f4-c32ae6e3b4c9",
   "metadata": {},
   "outputs": [
    {
     "name": "stdout",
     "output_type": "stream",
     "text": [
      "calc_recursive_fib(2) took 0.000000 to run.\n",
      "calc_recursive_fib(1) took 0.000001 to run.\n",
      "calc_recursive_fib(3) took 0.000373 to run.\n"
     ]
    },
    {
     "data": {
      "text/plain": [
       "2"
      ]
     },
     "execution_count": 26,
     "metadata": {},
     "output_type": "execute_result"
    }
   ],
   "source": [
    "calc_recursive_fib(3)"
   ]
  },
  {
   "cell_type": "code",
   "execution_count": 27,
   "id": "81563698-8c5b-466f-adbb-9875228dfb94",
   "metadata": {},
   "outputs": [
    {
     "name": "stdout",
     "output_type": "stream",
     "text": [
      "calc_recursive_fib(2) took 0.000001 to run.\n",
      "calc_recursive_fib(1) took 0.000000 to run.\n",
      "calc_recursive_fib(3) took 0.000049 to run.\n",
      "calc_recursive_fib(2) took 0.000000 to run.\n",
      "calc_recursive_fib(4) took 0.000056 to run.\n",
      "calc_recursive_fib(2) took 0.000000 to run.\n",
      "calc_recursive_fib(1) took 0.000000 to run.\n",
      "calc_recursive_fib(3) took 0.000007 to run.\n",
      "calc_recursive_fib(5) took 0.000070 to run.\n",
      "calc_recursive_fib(2) took 0.000000 to run.\n",
      "calc_recursive_fib(1) took 0.000000 to run.\n",
      "calc_recursive_fib(3) took 0.000007 to run.\n",
      "calc_recursive_fib(2) took 0.000000 to run.\n",
      "calc_recursive_fib(4) took 0.000014 to run.\n",
      "calc_recursive_fib(6) took 0.000092 to run.\n"
     ]
    },
    {
     "data": {
      "text/plain": [
       "8"
      ]
     },
     "execution_count": 27,
     "metadata": {},
     "output_type": "execute_result"
    }
   ],
   "source": [
    "calc_recursive_fib(6)"
   ]
  },
  {
   "cell_type": "code",
   "execution_count": 28,
   "id": "d4f82330-6073-4bfe-a842-f6aa0fe8d5eb",
   "metadata": {},
   "outputs": [],
   "source": [
    "def calc_recursive_fib(n):\n",
    "    if n <= 2:\n",
    "        return 1\n",
    "    else:\n",
    "        return calc_recursive_fib(n-1) + calc_recursive_fib(n-2)"
   ]
  },
  {
   "cell_type": "code",
   "execution_count": 29,
   "id": "9b1417ba-17c0-4ef6-925f-b56ea39d1e6a",
   "metadata": {},
   "outputs": [],
   "source": [
    "@timed\n",
    "def fib_recursive(n):\n",
    "    return calc_recursive_fib(n)"
   ]
  },
  {
   "cell_type": "code",
   "execution_count": 30,
   "id": "ad5fa651-6c94-4993-8e9b-b3ecbbca8722",
   "metadata": {},
   "outputs": [
    {
     "name": "stdout",
     "output_type": "stream",
     "text": [
      "fib_recursive(6) took 0.000005 to run.\n"
     ]
    },
    {
     "data": {
      "text/plain": [
       "8"
      ]
     },
     "execution_count": 30,
     "metadata": {},
     "output_type": "execute_result"
    }
   ],
   "source": [
    "fib_recursive(6)"
   ]
  },
  {
   "cell_type": "code",
   "execution_count": 31,
   "id": "8f25c407-7d03-4371-97f3-69538eec3104",
   "metadata": {},
   "outputs": [
    {
     "name": "stdout",
     "output_type": "stream",
     "text": [
      "fib_recursive(20) took 0.000943 to run.\n"
     ]
    },
    {
     "data": {
      "text/plain": [
       "6765"
      ]
     },
     "execution_count": 31,
     "metadata": {},
     "output_type": "execute_result"
    }
   ],
   "source": [
    "fib_recursive(20)"
   ]
  },
  {
   "cell_type": "code",
   "execution_count": 32,
   "id": "28510a9e-6268-4cb8-875a-bf62cbeb595b",
   "metadata": {},
   "outputs": [
    {
     "name": "stdout",
     "output_type": "stream",
     "text": [
      "fib_recursive(30) took 0.126847 to run.\n"
     ]
    },
    {
     "data": {
      "text/plain": [
       "832040"
      ]
     },
     "execution_count": 32,
     "metadata": {},
     "output_type": "execute_result"
    }
   ],
   "source": [
    "fib_recursive(30)"
   ]
  },
  {
   "cell_type": "code",
   "execution_count": 33,
   "id": "9468372c-09cc-439c-adc9-85a346c353b6",
   "metadata": {},
   "outputs": [
    {
     "name": "stdout",
     "output_type": "stream",
     "text": [
      "fib_recursive(32) took 0.310340 to run.\n"
     ]
    },
    {
     "data": {
      "text/plain": [
       "2178309"
      ]
     },
     "execution_count": 33,
     "metadata": {},
     "output_type": "execute_result"
    }
   ],
   "source": [
    "fib_recursive(32)"
   ]
  },
  {
   "cell_type": "code",
   "execution_count": 34,
   "id": "56f65eb6-459c-4cc2-b02c-3d794cb59433",
   "metadata": {},
   "outputs": [
    {
     "name": "stdout",
     "output_type": "stream",
     "text": [
      "fib_recursive(35) took 1.311204 to run.\n"
     ]
    },
    {
     "data": {
      "text/plain": [
       "9227465"
      ]
     },
     "execution_count": 34,
     "metadata": {},
     "output_type": "execute_result"
    }
   ],
   "source": [
    "fib_recursive(35)"
   ]
  },
  {
   "cell_type": "code",
   "execution_count": 35,
   "id": "301e68fc-f1a2-4abb-b361-d58868281b96",
   "metadata": {},
   "outputs": [
    {
     "name": "stdout",
     "output_type": "stream",
     "text": [
      "fib_recursive(36) took 2.077796 to run.\n"
     ]
    },
    {
     "data": {
      "text/plain": [
       "14930352"
      ]
     },
     "execution_count": 35,
     "metadata": {},
     "output_type": "execute_result"
    }
   ],
   "source": [
    "fib_recursive(36)"
   ]
  },
  {
   "cell_type": "code",
   "execution_count": 38,
   "id": "6395960c-a96f-4b66-aa87-d4f6c9bf3648",
   "metadata": {},
   "outputs": [],
   "source": [
    "@timed\n",
    "def fib_loop(n):\n",
    "    fib_1 = 1\n",
    "    fib_2 = 1\n",
    "    for i in range(3,n+1):\n",
    "        fib_1, fib_2 = fib_2,fib_1 + fib_2\n",
    "    return fib_2"
   ]
  },
  {
   "cell_type": "code",
   "execution_count": 39,
   "id": "2760c193-d5c3-49e2-b1d6-f0179021bb82",
   "metadata": {},
   "outputs": [
    {
     "name": "stdout",
     "output_type": "stream",
     "text": [
      "fib_loop(6) took 0.000002 to run.\n"
     ]
    },
    {
     "data": {
      "text/plain": [
       "8"
      ]
     },
     "execution_count": 39,
     "metadata": {},
     "output_type": "execute_result"
    }
   ],
   "source": [
    "fib_loop(6)"
   ]
  },
  {
   "cell_type": "code",
   "execution_count": 40,
   "id": "7c2e548b-73d9-458b-895d-d3af2cc7c569",
   "metadata": {},
   "outputs": [
    {
     "name": "stdout",
     "output_type": "stream",
     "text": [
      "fib_loop(16) took 0.000004 to run.\n"
     ]
    },
    {
     "data": {
      "text/plain": [
       "987"
      ]
     },
     "execution_count": 40,
     "metadata": {},
     "output_type": "execute_result"
    }
   ],
   "source": [
    "fib_loop(16)"
   ]
  },
  {
   "cell_type": "code",
   "execution_count": 41,
   "id": "209f2a04-9d9b-4d4c-8fb8-9e754020b023",
   "metadata": {},
   "outputs": [
    {
     "name": "stdout",
     "output_type": "stream",
     "text": [
      "fib_loop(36) took 0.000004 to run.\n"
     ]
    },
    {
     "data": {
      "text/plain": [
       "14930352"
      ]
     },
     "execution_count": 41,
     "metadata": {},
     "output_type": "execute_result"
    }
   ],
   "source": [
    "fib_loop(36)"
   ]
  },
  {
   "cell_type": "markdown",
   "id": "9e7f2f21-9b83-4d95-a56b-88cb21c915a6",
   "metadata": {},
   "source": [
    "<pre>\n",
    "    n = 1\n",
    "    (1,0) --> (1,1)-->result tuple[0] = 1\n",
    "\n",
    "    n = 2\n",
    "    (1,0) -->(1,1) --> (2,1) result tuple[0] = 2\n",
    "\n",
    "    n = 3\n",
    "    (1,0) --> (1,1) --> (2,1)--> (3,2) result tuple[0] = 3\n",
    "\n",
    "    n = 4\n",
    "    (1,0) --> (1,1) --> (2,1) --> (3,2) --> (5,3) result tuple[0] = 5\n",
    "</pre>"
   ]
  },
  {
   "cell_type": "markdown",
   "id": "5cb8e782-0895-4182-b297-56a2e3348899",
   "metadata": {},
   "source": [
    "<pre>\n",
    "    previous value = (a,b)\n",
    "    new_value = (a+b,a)\n",
    "</pre>"
   ]
  },
  {
   "cell_type": "code",
   "execution_count": 46,
   "id": "de1cad9e-fcba-4d9e-85f5-5174944d97d2",
   "metadata": {},
   "outputs": [],
   "source": [
    "from functools import reduce\n",
    "@timed\n",
    "def fib_reduce(n):\n",
    "    initial = (1,0)\n",
    "    dummy = range(n)\n",
    "    fib_n = reduce(lambda prev, n:( prev[0] + prev[1],prev[0]),\n",
    "                  dummy,\n",
    "                  initial)\n",
    "    return fib_n[0]                   \n",
    "\n"
   ]
  },
  {
   "cell_type": "code",
   "execution_count": 47,
   "id": "8d9c51f7-c403-4e0d-b7d5-27a3f37e6a71",
   "metadata": {},
   "outputs": [
    {
     "name": "stdout",
     "output_type": "stream",
     "text": [
      "fib_reduce(35) took 0.000009 to run.\n"
     ]
    },
    {
     "data": {
      "text/plain": [
       "14930352"
      ]
     },
     "execution_count": 47,
     "metadata": {},
     "output_type": "execute_result"
    }
   ],
   "source": [
    "fib_reduce(35)"
   ]
  },
  {
   "cell_type": "code",
   "execution_count": 48,
   "id": "6cb1e7a0-12c6-459f-947f-b2bb8aa2eeed",
   "metadata": {},
   "outputs": [
    {
     "name": "stdout",
     "output_type": "stream",
     "text": [
      "fib_loop(35) took 0.000004 to run.\n"
     ]
    },
    {
     "data": {
      "text/plain": [
       "9227465"
      ]
     },
     "execution_count": 48,
     "metadata": {},
     "output_type": "execute_result"
    }
   ],
   "source": [
    "fib_loop(35)"
   ]
  },
  {
   "cell_type": "code",
   "execution_count": 49,
   "id": "2d07a70d-c3fc-426a-b345-dcc805facf0d",
   "metadata": {},
   "outputs": [
    {
     "name": "stdout",
     "output_type": "stream",
     "text": [
      "fib_reduce(100) took 0.000016 to run.\n"
     ]
    },
    {
     "data": {
      "text/plain": [
       "573147844013817084101"
      ]
     },
     "execution_count": 49,
     "metadata": {},
     "output_type": "execute_result"
    }
   ],
   "source": [
    "fib_reduce(100)"
   ]
  },
  {
   "cell_type": "code",
   "execution_count": 50,
   "id": "57d3f828-e0fc-4fbd-88dd-a1ad4ade95bc",
   "metadata": {},
   "outputs": [
    {
     "name": "stdout",
     "output_type": "stream",
     "text": [
      "fib_loop(100) took 0.000006 to run.\n"
     ]
    },
    {
     "data": {
      "text/plain": [
       "354224848179261915075"
      ]
     },
     "execution_count": 50,
     "metadata": {},
     "output_type": "execute_result"
    }
   ],
   "source": [
    "fib_loop(100)"
   ]
  },
  {
   "cell_type": "code",
   "execution_count": 58,
   "id": "dbb7a702-a090-4cb8-96e5-1093cfcf6344",
   "metadata": {},
   "outputs": [],
   "source": [
    "def timed(fn, count):\n",
    "    from time import perf_counter\n",
    "    from functools import wraps\n",
    "\n",
    "    @wraps(fn)\n",
    "    def inner(*args,**kwargs):\n",
    "        elapsed_total = 0\n",
    "        elapsed_count = 0\n",
    "\n",
    "        for i in range(count):\n",
    "            print('Running iteration {0}...'.format)\n",
    "            start = perf_counter()\n",
    "            result = fn(*args,**kwargs)\n",
    "            end = perf_counter()\n",
    "            elapsed = end - start\n",
    "            elapsed_total += elapsed\n",
    "            elapsed_count += 1\n",
    "\n",
    "        args_ = [str(a) for a in args]\n",
    "        kwargs_ = ['{0} = {1}'.format(k,v) for (k,v) in kwargs.items()]\n",
    "        all_args = args_ + kwargs_\n",
    "        args_str = 'a'.join(all_args)\n",
    "\n",
    "        elapsed_avg = elapsed_total / elapsed_count\n",
    "\n",
    "        print('{0}({1}) took {2:.6f} to run.'.format(fn.__name__,\n",
    "                                                  args_str,\n",
    "                                                    elapsed_avg))\n",
    "        return result\n",
    "    return inner"
   ]
  },
  {
   "cell_type": "code",
   "execution_count": 61,
   "id": "0a9282f4-ed62-4afe-b81d-1ea81116e983",
   "metadata": {},
   "outputs": [],
   "source": [
    "from functools import reduce\n",
    "\n",
    "def fib_reduce(n):\n",
    "    initial = (1,0)\n",
    "    dummy = range(n)\n",
    "    fib_n = reduce(lambda prev, n:( prev[0] + prev[1],prev[0]),\n",
    "                  dummy,\n",
    "                  initial)\n",
    "    return fib_n[0]                   \n"
   ]
  },
  {
   "cell_type": "code",
   "execution_count": 60,
   "id": "07cbe5e5-d59d-4a37-99e1-a035f0910e4a",
   "metadata": {},
   "outputs": [
    {
     "name": "stdout",
     "output_type": "stream",
     "text": [
      "Running iteration 0...\n",
      "Running iteration 1...\n",
      "Running iteration 2...\n",
      "Running iteration 3...\n",
      "Running iteration 4...\n",
      "Running iteration 5...\n",
      "Running iteration 6...\n",
      "Running iteration 7...\n",
      "Running iteration 8...\n",
      "Running iteration 9...\n",
      "fib_reduce(100) took 0.000013 to run.\n"
     ]
    },
    {
     "data": {
      "text/plain": [
       "573147844013817084101"
      ]
     },
     "execution_count": 60,
     "metadata": {},
     "output_type": "execute_result"
    }
   ],
   "source": [
    "fib_reduce(100)"
   ]
  },
  {
   "cell_type": "code",
   "execution_count": 62,
   "id": "abe47d52-df11-4c92-b1d3-f990b262a515",
   "metadata": {},
   "outputs": [],
   "source": [
    "fib_reduce = timed(fib_reduce,15)"
   ]
  },
  {
   "cell_type": "code",
   "execution_count": 63,
   "id": "5e0af094-46ae-472d-b7e5-40afb5511672",
   "metadata": {},
   "outputs": [
    {
     "name": "stdout",
     "output_type": "stream",
     "text": [
      "<built-in method format of str object at 0x000001C43BCF35A0>\n",
      "<built-in method format of str object at 0x000001C43BCF35A0>\n",
      "<built-in method format of str object at 0x000001C43BCF35A0>\n",
      "<built-in method format of str object at 0x000001C43BCF35A0>\n",
      "<built-in method format of str object at 0x000001C43BCF35A0>\n",
      "<built-in method format of str object at 0x000001C43BCF35A0>\n",
      "<built-in method format of str object at 0x000001C43BCF35A0>\n",
      "<built-in method format of str object at 0x000001C43BCF35A0>\n",
      "<built-in method format of str object at 0x000001C43BCF35A0>\n",
      "<built-in method format of str object at 0x000001C43BCF35A0>\n",
      "<built-in method format of str object at 0x000001C43BCF35A0>\n",
      "<built-in method format of str object at 0x000001C43BCF35A0>\n",
      "<built-in method format of str object at 0x000001C43BCF35A0>\n",
      "<built-in method format of str object at 0x000001C43BCF35A0>\n",
      "<built-in method format of str object at 0x000001C43BCF35A0>\n",
      "fib_reduce(100) took 0.000013 to run.\n"
     ]
    },
    {
     "data": {
      "text/plain": [
       "573147844013817084101"
      ]
     },
     "execution_count": 63,
     "metadata": {},
     "output_type": "execute_result"
    }
   ],
   "source": [
    "fib_reduce(100)"
   ]
  },
  {
   "cell_type": "code",
   "execution_count": null,
   "id": "12ad54c1-cf43-496b-b531-83e3c384fbc0",
   "metadata": {},
   "outputs": [],
   "source": []
  }
 ],
 "metadata": {
  "kernelspec": {
   "display_name": "Python 3 (ipykernel)",
   "language": "python",
   "name": "python3"
  },
  "language_info": {
   "codemirror_mode": {
    "name": "ipython",
    "version": 3
   },
   "file_extension": ".py",
   "mimetype": "text/x-python",
   "name": "python",
   "nbconvert_exporter": "python",
   "pygments_lexer": "ipython3",
   "version": "3.11.5"
  }
 },
 "nbformat": 4,
 "nbformat_minor": 5
}
