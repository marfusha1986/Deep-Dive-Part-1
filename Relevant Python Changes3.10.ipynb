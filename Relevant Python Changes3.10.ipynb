{
 "cells": [
  {
   "cell_type": "code",
   "execution_count": 4,
   "id": "097fbc69-a8d9-4a25-b119-7e84d2bc72fc",
   "metadata": {},
   "outputs": [],
   "source": [
    " def respond(language):\n",
    "     match language:\n",
    "         case 'Java':\n",
    "             return 'Hmm coffee!'\n",
    "         case 'Python':\n",
    "             return 'I`m not scared of snakes!'\n",
    "         case 'Rust':\n",
    "             return 'Don`t drink too much water!'\n",
    "         case 'Go':\n",
    "             return 'Collect $200!'\n",
    "         case _:\n",
    "             return 'I`m sorry...'"
   ]
  },
  {
   "cell_type": "code",
   "execution_count": 5,
   "id": "c1bc9d22-92e4-40cc-bda0-db74bee16acd",
   "metadata": {},
   "outputs": [
    {
     "data": {
      "text/plain": [
       "'I`m not scared of snakes!'"
      ]
     },
     "execution_count": 5,
     "metadata": {},
     "output_type": "execute_result"
    }
   ],
   "source": [
    "respond('Python')"
   ]
  },
  {
   "cell_type": "code",
   "execution_count": 6,
   "id": "22c2babd-ba38-4798-990a-9fbd2f830b00",
   "metadata": {},
   "outputs": [
    {
     "data": {
      "text/plain": [
       "'Collect $200!'"
      ]
     },
     "execution_count": 6,
     "metadata": {},
     "output_type": "execute_result"
    }
   ],
   "source": [
    "respond('Go')"
   ]
  },
  {
   "cell_type": "code",
   "execution_count": 7,
   "id": "3aa0ed1c-04e7-4f7a-886b-8a8db62f8d77",
   "metadata": {},
   "outputs": [
    {
     "data": {
      "text/plain": [
       "'I`m sorry...'"
      ]
     },
     "execution_count": 7,
     "metadata": {},
     "output_type": "execute_result"
    }
   ],
   "source": [
    "respond('COBOL')"
   ]
  },
  {
   "cell_type": "code",
   "execution_count": 8,
   "id": "99816d7c-2658-4ee8-a855-15a55c99cd5c",
   "metadata": {},
   "outputs": [],
   "source": [
    "def respond (language):\n",
    "    match language:\n",
    "        case 'Java' | 'Javascript':\n",
    "            return 'Love those braces'\n",
    "        case 'Python':\n",
    "            return 'I`m a lumberjack and I don`t need no braces.'\n",
    "        case _:\n",
    "            return 'I have no clue!'\n",
    "    "
   ]
  },
  {
   "cell_type": "code",
   "execution_count": 9,
   "id": "9dd8f494-865e-44c0-841b-0cb70464d877",
   "metadata": {},
   "outputs": [
    {
     "data": {
      "text/plain": [
       "'I`m a lumberjack and I don`t need no braces.'"
      ]
     },
     "execution_count": 9,
     "metadata": {},
     "output_type": "execute_result"
    }
   ],
   "source": [
    "respond('Python')"
   ]
  },
  {
   "cell_type": "code",
   "execution_count": 10,
   "id": "991e8fa4-599b-4fa4-b348-d40f61957173",
   "metadata": {},
   "outputs": [
    {
     "data": {
      "text/plain": [
       "'I have no clue!'"
      ]
     },
     "execution_count": 10,
     "metadata": {},
     "output_type": "execute_result"
    }
   ],
   "source": [
    "respond('Go')"
   ]
  },
  {
   "cell_type": "code",
   "execution_count": 13,
   "id": "c1f90ad4-7714-48d0-8716-4a03679f629b",
   "metadata": {},
   "outputs": [],
   "source": [
    "symbols = {\n",
    "    'F':'\\u2192',\n",
    "    'B':'\\u2198',\n",
    "    'L':'\\u2191',\n",
    "    'R':'\\u2193',\n",
    "    'pick':'\\u2923',\n",
    "    'drop':'\\u2925'\n",
    "}"
   ]
  },
  {
   "cell_type": "code",
   "execution_count": 14,
   "id": "a4dbd8ef-65ab-40cd-ab38-e837adcf881f",
   "metadata": {},
   "outputs": [
    {
     "data": {
      "text/plain": [
       "{'F': '→', 'B': '↘', 'L': '↑', 'R': '↓', 'pick': '⤣', 'drop': '⤥'}"
      ]
     },
     "execution_count": 14,
     "metadata": {},
     "output_type": "execute_result"
    }
   ],
   "source": [
    "symbols"
   ]
  },
  {
   "cell_type": "code",
   "execution_count": 18,
   "id": "10a40c73-f219-4bd2-8582-0dd7e5e7b38c",
   "metadata": {},
   "outputs": [],
   "source": [
    "def op(command):\n",
    "    match command:\n",
    "        case 'move F':\n",
    "            return symbols['F']\n",
    "        case 'move B':\n",
    "            return symbols['B']\n",
    "        case 'move L':\n",
    "            return symbols['L']\n",
    "        case 'move R':\n",
    "            return symbols['R']\n",
    "        case 'pick':\n",
    "            return symbols['pick']\n",
    "        case 'drop':\n",
    "            return symbols['drop']\n",
    "        case _:\n",
    "            raise ValueError[f'{command} does not compute!']"
   ]
  },
  {
   "cell_type": "code",
   "execution_count": 21,
   "id": "c0f4fb42-56cb-4cbd-8c81-d323eea24de8",
   "metadata": {},
   "outputs": [
    {
     "data": {
      "text/plain": [
       "'↑'"
      ]
     },
     "execution_count": 21,
     "metadata": {},
     "output_type": "execute_result"
    }
   ],
   "source": [
    "op('move L')"
   ]
  },
  {
   "cell_type": "code",
   "execution_count": 22,
   "id": "be1bec20-a1b5-4567-9966-a1d4347b16dd",
   "metadata": {},
   "outputs": [],
   "source": [
    "def op(command):\n",
    "    match command:\n",
    "        case ['move',('F'|'R'|'L'|'B') as direction]:\n",
    "            return symbols[direction]\n",
    "        case 'pick':\n",
    "            return symbols['pick']\n",
    "        case 'drop':\n",
    "            return symbols['drop']\n",
    "        case _:\n",
    "            raise ValueError(f'{command} does not compute!')"
   ]
  },
  {
   "cell_type": "code",
   "execution_count": 24,
   "id": "ccf33008-d1ca-49fd-9096-cfd90a12d906",
   "metadata": {},
   "outputs": [
    {
     "data": {
      "text/plain": [
       "'↑'"
      ]
     },
     "execution_count": 24,
     "metadata": {},
     "output_type": "execute_result"
    }
   ],
   "source": [
    "op(['move','L'])"
   ]
  },
  {
   "cell_type": "code",
   "execution_count": 25,
   "id": "cd59e26d-1d17-43c6-ac2d-eddae631fb57",
   "metadata": {},
   "outputs": [
    {
     "ename": "ValueError",
     "evalue": "['move', 'U'] does not compute!",
     "output_type": "error",
     "traceback": [
      "\u001b[1;31m-----------------------------------------------------------\u001b[0m",
      "\u001b[1;31mValueError\u001b[0m                Traceback (most recent call last)",
      "Cell \u001b[1;32mIn[25], line 1\u001b[0m\n\u001b[1;32m----> 1\u001b[0m \u001b[43mop\u001b[49m\u001b[43m(\u001b[49m\u001b[43m[\u001b[49m\u001b[38;5;124;43m'\u001b[39;49m\u001b[38;5;124;43mmove\u001b[39;49m\u001b[38;5;124;43m'\u001b[39;49m\u001b[43m,\u001b[49m\u001b[38;5;124;43m'\u001b[39;49m\u001b[38;5;124;43mU\u001b[39;49m\u001b[38;5;124;43m'\u001b[39;49m\u001b[43m]\u001b[49m\u001b[43m)\u001b[49m\n",
      "Cell \u001b[1;32mIn[22], line 10\u001b[0m, in \u001b[0;36mop\u001b[1;34m(command)\u001b[0m\n\u001b[0;32m      8\u001b[0m     \u001b[38;5;28;01mreturn\u001b[39;00m symbols[\u001b[38;5;124m'\u001b[39m\u001b[38;5;124mdrop\u001b[39m\u001b[38;5;124m'\u001b[39m]\n\u001b[0;32m      9\u001b[0m \u001b[38;5;28;01mcase\u001b[39;00m\u001b[38;5;250m \u001b[39m\u001b[38;5;28;01m_\u001b[39;00m:\n\u001b[1;32m---> 10\u001b[0m     \u001b[38;5;28;01mraise\u001b[39;00m \u001b[38;5;167;01mValueError\u001b[39;00m(\u001b[38;5;124mf\u001b[39m\u001b[38;5;124m'\u001b[39m\u001b[38;5;132;01m{\u001b[39;00mcommand\u001b[38;5;132;01m}\u001b[39;00m\u001b[38;5;124m does not compute!\u001b[39m\u001b[38;5;124m'\u001b[39m)\n",
      "\u001b[1;31mValueError\u001b[0m: ['move', 'U'] does not compute!"
     ]
    }
   ],
   "source": [
    "op(['move','U'])"
   ]
  },
  {
   "cell_type": "code",
   "execution_count": 26,
   "id": "55a28e81-50a6-40ac-827f-9fe0fefbd196",
   "metadata": {},
   "outputs": [],
   "source": [
    "def op(command):\n",
    "    match command:\n",
    "        case ['move',*directions]:\n",
    "            return tuple(symbols[direction] for direction in directions)\n",
    "        case 'pick':\n",
    "            return symbols['pick']\n",
    "        case 'drop':\n",
    "            return symbols['drop']\n",
    "        case _:\n",
    "            raise ValueError(f'{command} does not compute!')"
   ]
  },
  {
   "cell_type": "code",
   "execution_count": 28,
   "id": "31e185fb-e210-4cbe-8ac9-6ed0590f2e71",
   "metadata": {},
   "outputs": [
    {
     "data": {
      "text/plain": [
       "[('→', '→', '↑'), '⤣', ('↓', '↑', '→'), '⤥']"
      ]
     },
     "execution_count": 28,
     "metadata": {},
     "output_type": "execute_result"
    }
   ],
   "source": [
    "[\n",
    "    op(['move','F','F','L']),\n",
    "    op('pick'),\n",
    "    op(['move','R','L','F']),\n",
    "    op('drop')\n",
    "]"
   ]
  },
  {
   "cell_type": "code",
   "execution_count": 29,
   "id": "3a40c839-4a14-4fd0-ad66-2f467d23df91",
   "metadata": {},
   "outputs": [
    {
     "ename": "KeyError",
     "evalue": "'up'",
     "output_type": "error",
     "traceback": [
      "\u001b[1;31m-----------------------------------------------------------\u001b[0m",
      "\u001b[1;31mKeyError\u001b[0m                  Traceback (most recent call last)",
      "Cell \u001b[1;32mIn[29], line 1\u001b[0m\n\u001b[1;32m----> 1\u001b[0m \u001b[43mop\u001b[49m\u001b[43m(\u001b[49m\u001b[43m[\u001b[49m\u001b[38;5;124;43m'\u001b[39;49m\u001b[38;5;124;43mmove\u001b[39;49m\u001b[38;5;124;43m'\u001b[39;49m\u001b[43m,\u001b[49m\u001b[38;5;124;43m'\u001b[39;49m\u001b[38;5;124;43mup\u001b[39;49m\u001b[38;5;124;43m'\u001b[39;49m\u001b[43m]\u001b[49m\u001b[43m)\u001b[49m\n",
      "Cell \u001b[1;32mIn[26], line 4\u001b[0m, in \u001b[0;36mop\u001b[1;34m(command)\u001b[0m\n\u001b[0;32m      2\u001b[0m \u001b[38;5;28;01mmatch\u001b[39;00m command:\n\u001b[0;32m      3\u001b[0m     \u001b[38;5;28;01mcase\u001b[39;00m [\u001b[38;5;124m'\u001b[39m\u001b[38;5;124mmove\u001b[39m\u001b[38;5;124m'\u001b[39m,\u001b[38;5;241m*\u001b[39mdirections]:\n\u001b[1;32m----> 4\u001b[0m         \u001b[38;5;28;01mreturn\u001b[39;00m \u001b[38;5;28;43mtuple\u001b[39;49m\u001b[43m(\u001b[49m\u001b[43msymbols\u001b[49m\u001b[43m[\u001b[49m\u001b[43mdirection\u001b[49m\u001b[43m]\u001b[49m\u001b[43m \u001b[49m\u001b[38;5;28;43;01mfor\u001b[39;49;00m\u001b[43m \u001b[49m\u001b[43mdirection\u001b[49m\u001b[43m \u001b[49m\u001b[38;5;129;43;01min\u001b[39;49;00m\u001b[43m \u001b[49m\u001b[43mdirections\u001b[49m\u001b[43m)\u001b[49m\n\u001b[0;32m      5\u001b[0m     \u001b[38;5;28;01mcase\u001b[39;00m \u001b[38;5;124m'\u001b[39m\u001b[38;5;124mpick\u001b[39m\u001b[38;5;124m'\u001b[39m:\n\u001b[0;32m      6\u001b[0m         \u001b[38;5;28;01mreturn\u001b[39;00m symbols[\u001b[38;5;124m'\u001b[39m\u001b[38;5;124mpick\u001b[39m\u001b[38;5;124m'\u001b[39m]\n",
      "Cell \u001b[1;32mIn[26], line 4\u001b[0m, in \u001b[0;36m<genexpr>\u001b[1;34m(.0)\u001b[0m\n\u001b[0;32m      2\u001b[0m \u001b[38;5;28;01mmatch\u001b[39;00m command:\n\u001b[0;32m      3\u001b[0m     \u001b[38;5;28;01mcase\u001b[39;00m [\u001b[38;5;124m'\u001b[39m\u001b[38;5;124mmove\u001b[39m\u001b[38;5;124m'\u001b[39m,\u001b[38;5;241m*\u001b[39mdirections]:\n\u001b[1;32m----> 4\u001b[0m         \u001b[38;5;28;01mreturn\u001b[39;00m \u001b[38;5;28mtuple\u001b[39m(\u001b[43msymbols\u001b[49m\u001b[43m[\u001b[49m\u001b[43mdirection\u001b[49m\u001b[43m]\u001b[49m \u001b[38;5;28;01mfor\u001b[39;00m direction \u001b[38;5;129;01min\u001b[39;00m directions)\n\u001b[0;32m      5\u001b[0m     \u001b[38;5;28;01mcase\u001b[39;00m \u001b[38;5;124m'\u001b[39m\u001b[38;5;124mpick\u001b[39m\u001b[38;5;124m'\u001b[39m:\n\u001b[0;32m      6\u001b[0m         \u001b[38;5;28;01mreturn\u001b[39;00m symbols[\u001b[38;5;124m'\u001b[39m\u001b[38;5;124mpick\u001b[39m\u001b[38;5;124m'\u001b[39m]\n",
      "\u001b[1;31mKeyError\u001b[0m: 'up'"
     ]
    }
   ],
   "source": [
    "op(['move','up'])"
   ]
  },
  {
   "cell_type": "code",
   "execution_count": 30,
   "id": "0c6b4ef7-6e93-413c-bd6b-171c1470ec14",
   "metadata": {},
   "outputs": [],
   "source": [
    "def op(command):\n",
    "    match command:\n",
    "        case ['move',*directions] if set(directions) <= symbols.keys():\n",
    "            return tuple(symbols[direction] for direction in directions)\n",
    "        case 'pick':\n",
    "            return symbols['pick']\n",
    "        case 'drop':\n",
    "            return symbols['drop']\n",
    "        case _:\n",
    "            raise ValueError(f'{command} does not compute!')"
   ]
  },
  {
   "cell_type": "code",
   "execution_count": 31,
   "id": "ffafce25-d1bf-47d0-aef6-b6651509bd7a",
   "metadata": {},
   "outputs": [
    {
     "ename": "ValueError",
     "evalue": "['move', 'up'] does not compute!",
     "output_type": "error",
     "traceback": [
      "\u001b[1;31m-----------------------------------------------------------\u001b[0m",
      "\u001b[1;31mValueError\u001b[0m                Traceback (most recent call last)",
      "Cell \u001b[1;32mIn[31], line 1\u001b[0m\n\u001b[1;32m----> 1\u001b[0m \u001b[43mop\u001b[49m\u001b[43m(\u001b[49m\u001b[43m[\u001b[49m\u001b[38;5;124;43m'\u001b[39;49m\u001b[38;5;124;43mmove\u001b[39;49m\u001b[38;5;124;43m'\u001b[39;49m\u001b[43m,\u001b[49m\u001b[38;5;124;43m'\u001b[39;49m\u001b[38;5;124;43mup\u001b[39;49m\u001b[38;5;124;43m'\u001b[39;49m\u001b[43m]\u001b[49m\u001b[43m)\u001b[49m\n",
      "Cell \u001b[1;32mIn[30], line 10\u001b[0m, in \u001b[0;36mop\u001b[1;34m(command)\u001b[0m\n\u001b[0;32m      8\u001b[0m     \u001b[38;5;28;01mreturn\u001b[39;00m symbols[\u001b[38;5;124m'\u001b[39m\u001b[38;5;124mdrop\u001b[39m\u001b[38;5;124m'\u001b[39m]\n\u001b[0;32m      9\u001b[0m \u001b[38;5;28;01mcase\u001b[39;00m\u001b[38;5;250m \u001b[39m\u001b[38;5;28;01m_\u001b[39;00m:\n\u001b[1;32m---> 10\u001b[0m     \u001b[38;5;28;01mraise\u001b[39;00m \u001b[38;5;167;01mValueError\u001b[39;00m(\u001b[38;5;124mf\u001b[39m\u001b[38;5;124m'\u001b[39m\u001b[38;5;132;01m{\u001b[39;00mcommand\u001b[38;5;132;01m}\u001b[39;00m\u001b[38;5;124m does not compute!\u001b[39m\u001b[38;5;124m'\u001b[39m)\n",
      "\u001b[1;31mValueError\u001b[0m: ['move', 'up'] does not compute!"
     ]
    }
   ],
   "source": [
    "op(['move','up'])"
   ]
  },
  {
   "cell_type": "code",
   "execution_count": 32,
   "id": "043375ba-af55-4fb4-b6cd-d8a4c7be07be",
   "metadata": {},
   "outputs": [],
   "source": [
    "l1 = ['a','b','c']\n",
    "l2 = [10,20,30,40]"
   ]
  },
  {
   "cell_type": "code",
   "execution_count": 33,
   "id": "3ecd976e-2f2c-4b35-851e-5914f502571e",
   "metadata": {},
   "outputs": [
    {
     "data": {
      "text/plain": [
       "[('a', 10), ('b', 20), ('c', 30)]"
      ]
     },
     "execution_count": 33,
     "metadata": {},
     "output_type": "execute_result"
    }
   ],
   "source": [
    "list(zip(l1,l2))"
   ]
  },
  {
   "cell_type": "code",
   "execution_count": 34,
   "id": "1fa0496a-12a7-4548-a68b-eec8f8eda697",
   "metadata": {},
   "outputs": [],
   "source": [
    "from itertools import zip_longest\n"
   ]
  },
  {
   "cell_type": "code",
   "execution_count": 35,
   "id": "77043a54-61ab-4670-b3b5-b96bb70b6f39",
   "metadata": {},
   "outputs": [
    {
     "data": {
      "text/plain": [
       "[('a', 10), ('b', 20), ('c', 30), ('---', 40)]"
      ]
     },
     "execution_count": 35,
     "metadata": {},
     "output_type": "execute_result"
    }
   ],
   "source": [
    "list(zip_longest(l1,l2,fillvalue='---'))"
   ]
  },
  {
   "cell_type": "code",
   "execution_count": 36,
   "id": "0397adb6-ba6a-430b-b3af-f9425e77b38f",
   "metadata": {},
   "outputs": [],
   "source": [
    "l1 = (i ** 2 for i in range(4))\n",
    "l2 = (i ** 3 for i in range(3))"
   ]
  },
  {
   "cell_type": "code",
   "execution_count": 37,
   "id": "e07e05da-734d-4925-b489-a37132855ead",
   "metadata": {},
   "outputs": [
    {
     "data": {
      "text/plain": [
       "False"
      ]
     },
     "execution_count": 37,
     "metadata": {},
     "output_type": "execute_result"
    }
   ],
   "source": [
    "len(list(l1)) == len(list(l2))"
   ]
  },
  {
   "cell_type": "code",
   "execution_count": 38,
   "id": "6e018d49-88d9-4bdb-b81f-e37ee1bbf13a",
   "metadata": {},
   "outputs": [
    {
     "data": {
      "text/plain": [
       "[]"
      ]
     },
     "execution_count": 38,
     "metadata": {},
     "output_type": "execute_result"
    }
   ],
   "source": [
    "list(zip(l1,l2))"
   ]
  },
  {
   "cell_type": "code",
   "execution_count": 39,
   "id": "63118770-3cc7-4448-aa24-f496cff668dc",
   "metadata": {},
   "outputs": [],
   "source": [
    "l1 = (i ** 2 for i in range(4))\n",
    "l2 = (i ** 3 for i in range(3))"
   ]
  },
  {
   "cell_type": "code",
   "execution_count": 40,
   "id": "554099a5-52c6-4870-9484-c84fa77a9077",
   "metadata": {},
   "outputs": [],
   "source": [
    "result = zip(l1,l2,strict=True)"
   ]
  },
  {
   "cell_type": "code",
   "execution_count": 41,
   "id": "99ef597d-7680-40c1-8f94-67283d35ba25",
   "metadata": {},
   "outputs": [
    {
     "ename": "ValueError",
     "evalue": "zip() argument 2 is shorter than argument 1",
     "output_type": "error",
     "traceback": [
      "\u001b[1;31m-----------------------------------------------------------\u001b[0m",
      "\u001b[1;31mValueError\u001b[0m                Traceback (most recent call last)",
      "Cell \u001b[1;32mIn[41], line 1\u001b[0m\n\u001b[1;32m----> 1\u001b[0m \u001b[38;5;28;43mlist\u001b[39;49m\u001b[43m(\u001b[49m\u001b[43mresult\u001b[49m\u001b[43m)\u001b[49m\n",
      "\u001b[1;31mValueError\u001b[0m: zip() argument 2 is shorter than argument 1"
     ]
    }
   ],
   "source": [
    "list(result)"
   ]
  },
  {
   "cell_type": "code",
   "execution_count": null,
   "id": "46c73b63-5a05-47a3-9801-7f259dcbc2d6",
   "metadata": {},
   "outputs": [],
   "source": []
  }
 ],
 "metadata": {
  "kernelspec": {
   "display_name": "Python 3 (ipykernel)",
   "language": "python",
   "name": "python3"
  },
  "language_info": {
   "codemirror_mode": {
    "name": "ipython",
    "version": 3
   },
   "file_extension": ".py",
   "mimetype": "text/x-python",
   "name": "python",
   "nbconvert_exporter": "python",
   "pygments_lexer": "ipython3",
   "version": "3.11.5"
  },
  "widgets": {
   "application/vnd.jupyter.widget-state+json": {
    "state": {},
    "version_major": 2,
    "version_minor": 0
   }
  }
 },
 "nbformat": 4,
 "nbformat_minor": 5
}
