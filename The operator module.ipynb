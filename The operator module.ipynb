{
 "cells": [
  {
   "cell_type": "code",
   "execution_count": 1,
   "id": "72ff33c9",
   "metadata": {},
   "outputs": [],
   "source": [
    "import operator"
   ]
  },
  {
   "cell_type": "code",
   "execution_count": 2,
   "id": "5a8befe6",
   "metadata": {},
   "outputs": [
    {
     "data": {
      "text/plain": [
       "['__abs__',\n",
       " '__add__',\n",
       " '__all__',\n",
       " '__and__',\n",
       " '__builtins__',\n",
       " '__cached__',\n",
       " '__concat__',\n",
       " '__contains__',\n",
       " '__delitem__',\n",
       " '__doc__',\n",
       " '__eq__',\n",
       " '__file__',\n",
       " '__floordiv__',\n",
       " '__ge__',\n",
       " '__getitem__',\n",
       " '__gt__',\n",
       " '__iadd__',\n",
       " '__iand__',\n",
       " '__iconcat__',\n",
       " '__ifloordiv__',\n",
       " '__ilshift__',\n",
       " '__imatmul__',\n",
       " '__imod__',\n",
       " '__imul__',\n",
       " '__index__',\n",
       " '__inv__',\n",
       " '__invert__',\n",
       " '__ior__',\n",
       " '__ipow__',\n",
       " '__irshift__',\n",
       " '__isub__',\n",
       " '__itruediv__',\n",
       " '__ixor__',\n",
       " '__le__',\n",
       " '__loader__',\n",
       " '__lshift__',\n",
       " '__lt__',\n",
       " '__matmul__',\n",
       " '__mod__',\n",
       " '__mul__',\n",
       " '__name__',\n",
       " '__ne__',\n",
       " '__neg__',\n",
       " '__not__',\n",
       " '__or__',\n",
       " '__package__',\n",
       " '__pos__',\n",
       " '__pow__',\n",
       " '__rshift__',\n",
       " '__setitem__',\n",
       " '__spec__',\n",
       " '__sub__',\n",
       " '__truediv__',\n",
       " '__xor__',\n",
       " '_abs',\n",
       " 'abs',\n",
       " 'add',\n",
       " 'and_',\n",
       " 'attrgetter',\n",
       " 'concat',\n",
       " 'contains',\n",
       " 'countOf',\n",
       " 'delitem',\n",
       " 'eq',\n",
       " 'floordiv',\n",
       " 'ge',\n",
       " 'getitem',\n",
       " 'gt',\n",
       " 'iadd',\n",
       " 'iand',\n",
       " 'iconcat',\n",
       " 'ifloordiv',\n",
       " 'ilshift',\n",
       " 'imatmul',\n",
       " 'imod',\n",
       " 'imul',\n",
       " 'index',\n",
       " 'indexOf',\n",
       " 'inv',\n",
       " 'invert',\n",
       " 'ior',\n",
       " 'ipow',\n",
       " 'irshift',\n",
       " 'is_',\n",
       " 'is_not',\n",
       " 'isub',\n",
       " 'itemgetter',\n",
       " 'itruediv',\n",
       " 'ixor',\n",
       " 'le',\n",
       " 'length_hint',\n",
       " 'lshift',\n",
       " 'lt',\n",
       " 'matmul',\n",
       " 'methodcaller',\n",
       " 'mod',\n",
       " 'mul',\n",
       " 'ne',\n",
       " 'neg',\n",
       " 'not_',\n",
       " 'or_',\n",
       " 'pos',\n",
       " 'pow',\n",
       " 'rshift',\n",
       " 'setitem',\n",
       " 'sub',\n",
       " 'truediv',\n",
       " 'truth',\n",
       " 'xor']"
      ]
     },
     "execution_count": 2,
     "metadata": {},
     "output_type": "execute_result"
    }
   ],
   "source": [
    "dir(operator)"
   ]
  },
  {
   "cell_type": "code",
   "execution_count": 3,
   "id": "a323bac3",
   "metadata": {},
   "outputs": [
    {
     "data": {
      "text/plain": [
       "3"
      ]
     },
     "execution_count": 3,
     "metadata": {},
     "output_type": "execute_result"
    }
   ],
   "source": [
    "operator.add(1,2)"
   ]
  },
  {
   "cell_type": "code",
   "execution_count": 4,
   "id": "93b1fb10",
   "metadata": {},
   "outputs": [
    {
     "data": {
      "text/plain": [
       "6"
      ]
     },
     "execution_count": 4,
     "metadata": {},
     "output_type": "execute_result"
    }
   ],
   "source": [
    "operator.mul(2,3)"
   ]
  },
  {
   "cell_type": "code",
   "execution_count": 5,
   "id": "c178796a",
   "metadata": {},
   "outputs": [
    {
     "data": {
      "text/plain": [
       "6.5"
      ]
     },
     "execution_count": 5,
     "metadata": {},
     "output_type": "execute_result"
    }
   ],
   "source": [
    "operator.truediv(13,2)"
   ]
  },
  {
   "cell_type": "code",
   "execution_count": 6,
   "id": "da447f28",
   "metadata": {},
   "outputs": [
    {
     "data": {
      "text/plain": [
       "6"
      ]
     },
     "execution_count": 6,
     "metadata": {},
     "output_type": "execute_result"
    }
   ],
   "source": [
    "operator.floordiv(13,2)"
   ]
  },
  {
   "cell_type": "code",
   "execution_count": 7,
   "id": "adf5a468",
   "metadata": {},
   "outputs": [],
   "source": [
    "from functools import reduce"
   ]
  },
  {
   "cell_type": "code",
   "execution_count": 8,
   "id": "6d09fff7",
   "metadata": {},
   "outputs": [
    {
     "data": {
      "text/plain": [
       "120"
      ]
     },
     "execution_count": 8,
     "metadata": {},
     "output_type": "execute_result"
    }
   ],
   "source": [
    "reduce(lambda x,y:x*y,[1,2,3,4,5])"
   ]
  },
  {
   "cell_type": "code",
   "execution_count": 9,
   "id": "7631e90b",
   "metadata": {},
   "outputs": [
    {
     "data": {
      "text/plain": [
       "120"
      ]
     },
     "execution_count": 9,
     "metadata": {},
     "output_type": "execute_result"
    }
   ],
   "source": [
    "reduce(operator.mul,[1,2,3,4,5])"
   ]
  },
  {
   "cell_type": "code",
   "execution_count": 10,
   "id": "07147835",
   "metadata": {},
   "outputs": [
    {
     "data": {
      "text/plain": [
       "False"
      ]
     },
     "execution_count": 10,
     "metadata": {},
     "output_type": "execute_result"
    }
   ],
   "source": [
    "operator.lt(100,3)"
   ]
  },
  {
   "cell_type": "code",
   "execution_count": 11,
   "id": "2f001d86",
   "metadata": {},
   "outputs": [
    {
     "data": {
      "text/plain": [
       "False"
      ]
     },
     "execution_count": 11,
     "metadata": {},
     "output_type": "execute_result"
    }
   ],
   "source": [
    "operator.is_('abc','cbs')"
   ]
  },
  {
   "cell_type": "code",
   "execution_count": 13,
   "id": "82e2a9c1",
   "metadata": {},
   "outputs": [],
   "source": [
    "from operator import is_"
   ]
  },
  {
   "cell_type": "code",
   "execution_count": 14,
   "id": "1717e297",
   "metadata": {},
   "outputs": [
    {
     "data": {
      "text/plain": [
       "False"
      ]
     },
     "execution_count": 14,
     "metadata": {},
     "output_type": "execute_result"
    }
   ],
   "source": [
    "is_('abc','cbs')"
   ]
  },
  {
   "cell_type": "code",
   "execution_count": 15,
   "id": "292cd20e",
   "metadata": {},
   "outputs": [
    {
     "data": {
      "text/plain": [
       "True"
      ]
     },
     "execution_count": 15,
     "metadata": {},
     "output_type": "execute_result"
    }
   ],
   "source": [
    "is_('abc','abc')"
   ]
  },
  {
   "cell_type": "code",
   "execution_count": 16,
   "id": "984d4fd3",
   "metadata": {},
   "outputs": [
    {
     "data": {
      "text/plain": [
       "False"
      ]
     },
     "execution_count": 16,
     "metadata": {},
     "output_type": "execute_result"
    }
   ],
   "source": [
    "operator.truth([])"
   ]
  },
  {
   "cell_type": "code",
   "execution_count": 17,
   "id": "c21b8297",
   "metadata": {},
   "outputs": [
    {
     "data": {
      "text/plain": [
       "True"
      ]
     },
     "execution_count": 17,
     "metadata": {},
     "output_type": "execute_result"
    }
   ],
   "source": [
    "operator.truth([1])"
   ]
  },
  {
   "cell_type": "code",
   "execution_count": 18,
   "id": "c7218538",
   "metadata": {},
   "outputs": [],
   "source": [
    "my_list = [1,2,3,4]"
   ]
  },
  {
   "cell_type": "code",
   "execution_count": 19,
   "id": "1ca611fa",
   "metadata": {},
   "outputs": [
    {
     "data": {
      "text/plain": [
       "2"
      ]
     },
     "execution_count": 19,
     "metadata": {},
     "output_type": "execute_result"
    }
   ],
   "source": [
    "my_list[1]"
   ]
  },
  {
   "cell_type": "code",
   "execution_count": 20,
   "id": "288caac4",
   "metadata": {},
   "outputs": [
    {
     "data": {
      "text/plain": [
       "2"
      ]
     },
     "execution_count": 20,
     "metadata": {},
     "output_type": "execute_result"
    }
   ],
   "source": [
    "operator.getitem(my_list,1)"
   ]
  },
  {
   "cell_type": "code",
   "execution_count": 21,
   "id": "90c40ffc",
   "metadata": {},
   "outputs": [],
   "source": [
    "my_list[1] = 100"
   ]
  },
  {
   "cell_type": "code",
   "execution_count": 22,
   "id": "415b11e4",
   "metadata": {},
   "outputs": [
    {
     "data": {
      "text/plain": [
       "[1, 100, 3, 4]"
      ]
     },
     "execution_count": 22,
     "metadata": {},
     "output_type": "execute_result"
    }
   ],
   "source": [
    "my_list"
   ]
  },
  {
   "cell_type": "code",
   "execution_count": 23,
   "id": "41293ace",
   "metadata": {},
   "outputs": [],
   "source": [
    "del my_list[3]"
   ]
  },
  {
   "cell_type": "code",
   "execution_count": 24,
   "id": "9a7cad8e",
   "metadata": {},
   "outputs": [
    {
     "data": {
      "text/plain": [
       "[1, 100, 3]"
      ]
     },
     "execution_count": 24,
     "metadata": {},
     "output_type": "execute_result"
    }
   ],
   "source": [
    "my_list"
   ]
  },
  {
   "cell_type": "code",
   "execution_count": 25,
   "id": "085fac2e",
   "metadata": {},
   "outputs": [],
   "source": [
    "my_lsit = [1,2,3,4]"
   ]
  },
  {
   "cell_type": "code",
   "execution_count": 26,
   "id": "50cefb5b",
   "metadata": {},
   "outputs": [],
   "source": [
    "operator.setitem(my_lsit,1,100)"
   ]
  },
  {
   "cell_type": "code",
   "execution_count": 27,
   "id": "d8603fb3",
   "metadata": {},
   "outputs": [
    {
     "data": {
      "text/plain": [
       "[1, 100, 3, 4]"
      ]
     },
     "execution_count": 27,
     "metadata": {},
     "output_type": "execute_result"
    }
   ],
   "source": [
    "my_lsit"
   ]
  },
  {
   "cell_type": "code",
   "execution_count": 28,
   "id": "88577ac0",
   "metadata": {},
   "outputs": [],
   "source": [
    "operator.delitem(my_lsit,3)"
   ]
  },
  {
   "cell_type": "code",
   "execution_count": 29,
   "id": "90342dcc",
   "metadata": {},
   "outputs": [
    {
     "data": {
      "text/plain": [
       "[1, 100, 3]"
      ]
     },
     "execution_count": 29,
     "metadata": {},
     "output_type": "execute_result"
    }
   ],
   "source": [
    "my_lsit"
   ]
  },
  {
   "cell_type": "code",
   "execution_count": 30,
   "id": "898a4467",
   "metadata": {},
   "outputs": [],
   "source": [
    "f = operator.itemgetter(2)"
   ]
  },
  {
   "cell_type": "code",
   "execution_count": 31,
   "id": "fa73161b",
   "metadata": {},
   "outputs": [
    {
     "data": {
      "text/plain": [
       "operator.itemgetter(2)"
      ]
     },
     "execution_count": 31,
     "metadata": {},
     "output_type": "execute_result"
    }
   ],
   "source": [
    "f"
   ]
  },
  {
   "cell_type": "code",
   "execution_count": 32,
   "id": "c7393e73",
   "metadata": {},
   "outputs": [
    {
     "data": {
      "text/plain": [
       "operator.itemgetter"
      ]
     },
     "execution_count": 32,
     "metadata": {},
     "output_type": "execute_result"
    }
   ],
   "source": [
    "type(f)"
   ]
  },
  {
   "cell_type": "code",
   "execution_count": 34,
   "id": "34290732",
   "metadata": {},
   "outputs": [
    {
     "data": {
      "text/plain": [
       "3"
      ]
     },
     "execution_count": 34,
     "metadata": {},
     "output_type": "execute_result"
    }
   ],
   "source": [
    "my_lsit = [1,2,3,4]\n",
    "f(my_lsit)"
   ]
  },
  {
   "cell_type": "code",
   "execution_count": 35,
   "id": "df182f1e",
   "metadata": {},
   "outputs": [],
   "source": [
    "s = 'python'"
   ]
  },
  {
   "cell_type": "code",
   "execution_count": 36,
   "id": "5c52d080",
   "metadata": {},
   "outputs": [
    {
     "data": {
      "text/plain": [
       "'t'"
      ]
     },
     "execution_count": 36,
     "metadata": {},
     "output_type": "execute_result"
    }
   ],
   "source": [
    "f(s)"
   ]
  },
  {
   "cell_type": "code",
   "execution_count": 38,
   "id": "97ba5666",
   "metadata": {},
   "outputs": [],
   "source": [
    "f = operator.itemgetter(2,3)"
   ]
  },
  {
   "cell_type": "code",
   "execution_count": 39,
   "id": "29a56751",
   "metadata": {},
   "outputs": [],
   "source": [
    "my_list = [1,2,3,4]"
   ]
  },
  {
   "cell_type": "code",
   "execution_count": 40,
   "id": "bcb207e9",
   "metadata": {},
   "outputs": [
    {
     "data": {
      "text/plain": [
       "(3, 4)"
      ]
     },
     "execution_count": 40,
     "metadata": {},
     "output_type": "execute_result"
    }
   ],
   "source": [
    "f(my_list)"
   ]
  },
  {
   "cell_type": "code",
   "execution_count": 41,
   "id": "b192b54a",
   "metadata": {},
   "outputs": [
    {
     "data": {
      "text/plain": [
       "('t', 'h')"
      ]
     },
     "execution_count": 41,
     "metadata": {},
     "output_type": "execute_result"
    }
   ],
   "source": [
    "f('python')"
   ]
  },
  {
   "cell_type": "code",
   "execution_count": 42,
   "id": "469bd862",
   "metadata": {},
   "outputs": [],
   "source": [
    "class MyClass:\n",
    "    def __init__(self):\n",
    "        self.a = 10\n",
    "        self.b = 20\n",
    "        self.c = 30\n",
    "        \n",
    "    def test(self):\n",
    "        print('test method running...')"
   ]
  },
  {
   "cell_type": "code",
   "execution_count": 43,
   "id": "066fcf87",
   "metadata": {},
   "outputs": [],
   "source": [
    "obj = MyClass()"
   ]
  },
  {
   "cell_type": "code",
   "execution_count": 44,
   "id": "a8e9e5d2",
   "metadata": {},
   "outputs": [
    {
     "data": {
      "text/plain": [
       "<__main__.MyClass at 0x1c3b0137790>"
      ]
     },
     "execution_count": 44,
     "metadata": {},
     "output_type": "execute_result"
    }
   ],
   "source": [
    "obj"
   ]
  },
  {
   "cell_type": "code",
   "execution_count": 46,
   "id": "3be16c59",
   "metadata": {},
   "outputs": [
    {
     "data": {
      "text/plain": [
       "10"
      ]
     },
     "execution_count": 46,
     "metadata": {},
     "output_type": "execute_result"
    }
   ],
   "source": [
    "obj.a"
   ]
  },
  {
   "cell_type": "code",
   "execution_count": 49,
   "id": "c7b6cc2b",
   "metadata": {},
   "outputs": [
    {
     "data": {
      "text/plain": [
       "20"
      ]
     },
     "execution_count": 49,
     "metadata": {},
     "output_type": "execute_result"
    }
   ],
   "source": [
    "obj.b"
   ]
  },
  {
   "cell_type": "code",
   "execution_count": 50,
   "id": "4ebba68c",
   "metadata": {},
   "outputs": [
    {
     "data": {
      "text/plain": [
       "30"
      ]
     },
     "execution_count": 50,
     "metadata": {},
     "output_type": "execute_result"
    }
   ],
   "source": [
    "obj.c"
   ]
  },
  {
   "cell_type": "code",
   "execution_count": 48,
   "id": "885e2441",
   "metadata": {},
   "outputs": [
    {
     "name": "stdout",
     "output_type": "stream",
     "text": [
      "test method running...\n"
     ]
    }
   ],
   "source": [
    "obj.test()"
   ]
  },
  {
   "cell_type": "code",
   "execution_count": 52,
   "id": "7e72e414",
   "metadata": {},
   "outputs": [],
   "source": [
    "prop_a = operator.attrgetter('a')"
   ]
  },
  {
   "cell_type": "code",
   "execution_count": 55,
   "id": "5629c9d1",
   "metadata": {},
   "outputs": [
    {
     "data": {
      "text/plain": [
       "10"
      ]
     },
     "execution_count": 55,
     "metadata": {},
     "output_type": "execute_result"
    }
   ],
   "source": [
    "prop_a(obj)"
   ]
  },
  {
   "cell_type": "code",
   "execution_count": 58,
   "id": "4ddeaea0",
   "metadata": {},
   "outputs": [],
   "source": [
    "prop_b = operator.attrgetter('b')"
   ]
  },
  {
   "cell_type": "code",
   "execution_count": 59,
   "id": "ed87e762",
   "metadata": {},
   "outputs": [
    {
     "data": {
      "text/plain": [
       "20"
      ]
     },
     "execution_count": 59,
     "metadata": {},
     "output_type": "execute_result"
    }
   ],
   "source": [
    "prop_b(obj)"
   ]
  },
  {
   "cell_type": "code",
   "execution_count": 61,
   "id": "8eca4218",
   "metadata": {},
   "outputs": [],
   "source": [
    "a,b,test = operator.attrgetter('a','b','test')(obj)"
   ]
  },
  {
   "cell_type": "code",
   "execution_count": 62,
   "id": "aadae61c",
   "metadata": {},
   "outputs": [
    {
     "data": {
      "text/plain": [
       "10"
      ]
     },
     "execution_count": 62,
     "metadata": {},
     "output_type": "execute_result"
    }
   ],
   "source": [
    "a"
   ]
  },
  {
   "cell_type": "code",
   "execution_count": 63,
   "id": "1a2529d6",
   "metadata": {},
   "outputs": [
    {
     "data": {
      "text/plain": [
       "20"
      ]
     },
     "execution_count": 63,
     "metadata": {},
     "output_type": "execute_result"
    }
   ],
   "source": [
    "b"
   ]
  },
  {
   "cell_type": "code",
   "execution_count": 64,
   "id": "8341fb42",
   "metadata": {},
   "outputs": [
    {
     "data": {
      "text/plain": [
       "<bound method MyClass.test of <__main__.MyClass object at 0x000001C3B0137790>>"
      ]
     },
     "execution_count": 64,
     "metadata": {},
     "output_type": "execute_result"
    }
   ],
   "source": [
    "test"
   ]
  },
  {
   "cell_type": "code",
   "execution_count": 65,
   "id": "062937c1",
   "metadata": {},
   "outputs": [
    {
     "name": "stdout",
     "output_type": "stream",
     "text": [
      "test method running...\n"
     ]
    }
   ],
   "source": [
    "test()"
   ]
  },
  {
   "cell_type": "code",
   "execution_count": 66,
   "id": "2c3cc569",
   "metadata": {},
   "outputs": [],
   "source": [
    "f = lambda x: x.a"
   ]
  },
  {
   "cell_type": "code",
   "execution_count": 67,
   "id": "1d2470e1",
   "metadata": {},
   "outputs": [
    {
     "data": {
      "text/plain": [
       "10"
      ]
     },
     "execution_count": 67,
     "metadata": {},
     "output_type": "execute_result"
    }
   ],
   "source": [
    "f(obj)"
   ]
  },
  {
   "cell_type": "code",
   "execution_count": 68,
   "id": "d8a81646",
   "metadata": {},
   "outputs": [],
   "source": [
    "f = lambda x:x[2]"
   ]
  },
  {
   "cell_type": "code",
   "execution_count": 70,
   "id": "b03dad99",
   "metadata": {},
   "outputs": [],
   "source": [
    "x = [1,2,3,4]"
   ]
  },
  {
   "cell_type": "code",
   "execution_count": 71,
   "id": "55802f46",
   "metadata": {},
   "outputs": [
    {
     "data": {
      "text/plain": [
       "3"
      ]
     },
     "execution_count": 71,
     "metadata": {},
     "output_type": "execute_result"
    }
   ],
   "source": [
    "f(x)"
   ]
  },
  {
   "cell_type": "code",
   "execution_count": 72,
   "id": "9720fbd4",
   "metadata": {},
   "outputs": [],
   "source": [
    "a = 5 + 10j"
   ]
  },
  {
   "cell_type": "code",
   "execution_count": 73,
   "id": "f04b16e6",
   "metadata": {},
   "outputs": [
    {
     "data": {
      "text/plain": [
       "5.0"
      ]
     },
     "execution_count": 73,
     "metadata": {},
     "output_type": "execute_result"
    }
   ],
   "source": [
    "a.real"
   ]
  },
  {
   "cell_type": "code",
   "execution_count": 74,
   "id": "48741e0f",
   "metadata": {},
   "outputs": [
    {
     "data": {
      "text/plain": [
       "(5+10j)"
      ]
     },
     "execution_count": 74,
     "metadata": {},
     "output_type": "execute_result"
    }
   ],
   "source": [
    "a"
   ]
  },
  {
   "cell_type": "code",
   "execution_count": 75,
   "id": "07aabe89",
   "metadata": {},
   "outputs": [],
   "source": [
    "l = [5-10j,3+3j,2-100j]"
   ]
  },
  {
   "cell_type": "code",
   "execution_count": 77,
   "id": "7e22f4cb",
   "metadata": {},
   "outputs": [
    {
     "data": {
      "text/plain": [
       "[(2-100j), (3+3j), (5-10j)]"
      ]
     },
     "execution_count": 77,
     "metadata": {},
     "output_type": "execute_result"
    }
   ],
   "source": [
    "sorted(l,key=lambda x:x.real)"
   ]
  },
  {
   "cell_type": "code",
   "execution_count": 79,
   "id": "5e0bd266",
   "metadata": {},
   "outputs": [
    {
     "data": {
      "text/plain": [
       "[(2-100j), (3+3j), (5-10j)]"
      ]
     },
     "execution_count": 79,
     "metadata": {},
     "output_type": "execute_result"
    }
   ],
   "source": [
    "sorted(l,key=operator.attrgetter('real'))"
   ]
  },
  {
   "cell_type": "code",
   "execution_count": 80,
   "id": "51ddd921",
   "metadata": {},
   "outputs": [],
   "source": [
    "l = [(2,3,4),(1,3,5),(6,),(4,100)]"
   ]
  },
  {
   "cell_type": "code",
   "execution_count": 81,
   "id": "98900d7e",
   "metadata": {},
   "outputs": [
    {
     "data": {
      "text/plain": [
       "[(1, 3, 5), (2, 3, 4), (4, 100), (6,)]"
      ]
     },
     "execution_count": 81,
     "metadata": {},
     "output_type": "execute_result"
    }
   ],
   "source": [
    "sorted(l,key=lambda x:x[0])"
   ]
  },
  {
   "cell_type": "code",
   "execution_count": 83,
   "id": "75b14f2b",
   "metadata": {},
   "outputs": [
    {
     "data": {
      "text/plain": [
       "[(1, 3, 5), (2, 3, 4), (4, 100), (6,)]"
      ]
     },
     "execution_count": 83,
     "metadata": {},
     "output_type": "execute_result"
    }
   ],
   "source": [
    "sorted(l,key=operator.itemgetter(0))"
   ]
  },
  {
   "cell_type": "code",
   "execution_count": 84,
   "id": "21d0e571",
   "metadata": {},
   "outputs": [],
   "source": [
    "class MyClass:\n",
    "    def __init__(self):\n",
    "        self.a = 10\n",
    "        self.b = 20\n",
    "        self.c = 30\n",
    "        \n",
    "    def test(self):\n",
    "        print('test method running...')"
   ]
  },
  {
   "cell_type": "code",
   "execution_count": 85,
   "id": "1ef66f8a",
   "metadata": {},
   "outputs": [],
   "source": [
    "obj = MyClass()"
   ]
  },
  {
   "cell_type": "code",
   "execution_count": 86,
   "id": "52765d96",
   "metadata": {},
   "outputs": [],
   "source": [
    "f = operator.attrgetter('test')"
   ]
  },
  {
   "cell_type": "code",
   "execution_count": 87,
   "id": "5a729750",
   "metadata": {},
   "outputs": [
    {
     "data": {
      "text/plain": [
       "<bound method MyClass.test of <__main__.MyClass object at 0x000001C3B0060520>>"
      ]
     },
     "execution_count": 87,
     "metadata": {},
     "output_type": "execute_result"
    }
   ],
   "source": [
    "f(obj)"
   ]
  },
  {
   "cell_type": "code",
   "execution_count": 88,
   "id": "00acc889",
   "metadata": {},
   "outputs": [
    {
     "name": "stdout",
     "output_type": "stream",
     "text": [
      "test method running...\n"
     ]
    }
   ],
   "source": [
    "f(obj)()"
   ]
  },
  {
   "cell_type": "code",
   "execution_count": 89,
   "id": "5b3426a5",
   "metadata": {},
   "outputs": [],
   "source": [
    "f = operator.methodcaller('test')"
   ]
  },
  {
   "cell_type": "code",
   "execution_count": 90,
   "id": "979bf378",
   "metadata": {},
   "outputs": [
    {
     "name": "stdout",
     "output_type": "stream",
     "text": [
      "test method running...\n"
     ]
    }
   ],
   "source": [
    "f(obj)"
   ]
  },
  {
   "cell_type": "code",
   "execution_count": 91,
   "id": "e5958b41",
   "metadata": {},
   "outputs": [],
   "source": [
    "class MyClass:\n",
    "    def __init__(self):\n",
    "        self.a = 10\n",
    "        self.b = 20\n",
    "    \n",
    "        \n",
    "    def test(self,c):\n",
    "        print(self.a,self.b,c)"
   ]
  },
  {
   "cell_type": "code",
   "execution_count": 92,
   "id": "7181b117",
   "metadata": {},
   "outputs": [],
   "source": [
    "obj = MyClass()"
   ]
  },
  {
   "cell_type": "code",
   "execution_count": 93,
   "id": "62365da9",
   "metadata": {},
   "outputs": [
    {
     "name": "stdout",
     "output_type": "stream",
     "text": [
      "10 20 100\n"
     ]
    }
   ],
   "source": [
    "obj.test(100)"
   ]
  },
  {
   "cell_type": "code",
   "execution_count": 95,
   "id": "5c4f1d3a",
   "metadata": {},
   "outputs": [
    {
     "name": "stdout",
     "output_type": "stream",
     "text": [
      "10 20 100\n"
     ]
    }
   ],
   "source": [
    "operator.methodcaller('test',100)(obj)"
   ]
  },
  {
   "cell_type": "code",
   "execution_count": 96,
   "id": "40b1bb82",
   "metadata": {},
   "outputs": [],
   "source": [
    "class MyClass:\n",
    "    def __init__(self):\n",
    "        self.a = 10\n",
    "        self.b = 20\n",
    "        self.c = 30\n",
    "        \n",
    "    def test(self,c,d,*,e):\n",
    "        print(self.a,self.b,c,d,e)"
   ]
  },
  {
   "cell_type": "code",
   "execution_count": 97,
   "id": "5a8e8214",
   "metadata": {},
   "outputs": [],
   "source": [
    "obj = MyClass()"
   ]
  },
  {
   "cell_type": "code",
   "execution_count": 98,
   "id": "feb4a66c",
   "metadata": {},
   "outputs": [
    {
     "data": {
      "text/plain": [
       "10"
      ]
     },
     "execution_count": 98,
     "metadata": {},
     "output_type": "execute_result"
    }
   ],
   "source": [
    "obj.a"
   ]
  },
  {
   "cell_type": "code",
   "execution_count": 99,
   "id": "f3aa21ac",
   "metadata": {},
   "outputs": [
    {
     "name": "stdout",
     "output_type": "stream",
     "text": [
      "10 20 100 200 300\n"
     ]
    }
   ],
   "source": [
    "obj.test(100,200,e=300)"
   ]
  },
  {
   "cell_type": "code",
   "execution_count": 100,
   "id": "3467d8fc",
   "metadata": {},
   "outputs": [
    {
     "name": "stdout",
     "output_type": "stream",
     "text": [
      "10 20 100 200 300\n"
     ]
    }
   ],
   "source": [
    "operator.methodcaller('test',100,200,e=300)(obj)"
   ]
  },
  {
   "cell_type": "code",
   "execution_count": 101,
   "id": "fc049396",
   "metadata": {},
   "outputs": [],
   "source": [
    "f = operator.attrgetter('test')"
   ]
  },
  {
   "cell_type": "code",
   "execution_count": 103,
   "id": "021bf83b",
   "metadata": {},
   "outputs": [
    {
     "name": "stdout",
     "output_type": "stream",
     "text": [
      "10 20 10 20 100\n"
     ]
    }
   ],
   "source": [
    "f(obj)(10,20,e=100)"
   ]
  },
  {
   "cell_type": "code",
   "execution_count": null,
   "id": "62cd3ac8",
   "metadata": {},
   "outputs": [],
   "source": []
  }
 ],
 "metadata": {
  "kernelspec": {
   "display_name": "Python 3 (ipykernel)",
   "language": "python",
   "name": "python3"
  },
  "language_info": {
   "codemirror_mode": {
    "name": "ipython",
    "version": 3
   },
   "file_extension": ".py",
   "mimetype": "text/x-python",
   "name": "python",
   "nbconvert_exporter": "python",
   "pygments_lexer": "ipython3",
   "version": "3.9.13"
  }
 },
 "nbformat": 4,
 "nbformat_minor": 5
}
