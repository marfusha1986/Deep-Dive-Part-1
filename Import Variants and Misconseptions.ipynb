{
 "cells": [
  {
   "cell_type": "code",
   "execution_count": 1,
   "id": "e8ec7fac-ed2c-44bd-b3a1-2eb9d9d75d5c",
   "metadata": {},
   "outputs": [],
   "source": [
    "import sys"
   ]
  },
  {
   "cell_type": "code",
   "execution_count": 2,
   "id": "dca3bc8a-fcb6-4b44-b72c-39857868c221",
   "metadata": {},
   "outputs": [
    {
     "name": "stdout",
     "output_type": "stream",
     "text": [
      "IPython\n",
      "IPython.core\n",
      "IPython.core.alias\n",
      "IPython.core.application\n",
      "IPython.core.async_helpers\n",
      "IPython.core.autocall\n",
      "IPython.core.builtin_trap\n",
      "IPython.core.compilerop\n",
      "IPython.core.completer\n",
      "IPython.core.completerlib\n",
      "IPython.core.crashhandler\n",
      "IPython.core.debugger\n",
      "IPython.core.display\n",
      "IPython.core.display_functions\n",
      "IPython.core.display_trap\n",
      "IPython.core.displayhook\n",
      "IPython.core.displaypub\n",
      "IPython.core.error\n",
      "IPython.core.events\n",
      "IPython.core.excolors\n",
      "IPython.core.extensions\n",
      "IPython.core.formatters\n",
      "IPython.core.getipython\n",
      "IPython.core.guarded_eval\n",
      "IPython.core.history\n",
      "IPython.core.hooks\n",
      "IPython.core.inputtransformer2\n",
      "IPython.core.interactiveshell\n",
      "IPython.core.latex_symbols\n",
      "IPython.core.logger\n",
      "IPython.core.macro\n",
      "IPython.core.magic\n",
      "IPython.core.magic_arguments\n",
      "IPython.core.magics\n",
      "IPython.core.magics.ast_mod\n",
      "IPython.core.magics.auto\n",
      "IPython.core.magics.basic\n",
      "IPython.core.magics.code\n",
      "IPython.core.magics.config\n",
      "IPython.core.magics.display\n",
      "IPython.core.magics.execution\n",
      "IPython.core.magics.extension\n",
      "IPython.core.magics.history\n",
      "IPython.core.magics.logging\n",
      "IPython.core.magics.namespace\n",
      "IPython.core.magics.osm\n",
      "IPython.core.magics.packaging\n",
      "IPython.core.magics.pylab\n",
      "IPython.core.magics.script\n",
      "IPython.core.oinspect\n",
      "IPython.core.page\n",
      "IPython.core.payload\n",
      "IPython.core.payloadpage\n",
      "IPython.core.prefilter\n",
      "IPython.core.profiledir\n",
      "IPython.core.pylabtools\n",
      "IPython.core.release\n",
      "IPython.core.shellapp\n",
      "IPython.core.splitinput\n",
      "IPython.core.ultratb\n",
      "IPython.core.usage\n",
      "IPython.display\n",
      "IPython.extensions\n",
      "IPython.extensions.storemagic\n",
      "IPython.lib\n",
      "IPython.lib.clipboard\n",
      "IPython.lib.display\n",
      "IPython.lib.pretty\n",
      "IPython.paths\n",
      "IPython.terminal\n",
      "IPython.terminal.debugger\n",
      "IPython.terminal.embed\n",
      "IPython.terminal.interactiveshell\n",
      "IPython.terminal.ipapp\n",
      "IPython.terminal.magics\n",
      "IPython.terminal.prompts\n",
      "IPython.terminal.pt_inputhooks\n",
      "IPython.terminal.ptutils\n",
      "IPython.terminal.shortcuts\n",
      "IPython.terminal.shortcuts.auto_match\n",
      "IPython.terminal.shortcuts.auto_suggest\n",
      "IPython.terminal.shortcuts.filters\n",
      "IPython.testing\n",
      "IPython.testing.skipdoctest\n",
      "IPython.utils\n",
      "IPython.utils.PyColorize\n",
      "IPython.utils._process_common\n",
      "IPython.utils._process_win32\n",
      "IPython.utils._sysinfo\n",
      "IPython.utils.capture\n",
      "IPython.utils.colorable\n",
      "IPython.utils.coloransi\n",
      "IPython.utils.contexts\n",
      "IPython.utils.data\n",
      "IPython.utils.decorators\n",
      "IPython.utils.dir2\n",
      "IPython.utils.docs\n",
      "IPython.utils.encoding\n",
      "IPython.utils.frame\n",
      "IPython.utils.generics\n",
      "IPython.utils.importstring\n",
      "IPython.utils.io\n",
      "IPython.utils.ipstruct\n",
      "IPython.utils.module_paths\n",
      "IPython.utils.openpy\n",
      "IPython.utils.path\n",
      "IPython.utils.process\n",
      "IPython.utils.py3compat\n",
      "IPython.utils.sentinel\n",
      "IPython.utils.strdispatch\n",
      "IPython.utils.sysinfo\n",
      "IPython.utils.syspathcontext\n",
      "IPython.utils.terminal\n",
      "IPython.utils.text\n",
      "IPython.utils.timing\n",
      "IPython.utils.tokenutil\n",
      "IPython.utils.wildcard\n",
      "__future__\n",
      "__main__\n",
      "_abc\n",
      "_ast\n",
      "_asyncio\n",
      "_bisect\n",
      "_blake2\n",
      "_bz2\n",
      "_codecs\n",
      "_collections\n",
      "_collections_abc\n",
      "_compat_pickle\n",
      "_compression\n",
      "_contextvars\n",
      "_csv\n",
      "_ctypes\n",
      "_cython_3_0_6\n",
      "_datetime\n",
      "_decimal\n",
      "_distutils_hack\n",
      "_frozen_importlib\n",
      "_frozen_importlib_external\n",
      "_functools\n",
      "_hashlib\n",
      "_heapq\n",
      "_imp\n",
      "_io\n",
      "_json\n",
      "_locale\n",
      "_lsprof\n",
      "_lzma\n",
      "_opcode\n",
      "_operator\n",
      "_overlapped\n",
      "_pickle\n",
      "_pydev_bundle\n",
      "_pydev_bundle._pydev_calltip_util\n",
      "_pydev_bundle._pydev_completer\n",
      "_pydev_bundle._pydev_execfile\n",
      "_pydev_bundle._pydev_filesystem_encoding\n",
      "_pydev_bundle._pydev_imports_tipper\n",
      "_pydev_bundle._pydev_saved_modules\n",
      "_pydev_bundle._pydev_tipper_common\n",
      "_pydev_bundle.fsnotify\n",
      "_pydev_bundle.pydev_console_utils\n",
      "_pydev_bundle.pydev_imports\n",
      "_pydev_bundle.pydev_is_thread_alive\n",
      "_pydev_bundle.pydev_log\n",
      "_pydev_bundle.pydev_monkey\n",
      "_pydev_bundle.pydev_override\n",
      "_pydev_bundle.pydev_umd\n",
      "_pydev_runfiles\n",
      "_pydevd_bundle\n",
      "_pydevd_bundle._debug_adapter\n",
      "_pydevd_bundle._debug_adapter.pydevd_base_schema\n",
      "_pydevd_bundle._debug_adapter.pydevd_schema\n",
      "_pydevd_bundle._debug_adapter.pydevd_schema_log\n",
      "_pydevd_bundle.pydevconsole_code\n",
      "_pydevd_bundle.pydevd_additional_thread_info\n",
      "_pydevd_bundle.pydevd_additional_thread_info_regular\n",
      "_pydevd_bundle.pydevd_api\n",
      "_pydevd_bundle.pydevd_breakpoints\n",
      "_pydevd_bundle.pydevd_bytecode_utils\n",
      "_pydevd_bundle.pydevd_collect_bytecode_info\n",
      "_pydevd_bundle.pydevd_comm\n",
      "_pydevd_bundle.pydevd_comm_constants\n",
      "_pydevd_bundle.pydevd_concurrency_analyser\n",
      "_pydevd_bundle.pydevd_concurrency_analyser.pydevd_concurrency_logger\n",
      "_pydevd_bundle.pydevd_concurrency_analyser.pydevd_thread_wrappers\n",
      "_pydevd_bundle.pydevd_console\n",
      "_pydevd_bundle.pydevd_constants\n",
      "_pydevd_bundle.pydevd_custom_frames\n",
      "_pydevd_bundle.pydevd_cython\n",
      "_pydevd_bundle.pydevd_cython_wrapper\n",
      "_pydevd_bundle.pydevd_daemon_thread\n",
      "_pydevd_bundle.pydevd_defaults\n",
      "_pydevd_bundle.pydevd_dont_trace\n",
      "_pydevd_bundle.pydevd_dont_trace_files\n",
      "_pydevd_bundle.pydevd_exec2\n",
      "_pydevd_bundle.pydevd_extension_api\n",
      "_pydevd_bundle.pydevd_extension_utils\n",
      "_pydevd_bundle.pydevd_filtering\n",
      "_pydevd_bundle.pydevd_frame\n",
      "_pydevd_bundle.pydevd_frame_utils\n",
      "_pydevd_bundle.pydevd_import_class\n",
      "_pydevd_bundle.pydevd_io\n",
      "_pydevd_bundle.pydevd_json_debug_options\n",
      "_pydevd_bundle.pydevd_net_command\n",
      "_pydevd_bundle.pydevd_net_command_factory_json\n",
      "_pydevd_bundle.pydevd_net_command_factory_xml\n",
      "_pydevd_bundle.pydevd_plugin_utils\n",
      "_pydevd_bundle.pydevd_process_net_command\n",
      "_pydevd_bundle.pydevd_process_net_command_json\n",
      "_pydevd_bundle.pydevd_reload\n",
      "_pydevd_bundle.pydevd_resolver\n",
      "_pydevd_bundle.pydevd_runpy\n",
      "_pydevd_bundle.pydevd_safe_repr\n",
      "_pydevd_bundle.pydevd_save_locals\n",
      "_pydevd_bundle.pydevd_source_mapping\n",
      "_pydevd_bundle.pydevd_suspended_frames\n",
      "_pydevd_bundle.pydevd_thread_lifecycle\n",
      "_pydevd_bundle.pydevd_timeout\n",
      "_pydevd_bundle.pydevd_trace_api\n",
      "_pydevd_bundle.pydevd_trace_dispatch\n",
      "_pydevd_bundle.pydevd_traceproperty\n",
      "_pydevd_bundle.pydevd_utils\n",
      "_pydevd_bundle.pydevd_vars\n",
      "_pydevd_bundle.pydevd_vm_type\n",
      "_pydevd_bundle.pydevd_xml\n",
      "_pydevd_frame_eval\n",
      "_pydevd_frame_eval.pydevd_frame_eval_main\n",
      "_pydevd_frame_eval.vendored\n",
      "_pydevd_frame_eval.vendored.bytecode\n",
      "_pydevd_frame_eval.vendored.bytecode.bytecode\n",
      "_pydevd_frame_eval.vendored.bytecode.cfg\n",
      "_pydevd_frame_eval.vendored.bytecode.concrete\n",
      "_pydevd_frame_eval.vendored.bytecode.flags\n",
      "_pydevd_frame_eval.vendored.bytecode.instr\n",
      "_queue\n",
      "_random\n",
      "_sha512\n",
      "_signal\n",
      "_sitebuiltins\n",
      "_socket\n",
      "_sqlite3\n",
      "_sre\n",
      "_ssl\n",
      "_stat\n",
      "_string\n",
      "_strptime\n",
      "_struct\n",
      "_thread\n",
      "_typing\n",
      "_uuid\n",
      "_warnings\n",
      "_weakref\n",
      "_weakrefset\n",
      "_winapi\n",
      "abc\n",
      "argparse\n",
      "array\n",
      "ast\n",
      "asttokens\n",
      "asttokens.asttokens\n",
      "asttokens.line_numbers\n",
      "asttokens.util\n",
      "asyncio\n",
      "asyncio.base_events\n",
      "asyncio.base_futures\n",
      "asyncio.base_subprocess\n",
      "asyncio.base_tasks\n",
      "asyncio.constants\n",
      "asyncio.coroutines\n",
      "asyncio.events\n",
      "asyncio.exceptions\n",
      "asyncio.format_helpers\n",
      "asyncio.futures\n",
      "asyncio.locks\n",
      "asyncio.log\n",
      "asyncio.mixins\n",
      "asyncio.proactor_events\n",
      "asyncio.protocols\n",
      "asyncio.queues\n",
      "asyncio.runners\n",
      "asyncio.selector_events\n",
      "asyncio.sslproto\n",
      "asyncio.staggered\n",
      "asyncio.streams\n",
      "asyncio.subprocess\n",
      "asyncio.taskgroups\n",
      "asyncio.tasks\n",
      "asyncio.threads\n",
      "asyncio.timeouts\n",
      "asyncio.transports\n",
      "asyncio.trsock\n",
      "asyncio.windows_events\n",
      "asyncio.windows_utils\n",
      "atexit\n",
      "base64\n",
      "bdb\n",
      "binascii\n",
      "bisect\n",
      "builtins\n",
      "bz2\n",
      "cProfile\n",
      "calendar\n",
      "cmd\n",
      "code\n",
      "codecs\n",
      "codeop\n",
      "collections\n",
      "collections.abc\n",
      "colorama\n",
      "colorama.ansi\n",
      "colorama.ansitowin32\n",
      "colorama.initialise\n",
      "colorama.win32\n",
      "colorama.winterm\n",
      "colorsys\n",
      "comm\n",
      "comm.base_comm\n",
      "concurrent\n",
      "concurrent.futures\n",
      "concurrent.futures._base\n",
      "concurrent.futures.thread\n",
      "contextlib\n",
      "contextvars\n",
      "copy\n",
      "copyreg\n",
      "csv\n",
      "ctypes\n",
      "ctypes._endian\n",
      "ctypes.wintypes\n",
      "cython_runtime\n",
      "dataclasses\n",
      "datetime\n",
      "dateutil\n",
      "dateutil._common\n",
      "dateutil._version\n",
      "dateutil.parser\n",
      "dateutil.parser._parser\n",
      "dateutil.parser.isoparser\n",
      "dateutil.relativedelta\n",
      "dateutil.tz\n",
      "dateutil.tz._common\n",
      "dateutil.tz._factories\n",
      "dateutil.tz.tz\n",
      "dateutil.tz.win\n",
      "debugpy\n",
      "debugpy._vendored\n",
      "debugpy._vendored._util\n",
      "debugpy._vendored.force_pydevd\n",
      "debugpy._version\n",
      "debugpy.adapter\n",
      "debugpy.common\n",
      "debugpy.common.json\n",
      "debugpy.common.log\n",
      "debugpy.common.sockets\n",
      "debugpy.common.timestamp\n",
      "debugpy.common.util\n",
      "debugpy.public_api\n",
      "debugpy.server\n",
      "debugpy.server.api\n",
      "decimal\n",
      "decorator\n",
      "difflib\n",
      "dis\n",
      "doctest\n",
      "email\n",
      "email._encoded_words\n",
      "email._parseaddr\n",
      "email._policybase\n",
      "email.base64mime\n",
      "email.charset\n",
      "email.encoders\n",
      "email.errors\n",
      "email.feedparser\n",
      "email.header\n",
      "email.iterators\n",
      "email.message\n",
      "email.parser\n",
      "email.quoprimime\n",
      "email.utils\n",
      "encodings\n",
      "encodings.aliases\n",
      "encodings.ascii\n",
      "encodings.cp1252\n",
      "encodings.idna\n",
      "encodings.latin_1\n",
      "encodings.utf_8\n",
      "enum\n",
      "errno\n",
      "executing\n",
      "executing._exceptions\n",
      "executing._position_node_finder\n",
      "executing.executing\n",
      "executing.version\n",
      "faulthandler\n",
      "filecmp\n",
      "fnmatch\n",
      "fractions\n",
      "functools\n",
      "gc\n",
      "genericpath\n",
      "getopt\n",
      "getpass\n",
      "gettext\n",
      "glob\n",
      "gzip\n",
      "hashlib\n",
      "heapq\n",
      "hmac\n",
      "html\n",
      "html.entities\n",
      "http\n",
      "http.client\n",
      "http.server\n",
      "importlib\n",
      "importlib._abc\n",
      "importlib._bootstrap\n",
      "importlib._bootstrap_external\n",
      "importlib.abc\n",
      "importlib.machinery\n",
      "importlib.metadata\n",
      "importlib.metadata._adapters\n",
      "importlib.metadata._collections\n",
      "importlib.metadata._functools\n",
      "importlib.metadata._itertools\n",
      "importlib.metadata._meta\n",
      "importlib.metadata._text\n",
      "importlib.resources\n",
      "importlib.resources._adapters\n",
      "importlib.resources._common\n",
      "importlib.resources._legacy\n",
      "importlib.resources.abc\n",
      "importlib.util\n",
      "inspect\n",
      "io\n",
      "ipaddress\n",
      "ipykernel\n",
      "ipykernel._version\n",
      "ipykernel.comm\n",
      "ipykernel.comm.comm\n",
      "ipykernel.comm.manager\n",
      "ipykernel.compiler\n",
      "ipykernel.connect\n",
      "ipykernel.control\n",
      "ipykernel.debugger\n",
      "ipykernel.displayhook\n",
      "ipykernel.eventloops\n",
      "ipykernel.heartbeat\n",
      "ipykernel.iostream\n",
      "ipykernel.ipkernel\n",
      "ipykernel.jsonutil\n",
      "ipykernel.kernelapp\n",
      "ipykernel.kernelbase\n",
      "ipykernel.parentpoller\n",
      "ipykernel.zmqshell\n",
      "itertools\n",
      "jedi\n",
      "jedi._compatibility\n",
      "jedi.api\n",
      "jedi.api.classes\n",
      "jedi.api.completion\n",
      "jedi.api.completion_cache\n",
      "jedi.api.environment\n",
      "jedi.api.errors\n",
      "jedi.api.exceptions\n",
      "jedi.api.file_name\n",
      "jedi.api.helpers\n",
      "jedi.api.interpreter\n",
      "jedi.api.keywords\n",
      "jedi.api.project\n",
      "jedi.api.refactoring\n",
      "jedi.api.refactoring.extract\n",
      "jedi.api.strings\n",
      "jedi.cache\n",
      "jedi.common\n",
      "jedi.debug\n",
      "jedi.file_io\n",
      "jedi.inference\n",
      "jedi.inference.analysis\n",
      "jedi.inference.arguments\n",
      "jedi.inference.base_value\n",
      "jedi.inference.cache\n",
      "jedi.inference.compiled\n",
      "jedi.inference.compiled.access\n",
      "jedi.inference.compiled.getattr_static\n",
      "jedi.inference.compiled.mixed\n",
      "jedi.inference.compiled.subprocess\n",
      "jedi.inference.compiled.subprocess.functions\n",
      "jedi.inference.compiled.value\n",
      "jedi.inference.context\n",
      "jedi.inference.docstring_utils\n",
      "jedi.inference.docstrings\n",
      "jedi.inference.filters\n",
      "jedi.inference.flow_analysis\n",
      "jedi.inference.gradual\n",
      "jedi.inference.gradual.annotation\n",
      "jedi.inference.gradual.base\n",
      "jedi.inference.gradual.conversion\n",
      "jedi.inference.gradual.generics\n",
      "jedi.inference.gradual.stub_value\n",
      "jedi.inference.gradual.type_var\n",
      "jedi.inference.gradual.typeshed\n",
      "jedi.inference.gradual.typing\n",
      "jedi.inference.gradual.utils\n",
      "jedi.inference.helpers\n",
      "jedi.inference.imports\n",
      "jedi.inference.lazy_value\n",
      "jedi.inference.names\n",
      "jedi.inference.param\n",
      "jedi.inference.parser_cache\n",
      "jedi.inference.recursion\n",
      "jedi.inference.references\n",
      "jedi.inference.signature\n",
      "jedi.inference.syntax_tree\n",
      "jedi.inference.sys_path\n",
      "jedi.inference.utils\n",
      "jedi.inference.value\n",
      "jedi.inference.value.decorator\n",
      "jedi.inference.value.dynamic_arrays\n",
      "jedi.inference.value.function\n",
      "jedi.inference.value.instance\n",
      "jedi.inference.value.iterable\n",
      "jedi.inference.value.klass\n",
      "jedi.inference.value.module\n",
      "jedi.inference.value.namespace\n",
      "jedi.parser_utils\n",
      "jedi.plugins\n",
      "jedi.plugins.django\n",
      "jedi.plugins.flask\n",
      "jedi.plugins.pytest\n",
      "jedi.plugins.registry\n",
      "jedi.plugins.stdlib\n",
      "jedi.settings\n",
      "json\n",
      "json.decoder\n",
      "json.encoder\n",
      "json.scanner\n",
      "jupyter_client\n",
      "jupyter_client._version\n",
      "jupyter_client.adapter\n",
      "jupyter_client.asynchronous\n",
      "jupyter_client.asynchronous.client\n",
      "jupyter_client.blocking\n",
      "jupyter_client.blocking.client\n",
      "jupyter_client.channels\n",
      "jupyter_client.channelsabc\n",
      "jupyter_client.client\n",
      "jupyter_client.clientabc\n",
      "jupyter_client.connect\n",
      "jupyter_client.jsonutil\n",
      "jupyter_client.kernelspec\n",
      "jupyter_client.launcher\n",
      "jupyter_client.localinterfaces\n",
      "jupyter_client.manager\n",
      "jupyter_client.managerabc\n",
      "jupyter_client.multikernelmanager\n",
      "jupyter_client.provisioning\n",
      "jupyter_client.provisioning.factory\n",
      "jupyter_client.provisioning.local_provisioner\n",
      "jupyter_client.provisioning.provisioner_base\n",
      "jupyter_client.session\n",
      "jupyter_client.utils\n",
      "jupyter_core\n",
      "jupyter_core.paths\n",
      "jupyter_core.utils\n",
      "keyword\n",
      "linecache\n",
      "locale\n",
      "logging\n",
      "logging.config\n",
      "logging.handlers\n",
      "lzma\n",
      "marshal\n",
      "math\n",
      "mimetypes\n",
      "msvcrt\n",
      "nt\n",
      "ntpath\n",
      "nturl2path\n",
      "numbers\n",
      "opcode\n",
      "operator\n",
      "os\n",
      "os.path\n",
      "packaging\n",
      "packaging._structures\n",
      "packaging.version\n",
      "parso\n",
      "parso._compatibility\n",
      "parso.cache\n",
      "parso.file_io\n",
      "parso.grammar\n",
      "parso.normalizer\n",
      "parso.parser\n",
      "parso.pgen2\n",
      "parso.pgen2.generator\n",
      "parso.pgen2.grammar_parser\n",
      "parso.python\n",
      "parso.python.diff\n",
      "parso.python.errors\n",
      "parso.python.parser\n",
      "parso.python.pep8\n",
      "parso.python.prefix\n",
      "parso.python.token\n",
      "parso.python.tokenize\n",
      "parso.python.tree\n",
      "parso.tree\n",
      "parso.utils\n",
      "pathlib\n",
      "pdb\n",
      "pickle\n",
      "pkgutil\n",
      "platform\n",
      "platformdirs\n",
      "platformdirs.api\n",
      "platformdirs.version\n",
      "platformdirs.windows\n",
      "posixpath\n",
      "pprint\n",
      "profile\n",
      "prompt_toolkit\n",
      "prompt_toolkit.application\n",
      "prompt_toolkit.application.application\n",
      "prompt_toolkit.application.current\n",
      "prompt_toolkit.application.dummy\n",
      "prompt_toolkit.application.run_in_terminal\n",
      "prompt_toolkit.auto_suggest\n",
      "prompt_toolkit.buffer\n",
      "prompt_toolkit.cache\n",
      "prompt_toolkit.clipboard\n",
      "prompt_toolkit.clipboard.base\n",
      "prompt_toolkit.clipboard.in_memory\n",
      "prompt_toolkit.completion\n",
      "prompt_toolkit.completion.base\n",
      "prompt_toolkit.completion.deduplicate\n",
      "prompt_toolkit.completion.filesystem\n",
      "prompt_toolkit.completion.fuzzy_completer\n",
      "prompt_toolkit.completion.nested\n",
      "prompt_toolkit.completion.word_completer\n",
      "prompt_toolkit.cursor_shapes\n",
      "prompt_toolkit.data_structures\n",
      "prompt_toolkit.document\n",
      "prompt_toolkit.enums\n",
      "prompt_toolkit.eventloop\n",
      "prompt_toolkit.eventloop.async_generator\n",
      "prompt_toolkit.eventloop.inputhook\n",
      "prompt_toolkit.eventloop.utils\n",
      "prompt_toolkit.filters\n",
      "prompt_toolkit.filters.app\n",
      "prompt_toolkit.filters.base\n",
      "prompt_toolkit.filters.cli\n",
      "prompt_toolkit.filters.utils\n",
      "prompt_toolkit.formatted_text\n",
      "prompt_toolkit.formatted_text.ansi\n",
      "prompt_toolkit.formatted_text.base\n",
      "prompt_toolkit.formatted_text.html\n",
      "prompt_toolkit.formatted_text.pygments\n",
      "prompt_toolkit.formatted_text.utils\n",
      "prompt_toolkit.history\n",
      "prompt_toolkit.input\n",
      "prompt_toolkit.input.ansi_escape_sequences\n",
      "prompt_toolkit.input.base\n",
      "prompt_toolkit.input.defaults\n",
      "prompt_toolkit.input.typeahead\n",
      "prompt_toolkit.input.vt100_parser\n",
      "prompt_toolkit.key_binding\n",
      "prompt_toolkit.key_binding.bindings\n",
      "prompt_toolkit.key_binding.bindings.auto_suggest\n",
      "prompt_toolkit.key_binding.bindings.basic\n",
      "prompt_toolkit.key_binding.bindings.completion\n",
      "prompt_toolkit.key_binding.bindings.cpr\n",
      "prompt_toolkit.key_binding.bindings.emacs\n",
      "prompt_toolkit.key_binding.bindings.focus\n",
      "prompt_toolkit.key_binding.bindings.mouse\n",
      "prompt_toolkit.key_binding.bindings.named_commands\n",
      "prompt_toolkit.key_binding.bindings.open_in_editor\n",
      "prompt_toolkit.key_binding.bindings.page_navigation\n",
      "prompt_toolkit.key_binding.bindings.scroll\n",
      "prompt_toolkit.key_binding.bindings.vi\n",
      "prompt_toolkit.key_binding.defaults\n",
      "prompt_toolkit.key_binding.digraphs\n",
      "prompt_toolkit.key_binding.emacs_state\n",
      "prompt_toolkit.key_binding.key_bindings\n",
      "prompt_toolkit.key_binding.key_processor\n",
      "prompt_toolkit.key_binding.vi_state\n",
      "prompt_toolkit.keys\n",
      "prompt_toolkit.layout\n",
      "prompt_toolkit.layout.containers\n",
      "prompt_toolkit.layout.controls\n",
      "prompt_toolkit.layout.dimension\n",
      "prompt_toolkit.layout.dummy\n",
      "prompt_toolkit.layout.layout\n",
      "prompt_toolkit.layout.margins\n",
      "prompt_toolkit.layout.menus\n",
      "prompt_toolkit.layout.mouse_handlers\n",
      "prompt_toolkit.layout.processors\n",
      "prompt_toolkit.layout.screen\n",
      "prompt_toolkit.layout.scrollable_pane\n",
      "prompt_toolkit.layout.utils\n",
      "prompt_toolkit.lexers\n",
      "prompt_toolkit.lexers.base\n",
      "prompt_toolkit.lexers.pygments\n",
      "prompt_toolkit.mouse_events\n",
      "prompt_toolkit.output\n",
      "prompt_toolkit.output.base\n",
      "prompt_toolkit.output.color_depth\n",
      "prompt_toolkit.output.defaults\n",
      "prompt_toolkit.output.flush_stdout\n",
      "prompt_toolkit.output.plain_text\n",
      "prompt_toolkit.output.vt100\n",
      "prompt_toolkit.patch_stdout\n",
      "prompt_toolkit.renderer\n",
      "prompt_toolkit.search\n",
      "prompt_toolkit.selection\n",
      "prompt_toolkit.shortcuts\n",
      "prompt_toolkit.shortcuts.dialogs\n",
      "prompt_toolkit.shortcuts.progress_bar\n",
      "prompt_toolkit.shortcuts.progress_bar.base\n",
      "prompt_toolkit.shortcuts.progress_bar.formatters\n",
      "prompt_toolkit.shortcuts.prompt\n",
      "prompt_toolkit.shortcuts.utils\n",
      "prompt_toolkit.styles\n",
      "prompt_toolkit.styles.base\n",
      "prompt_toolkit.styles.defaults\n",
      "prompt_toolkit.styles.named_colors\n",
      "prompt_toolkit.styles.pygments\n",
      "prompt_toolkit.styles.style\n",
      "prompt_toolkit.styles.style_transformation\n",
      "prompt_toolkit.utils\n",
      "prompt_toolkit.validation\n",
      "prompt_toolkit.widgets\n",
      "prompt_toolkit.widgets.base\n",
      "prompt_toolkit.widgets.dialogs\n",
      "prompt_toolkit.widgets.menus\n",
      "prompt_toolkit.widgets.toolbars\n",
      "pstats\n",
      "psutil\n",
      "psutil._common\n",
      "psutil._compat\n",
      "psutil._psutil_windows\n",
      "psutil._pswindows\n",
      "pure_eval\n",
      "pure_eval.core\n",
      "pure_eval.my_getattr_static\n",
      "pure_eval.utils\n",
      "pure_eval.version\n",
      "pydev_ipython\n",
      "pydevconsole\n",
      "pydevd\n",
      "pydevd_file_utils\n",
      "pydevd_plugins\n",
      "pydevd_plugins.django_debug\n",
      "pydevd_plugins.extensions\n",
      "pydevd_plugins.jinja2_debug\n",
      "pydevd_plugins.pydevd_line_validation\n",
      "pydevd_tracing\n",
      "pydoc\n",
      "pydoc_data\n",
      "pydoc_data.topics\n",
      "pyexpat\n",
      "pyexpat.errors\n",
      "pyexpat.model\n",
      "pygments\n",
      "pygments.console\n",
      "pygments.filter\n",
      "pygments.filters\n",
      "pygments.formatter\n",
      "pygments.formatters\n",
      "pygments.formatters._mapping\n",
      "pygments.formatters.html\n",
      "pygments.formatters.terminal256\n",
      "pygments.lexer\n",
      "pygments.lexers\n",
      "pygments.lexers._mapping\n",
      "pygments.lexers.python\n",
      "pygments.modeline\n",
      "pygments.plugin\n",
      "pygments.regexopt\n",
      "pygments.style\n",
      "pygments.styles\n",
      "pygments.token\n",
      "pygments.unistring\n",
      "pygments.util\n",
      "queue\n",
      "quopri\n",
      "random\n",
      "re\n",
      "re._casefix\n",
      "re._compiler\n",
      "re._constants\n",
      "re._parser\n",
      "reprlib\n",
      "runpy\n",
      "select\n",
      "selectors\n",
      "shlex\n",
      "shutil\n",
      "signal\n",
      "site\n",
      "six\n",
      "six.moves\n",
      "socket\n",
      "socketserver\n",
      "sphinxcontrib\n",
      "sqlite3\n",
      "sqlite3.dbapi2\n",
      "ssl\n",
      "stack_data\n",
      "stack_data.core\n",
      "stack_data.formatting\n",
      "stack_data.serializing\n",
      "stack_data.utils\n",
      "stack_data.version\n",
      "stat\n",
      "string\n",
      "stringprep\n",
      "struct\n",
      "subprocess\n",
      "sys\n",
      "sysconfig\n",
      "tempfile\n",
      "textwrap\n",
      "threading\n",
      "time\n",
      "timeit\n",
      "token\n",
      "tokenize\n",
      "tornado\n",
      "tornado.concurrent\n",
      "tornado.escape\n",
      "tornado.gen\n",
      "tornado.ioloop\n",
      "tornado.locks\n",
      "tornado.log\n",
      "tornado.platform\n",
      "tornado.platform.asyncio\n",
      "tornado.queues\n",
      "tornado.speedups\n",
      "tornado.util\n",
      "traceback\n",
      "traitlets\n",
      "traitlets._version\n",
      "traitlets.config\n",
      "traitlets.config.application\n",
      "traitlets.config.configurable\n",
      "traitlets.config.loader\n",
      "traitlets.log\n",
      "traitlets.traitlets\n",
      "traitlets.utils\n",
      "traitlets.utils.bunch\n",
      "traitlets.utils.decorators\n",
      "traitlets.utils.descriptions\n",
      "traitlets.utils.getargspec\n",
      "traitlets.utils.importstring\n",
      "traitlets.utils.nested_update\n",
      "traitlets.utils.sentinel\n",
      "traitlets.utils.text\n",
      "traitlets.utils.warnings\n",
      "types\n",
      "typing\n",
      "typing.io\n",
      "typing.re\n",
      "unicodedata\n",
      "unittest\n",
      "unittest.case\n",
      "unittest.loader\n",
      "unittest.main\n",
      "unittest.result\n",
      "unittest.runner\n",
      "unittest.signals\n",
      "unittest.suite\n",
      "unittest.util\n",
      "urllib\n",
      "urllib.error\n",
      "urllib.parse\n",
      "urllib.request\n",
      "urllib.response\n",
      "uuid\n",
      "warnings\n",
      "wcwidth\n",
      "wcwidth.table_vs16\n",
      "wcwidth.table_wide\n",
      "wcwidth.table_zero\n",
      "wcwidth.unicode_versions\n",
      "wcwidth.wcwidth\n",
      "weakref\n",
      "winreg\n",
      "xml\n",
      "xml.dom\n",
      "xml.dom.NodeFilter\n",
      "xml.dom.domreg\n",
      "xml.dom.minicompat\n",
      "xml.dom.minidom\n",
      "xml.dom.xmlbuilder\n",
      "xml.parsers\n",
      "xml.parsers.expat\n",
      "xml.parsers.expat.errors\n",
      "xml.parsers.expat.model\n",
      "xmlrpc\n",
      "xmlrpc.client\n",
      "xmlrpc.server\n",
      "zipfile\n",
      "zipimport\n",
      "zlib\n",
      "zmq\n",
      "zmq._future\n",
      "zmq._typing\n",
      "zmq.asyncio\n",
      "zmq.backend\n",
      "zmq.backend.cython\n",
      "zmq.backend.cython._device\n",
      "zmq.backend.cython._poll\n",
      "zmq.backend.cython._proxy_steerable\n",
      "zmq.backend.cython._version\n",
      "zmq.backend.cython.context\n",
      "zmq.backend.cython.error\n",
      "zmq.backend.cython.message\n",
      "zmq.backend.cython.socket\n",
      "zmq.backend.cython.utils\n",
      "zmq.backend.select\n",
      "zmq.constants\n",
      "zmq.error\n",
      "zmq.eventloop\n",
      "zmq.eventloop.zmqstream\n",
      "zmq.sugar\n",
      "zmq.sugar.attrsettr\n",
      "zmq.sugar.context\n",
      "zmq.sugar.frame\n",
      "zmq.sugar.poll\n",
      "zmq.sugar.socket\n",
      "zmq.sugar.stopwatch\n",
      "zmq.sugar.tracker\n",
      "zmq.sugar.version\n",
      "zmq.utils\n",
      "zmq.utils.interop\n",
      "zmq.utils.jsonapi\n"
     ]
    }
   ],
   "source": [
    "for key in sorted(sys.modules.keys()):\n",
    "    print(key)"
   ]
  },
  {
   "cell_type": "code",
   "execution_count": 3,
   "id": "02b86638-985d-4c31-b7e2-78a267b87e68",
   "metadata": {},
   "outputs": [
    {
     "data": {
      "text/plain": [
       "False"
      ]
     },
     "execution_count": 3,
     "metadata": {},
     "output_type": "execute_result"
    }
   ],
   "source": [
    "'cmath' in sys.modules"
   ]
  },
  {
   "cell_type": "code",
   "execution_count": 4,
   "id": "91c2d15f-e5e5-4197-bab6-79f704f45d69",
   "metadata": {},
   "outputs": [
    {
     "data": {
      "text/plain": [
       "False"
      ]
     },
     "execution_count": 4,
     "metadata": {},
     "output_type": "execute_result"
    }
   ],
   "source": [
    "'cmath' in globals()"
   ]
  },
  {
   "cell_type": "code",
   "execution_count": 5,
   "id": "5d89e229-2f15-4160-9805-ead4677729ac",
   "metadata": {},
   "outputs": [],
   "source": [
    "from cmath import exp"
   ]
  },
  {
   "cell_type": "code",
   "execution_count": 6,
   "id": "4276d1b9-d35b-4b9d-88cf-19d65e6390b9",
   "metadata": {},
   "outputs": [
    {
     "data": {
      "text/plain": [
       "False"
      ]
     },
     "execution_count": 6,
     "metadata": {},
     "output_type": "execute_result"
    }
   ],
   "source": [
    "'cmath' in globals()"
   ]
  },
  {
   "cell_type": "code",
   "execution_count": 7,
   "id": "82cdd5ff-640b-44f3-a59a-305b37946bcd",
   "metadata": {},
   "outputs": [
    {
     "data": {
      "text/plain": [
       "True"
      ]
     },
     "execution_count": 7,
     "metadata": {},
     "output_type": "execute_result"
    }
   ],
   "source": [
    "'exp' in globals()"
   ]
  },
  {
   "cell_type": "code",
   "execution_count": 8,
   "id": "27a1ec84-2d4f-4c63-9177-3a9c9e059853",
   "metadata": {},
   "outputs": [
    {
     "data": {
      "text/plain": [
       "<function cmath.exp(z, /)>"
      ]
     },
     "execution_count": 8,
     "metadata": {},
     "output_type": "execute_result"
    }
   ],
   "source": [
    "exp"
   ]
  },
  {
   "cell_type": "code",
   "execution_count": 9,
   "id": "26179c11-5be2-407f-baf0-1904aaf00431",
   "metadata": {},
   "outputs": [
    {
     "data": {
      "text/plain": [
       "1878229930192"
      ]
     },
     "execution_count": 9,
     "metadata": {},
     "output_type": "execute_result"
    }
   ],
   "source": [
    "id(exp)"
   ]
  },
  {
   "cell_type": "code",
   "execution_count": 10,
   "id": "6a3d61b1-e3b4-4827-8415-1402a648ece6",
   "metadata": {},
   "outputs": [
    {
     "data": {
      "text/plain": [
       "True"
      ]
     },
     "execution_count": 10,
     "metadata": {},
     "output_type": "execute_result"
    }
   ],
   "source": [
    "'cmath' in sys.modules"
   ]
  },
  {
   "cell_type": "code",
   "execution_count": 11,
   "id": "26eaa23b-35b5-4766-865a-c891f311e02b",
   "metadata": {},
   "outputs": [
    {
     "data": {
      "text/plain": [
       "(-3.074932320639359+6.71884969742825j)"
      ]
     },
     "execution_count": 11,
     "metadata": {},
     "output_type": "execute_result"
    }
   ],
   "source": [
    "exp(2+2j)"
   ]
  },
  {
   "cell_type": "code",
   "execution_count": 12,
   "id": "eb661062-783c-4e6e-9e9b-08671f9bcddc",
   "metadata": {},
   "outputs": [],
   "source": [
    "cmath = sys.modules['cmath']"
   ]
  },
  {
   "cell_type": "code",
   "execution_count": 13,
   "id": "aadd6f8e-18f6-4089-8b45-4fc9a8a85678",
   "metadata": {},
   "outputs": [
    {
     "data": {
      "text/plain": [
       "True"
      ]
     },
     "execution_count": 13,
     "metadata": {},
     "output_type": "execute_result"
    }
   ],
   "source": [
    "'cmath' in globals()"
   ]
  },
  {
   "cell_type": "code",
   "execution_count": 14,
   "id": "f80248e4-70e8-4f91-9664-042b6392ddb8",
   "metadata": {},
   "outputs": [
    {
     "data": {
      "text/plain": [
       "(-3.074932320639359+6.71884969742825j)"
      ]
     },
     "execution_count": 14,
     "metadata": {},
     "output_type": "execute_result"
    }
   ],
   "source": [
    "cmath.exp(2+2j)"
   ]
  },
  {
   "cell_type": "code",
   "execution_count": 15,
   "id": "fae1f0d7-05e3-416f-8f74-6a00c1e985a4",
   "metadata": {},
   "outputs": [
    {
     "data": {
      "text/plain": [
       "(3.4209548611170133-1.5093064853236156j)"
      ]
     },
     "execution_count": 15,
     "metadata": {},
     "output_type": "execute_result"
    }
   ],
   "source": [
    "cmath.sin(2+2j)"
   ]
  },
  {
   "cell_type": "code",
   "execution_count": 16,
   "id": "c005bb45-2d3d-49a1-b0cc-6e72deb5a4b4",
   "metadata": {},
   "outputs": [
    {
     "data": {
      "text/plain": [
       "3.141592653589793"
      ]
     },
     "execution_count": 16,
     "metadata": {},
     "output_type": "execute_result"
    }
   ],
   "source": [
    "cmath.pi"
   ]
  },
  {
   "cell_type": "code",
   "execution_count": 17,
   "id": "2d6da6f4-ec39-4333-93dc-78ab035fd60d",
   "metadata": {},
   "outputs": [
    {
     "data": {
      "text/plain": [
       "(-1.5656258353157435-3.2978948363112366j)"
      ]
     },
     "execution_count": 17,
     "metadata": {},
     "output_type": "execute_result"
    }
   ],
   "source": [
    "cmath.cos(2+2j)"
   ]
  },
  {
   "cell_type": "code",
   "execution_count": 18,
   "id": "48b99f6d-788d-43db-abf9-b550a718f021",
   "metadata": {},
   "outputs": [],
   "source": [
    "from cmath import *"
   ]
  },
  {
   "cell_type": "code",
   "execution_count": 19,
   "id": "e7a95ac6-ed6d-4082-822d-511505378518",
   "metadata": {},
   "outputs": [
    {
     "data": {
      "text/plain": [
       "{'__name__': '__main__',\n",
       " '__doc__': 'Automatically created module for IPython interactive environment',\n",
       " '__package__': None,\n",
       " '__loader__': None,\n",
       " '__spec__': None,\n",
       " '__builtin__': <module 'builtins' (built-in)>,\n",
       " '__builtins__': <module 'builtins' (built-in)>,\n",
       " '_ih': ['',\n",
       "  'import sys',\n",
       "  'for key in sorted(sys.modules.keys()):\\n    print(key)',\n",
       "  \"'cmath' in sys.modules\",\n",
       "  \"'cmath' in globals()\",\n",
       "  'from cmath import exp',\n",
       "  \"'cmath' in globals()\",\n",
       "  \"'exp' in globals()\",\n",
       "  'exp',\n",
       "  'id(exp)',\n",
       "  \"'cmath' in sys.modules\",\n",
       "  'exp(2+2j)',\n",
       "  \"cmath = sys.modules['cmath']\",\n",
       "  \"'cmath' in globals()\",\n",
       "  'cmath.exp(2+2j)',\n",
       "  'cmath.sin(2+2j)',\n",
       "  'cmath.pi',\n",
       "  'cmath.cos(2+2j)',\n",
       "  'from cmath import *',\n",
       "  'globals()'],\n",
       " '_oh': {3: False,\n",
       "  4: False,\n",
       "  6: False,\n",
       "  7: True,\n",
       "  8: <function cmath.exp(z, /)>,\n",
       "  9: 1878229930192,\n",
       "  10: True,\n",
       "  11: (-3.074932320639359+6.71884969742825j),\n",
       "  13: True,\n",
       "  14: (-3.074932320639359+6.71884969742825j),\n",
       "  15: (3.4209548611170133-1.5093064853236156j),\n",
       "  16: 3.141592653589793,\n",
       "  17: (-1.5656258353157435-3.2978948363112366j)},\n",
       " '_dh': [WindowsPath('C:/Users/afaq/Desktop/udemy/NumPy,Pandas and Matplotlib/Deep Dive Part 1')],\n",
       " 'In': ['',\n",
       "  'import sys',\n",
       "  'for key in sorted(sys.modules.keys()):\\n    print(key)',\n",
       "  \"'cmath' in sys.modules\",\n",
       "  \"'cmath' in globals()\",\n",
       "  'from cmath import exp',\n",
       "  \"'cmath' in globals()\",\n",
       "  \"'exp' in globals()\",\n",
       "  'exp',\n",
       "  'id(exp)',\n",
       "  \"'cmath' in sys.modules\",\n",
       "  'exp(2+2j)',\n",
       "  \"cmath = sys.modules['cmath']\",\n",
       "  \"'cmath' in globals()\",\n",
       "  'cmath.exp(2+2j)',\n",
       "  'cmath.sin(2+2j)',\n",
       "  'cmath.pi',\n",
       "  'cmath.cos(2+2j)',\n",
       "  'from cmath import *',\n",
       "  'globals()'],\n",
       " 'Out': {3: False,\n",
       "  4: False,\n",
       "  6: False,\n",
       "  7: True,\n",
       "  8: <function cmath.exp(z, /)>,\n",
       "  9: 1878229930192,\n",
       "  10: True,\n",
       "  11: (-3.074932320639359+6.71884969742825j),\n",
       "  13: True,\n",
       "  14: (-3.074932320639359+6.71884969742825j),\n",
       "  15: (3.4209548611170133-1.5093064853236156j),\n",
       "  16: 3.141592653589793,\n",
       "  17: (-1.5656258353157435-3.2978948363112366j)},\n",
       " 'get_ipython': <bound method InteractiveShell.get_ipython of <ipykernel.zmqshell.ZMQInteractiveShell object at 0x000001B54F300D10>>,\n",
       " 'exit': <IPython.core.autocall.ZMQExitAutocall at 0x1b54f3191d0>,\n",
       " 'quit': <IPython.core.autocall.ZMQExitAutocall at 0x1b54f3191d0>,\n",
       " 'open': <function io.open(file, mode='r', buffering=-1, encoding=None, errors=None, newline=None, closefd=True, opener=None)>,\n",
       " '_': (-1.5656258353157435-3.2978948363112366j),\n",
       " '__': 3.141592653589793,\n",
       " '___': (3.4209548611170133-1.5093064853236156j),\n",
       " '__session__': 'C:\\\\Users\\\\afaq\\\\Desktop\\\\udemy\\\\NumPy,Pandas and Matplotlib\\\\Deep Dive Part 1\\\\Import Variants and Misconseptions.ipynb',\n",
       " '_i': 'from cmath import *',\n",
       " '_ii': 'cmath.cos(2+2j)',\n",
       " '_iii': 'cmath.pi',\n",
       " '_i1': 'import sys',\n",
       " 'sys': <module 'sys' (built-in)>,\n",
       " '_i2': 'for key in sorted(sys.modules.keys()):\\n    print(key)',\n",
       " 'key': 'zmq.utils.jsonapi',\n",
       " '_i3': \"'cmath' in sys.modules\",\n",
       " '_3': False,\n",
       " '_i4': \"'cmath' in globals()\",\n",
       " '_4': False,\n",
       " '_i5': 'from cmath import exp',\n",
       " 'exp': <function cmath.exp(z, /)>,\n",
       " '_i6': \"'cmath' in globals()\",\n",
       " '_6': False,\n",
       " '_i7': \"'exp' in globals()\",\n",
       " '_7': True,\n",
       " '_i8': 'exp',\n",
       " '_8': <function cmath.exp(z, /)>,\n",
       " '_i9': 'id(exp)',\n",
       " '_9': 1878229930192,\n",
       " '_i10': \"'cmath' in sys.modules\",\n",
       " '_10': True,\n",
       " '_i11': 'exp(2+2j)',\n",
       " '_11': (-3.074932320639359+6.71884969742825j),\n",
       " '_i12': \"cmath = sys.modules['cmath']\",\n",
       " 'cmath': <module 'cmath' (built-in)>,\n",
       " '_i13': \"'cmath' in globals()\",\n",
       " '_13': True,\n",
       " '_i14': 'cmath.exp(2+2j)',\n",
       " '_14': (-3.074932320639359+6.71884969742825j),\n",
       " '_i15': 'cmath.sin(2+2j)',\n",
       " '_15': (3.4209548611170133-1.5093064853236156j),\n",
       " '_i16': 'cmath.pi',\n",
       " '_16': 3.141592653589793,\n",
       " '_i17': 'cmath.cos(2+2j)',\n",
       " '_17': (-1.5656258353157435-3.2978948363112366j),\n",
       " '_i18': 'from cmath import *',\n",
       " 'acos': <function cmath.acos(z, /)>,\n",
       " 'acosh': <function cmath.acosh(z, /)>,\n",
       " 'asin': <function cmath.asin(z, /)>,\n",
       " 'asinh': <function cmath.asinh(z, /)>,\n",
       " 'atan': <function cmath.atan(z, /)>,\n",
       " 'atanh': <function cmath.atanh(z, /)>,\n",
       " 'cos': <function cmath.cos(z, /)>,\n",
       " 'cosh': <function cmath.cosh(z, /)>,\n",
       " 'isclose': <function cmath.isclose(a, b, *, rel_tol=1e-09, abs_tol=0.0)>,\n",
       " 'isfinite': <function cmath.isfinite(z, /)>,\n",
       " 'isinf': <function cmath.isinf(z, /)>,\n",
       " 'isnan': <function cmath.isnan(z, /)>,\n",
       " 'log': <function cmath.log>,\n",
       " 'log10': <function cmath.log10(z, /)>,\n",
       " 'phase': <function cmath.phase(z, /)>,\n",
       " 'polar': <function cmath.polar(z, /)>,\n",
       " 'rect': <function cmath.rect(r, phi, /)>,\n",
       " 'sin': <function cmath.sin(z, /)>,\n",
       " 'sinh': <function cmath.sinh(z, /)>,\n",
       " 'sqrt': <function cmath.sqrt(z, /)>,\n",
       " 'tan': <function cmath.tan(z, /)>,\n",
       " 'tanh': <function cmath.tanh(z, /)>,\n",
       " 'pi': 3.141592653589793,\n",
       " 'e': 2.718281828459045,\n",
       " 'tau': 6.283185307179586,\n",
       " 'inf': inf,\n",
       " 'infj': infj,\n",
       " 'nan': nan,\n",
       " 'nanj': nanj,\n",
       " '_i19': 'globals()'}"
      ]
     },
     "execution_count": 19,
     "metadata": {},
     "output_type": "execute_result"
    }
   ],
   "source": [
    "globals()"
   ]
  },
  {
   "cell_type": "code",
   "execution_count": 20,
   "id": "4f7f0e1f-6231-4edf-81a1-8fa928d91714",
   "metadata": {},
   "outputs": [
    {
     "data": {
      "text/plain": [
       "(3.4209548611170133-1.5093064853236156j)"
      ]
     },
     "execution_count": 20,
     "metadata": {},
     "output_type": "execute_result"
    }
   ],
   "source": [
    "sin(2+2j)"
   ]
  },
  {
   "cell_type": "code",
   "execution_count": 21,
   "id": "9a20b6af-39ef-4267-84cf-4c640b35acf7",
   "metadata": {},
   "outputs": [],
   "source": [
    "from math import *"
   ]
  },
  {
   "cell_type": "code",
   "execution_count": 22,
   "id": "fe467b4f-6884-4fce-af58-5b2058f9643a",
   "metadata": {},
   "outputs": [
    {
     "data": {
      "text/plain": [
       "{'__name__': '__main__',\n",
       " '__doc__': 'Automatically created module for IPython interactive environment',\n",
       " '__package__': None,\n",
       " '__loader__': None,\n",
       " '__spec__': None,\n",
       " '__builtin__': <module 'builtins' (built-in)>,\n",
       " '__builtins__': <module 'builtins' (built-in)>,\n",
       " '_ih': ['',\n",
       "  'import sys',\n",
       "  'for key in sorted(sys.modules.keys()):\\n    print(key)',\n",
       "  \"'cmath' in sys.modules\",\n",
       "  \"'cmath' in globals()\",\n",
       "  'from cmath import exp',\n",
       "  \"'cmath' in globals()\",\n",
       "  \"'exp' in globals()\",\n",
       "  'exp',\n",
       "  'id(exp)',\n",
       "  \"'cmath' in sys.modules\",\n",
       "  'exp(2+2j)',\n",
       "  \"cmath = sys.modules['cmath']\",\n",
       "  \"'cmath' in globals()\",\n",
       "  'cmath.exp(2+2j)',\n",
       "  'cmath.sin(2+2j)',\n",
       "  'cmath.pi',\n",
       "  'cmath.cos(2+2j)',\n",
       "  'from cmath import *',\n",
       "  'globals()',\n",
       "  'sin(2+2j)',\n",
       "  'from math import *',\n",
       "  'globals()'],\n",
       " '_oh': {3: False,\n",
       "  4: False,\n",
       "  6: False,\n",
       "  7: True,\n",
       "  8: <function cmath.exp(z, /)>,\n",
       "  9: 1878229930192,\n",
       "  10: True,\n",
       "  11: (-3.074932320639359+6.71884969742825j),\n",
       "  13: True,\n",
       "  14: (-3.074932320639359+6.71884969742825j),\n",
       "  15: (3.4209548611170133-1.5093064853236156j),\n",
       "  16: 3.141592653589793,\n",
       "  17: (-1.5656258353157435-3.2978948363112366j),\n",
       "  19: {...},\n",
       "  20: (3.4209548611170133-1.5093064853236156j)},\n",
       " '_dh': [WindowsPath('C:/Users/afaq/Desktop/udemy/NumPy,Pandas and Matplotlib/Deep Dive Part 1')],\n",
       " 'In': ['',\n",
       "  'import sys',\n",
       "  'for key in sorted(sys.modules.keys()):\\n    print(key)',\n",
       "  \"'cmath' in sys.modules\",\n",
       "  \"'cmath' in globals()\",\n",
       "  'from cmath import exp',\n",
       "  \"'cmath' in globals()\",\n",
       "  \"'exp' in globals()\",\n",
       "  'exp',\n",
       "  'id(exp)',\n",
       "  \"'cmath' in sys.modules\",\n",
       "  'exp(2+2j)',\n",
       "  \"cmath = sys.modules['cmath']\",\n",
       "  \"'cmath' in globals()\",\n",
       "  'cmath.exp(2+2j)',\n",
       "  'cmath.sin(2+2j)',\n",
       "  'cmath.pi',\n",
       "  'cmath.cos(2+2j)',\n",
       "  'from cmath import *',\n",
       "  'globals()',\n",
       "  'sin(2+2j)',\n",
       "  'from math import *',\n",
       "  'globals()'],\n",
       " 'Out': {3: False,\n",
       "  4: False,\n",
       "  6: False,\n",
       "  7: True,\n",
       "  8: <function cmath.exp(z, /)>,\n",
       "  9: 1878229930192,\n",
       "  10: True,\n",
       "  11: (-3.074932320639359+6.71884969742825j),\n",
       "  13: True,\n",
       "  14: (-3.074932320639359+6.71884969742825j),\n",
       "  15: (3.4209548611170133-1.5093064853236156j),\n",
       "  16: 3.141592653589793,\n",
       "  17: (-1.5656258353157435-3.2978948363112366j),\n",
       "  19: {...},\n",
       "  20: (3.4209548611170133-1.5093064853236156j)},\n",
       " 'get_ipython': <bound method InteractiveShell.get_ipython of <ipykernel.zmqshell.ZMQInteractiveShell object at 0x000001B54F300D10>>,\n",
       " 'exit': <IPython.core.autocall.ZMQExitAutocall at 0x1b54f3191d0>,\n",
       " 'quit': <IPython.core.autocall.ZMQExitAutocall at 0x1b54f3191d0>,\n",
       " 'open': <function io.open(file, mode='r', buffering=-1, encoding=None, errors=None, newline=None, closefd=True, opener=None)>,\n",
       " '_': (3.4209548611170133-1.5093064853236156j),\n",
       " '__': {...},\n",
       " '___': (-1.5656258353157435-3.2978948363112366j),\n",
       " '__session__': 'C:\\\\Users\\\\afaq\\\\Desktop\\\\udemy\\\\NumPy,Pandas and Matplotlib\\\\Deep Dive Part 1\\\\Import Variants and Misconseptions.ipynb',\n",
       " '_i': 'from math import *',\n",
       " '_ii': 'sin(2+2j)',\n",
       " '_iii': 'globals()',\n",
       " '_i1': 'import sys',\n",
       " 'sys': <module 'sys' (built-in)>,\n",
       " '_i2': 'for key in sorted(sys.modules.keys()):\\n    print(key)',\n",
       " 'key': 'zmq.utils.jsonapi',\n",
       " '_i3': \"'cmath' in sys.modules\",\n",
       " '_3': False,\n",
       " '_i4': \"'cmath' in globals()\",\n",
       " '_4': False,\n",
       " '_i5': 'from cmath import exp',\n",
       " 'exp': <function math.exp(x, /)>,\n",
       " '_i6': \"'cmath' in globals()\",\n",
       " '_6': False,\n",
       " '_i7': \"'exp' in globals()\",\n",
       " '_7': True,\n",
       " '_i8': 'exp',\n",
       " '_8': <function cmath.exp(z, /)>,\n",
       " '_i9': 'id(exp)',\n",
       " '_9': 1878229930192,\n",
       " '_i10': \"'cmath' in sys.modules\",\n",
       " '_10': True,\n",
       " '_i11': 'exp(2+2j)',\n",
       " '_11': (-3.074932320639359+6.71884969742825j),\n",
       " '_i12': \"cmath = sys.modules['cmath']\",\n",
       " 'cmath': <module 'cmath' (built-in)>,\n",
       " '_i13': \"'cmath' in globals()\",\n",
       " '_13': True,\n",
       " '_i14': 'cmath.exp(2+2j)',\n",
       " '_14': (-3.074932320639359+6.71884969742825j),\n",
       " '_i15': 'cmath.sin(2+2j)',\n",
       " '_15': (3.4209548611170133-1.5093064853236156j),\n",
       " '_i16': 'cmath.pi',\n",
       " '_16': 3.141592653589793,\n",
       " '_i17': 'cmath.cos(2+2j)',\n",
       " '_17': (-1.5656258353157435-3.2978948363112366j),\n",
       " '_i18': 'from cmath import *',\n",
       " 'acos': <function math.acos(x, /)>,\n",
       " 'acosh': <function math.acosh(x, /)>,\n",
       " 'asin': <function math.asin(x, /)>,\n",
       " 'asinh': <function math.asinh(x, /)>,\n",
       " 'atan': <function math.atan(x, /)>,\n",
       " 'atanh': <function math.atanh(x, /)>,\n",
       " 'cos': <function math.cos(x, /)>,\n",
       " 'cosh': <function math.cosh(x, /)>,\n",
       " 'isclose': <function math.isclose(a, b, *, rel_tol=1e-09, abs_tol=0.0)>,\n",
       " 'isfinite': <function math.isfinite(x, /)>,\n",
       " 'isinf': <function math.isinf(x, /)>,\n",
       " 'isnan': <function math.isnan(x, /)>,\n",
       " 'log': <function math.log>,\n",
       " 'log10': <function math.log10(x, /)>,\n",
       " 'phase': <function cmath.phase(z, /)>,\n",
       " 'polar': <function cmath.polar(z, /)>,\n",
       " 'rect': <function cmath.rect(r, phi, /)>,\n",
       " 'sin': <function math.sin(x, /)>,\n",
       " 'sinh': <function math.sinh(x, /)>,\n",
       " 'sqrt': <function math.sqrt(x, /)>,\n",
       " 'tan': <function math.tan(x, /)>,\n",
       " 'tanh': <function math.tanh(x, /)>,\n",
       " 'pi': 3.141592653589793,\n",
       " 'e': 2.718281828459045,\n",
       " 'tau': 6.283185307179586,\n",
       " 'inf': inf,\n",
       " 'infj': infj,\n",
       " 'nan': nan,\n",
       " 'nanj': nanj,\n",
       " '_i19': 'globals()',\n",
       " '_19': {...},\n",
       " '_i20': 'sin(2+2j)',\n",
       " '_20': (3.4209548611170133-1.5093064853236156j),\n",
       " '_i21': 'from math import *',\n",
       " 'atan2': <function math.atan2(y, x, /)>,\n",
       " 'cbrt': <function math.cbrt(x, /)>,\n",
       " 'ceil': <function math.ceil(x, /)>,\n",
       " 'copysign': <function math.copysign(x, y, /)>,\n",
       " 'degrees': <function math.degrees(x, /)>,\n",
       " 'dist': <function math.dist(p, q, /)>,\n",
       " 'erf': <function math.erf(x, /)>,\n",
       " 'erfc': <function math.erfc(x, /)>,\n",
       " 'exp2': <function math.exp2(x, /)>,\n",
       " 'expm1': <function math.expm1(x, /)>,\n",
       " 'fabs': <function math.fabs(x, /)>,\n",
       " 'factorial': <function math.factorial(n, /)>,\n",
       " 'floor': <function math.floor(x, /)>,\n",
       " 'fmod': <function math.fmod(x, y, /)>,\n",
       " 'frexp': <function math.frexp(x, /)>,\n",
       " 'fsum': <function math.fsum(seq, /)>,\n",
       " 'gamma': <function math.gamma(x, /)>,\n",
       " 'gcd': <function math.gcd(*integers)>,\n",
       " 'hypot': <function math.hypot>,\n",
       " 'isqrt': <function math.isqrt(n, /)>,\n",
       " 'lcm': <function math.lcm(*integers)>,\n",
       " 'ldexp': <function math.ldexp(x, i, /)>,\n",
       " 'lgamma': <function math.lgamma(x, /)>,\n",
       " 'log1p': <function math.log1p(x, /)>,\n",
       " 'log2': <function math.log2(x, /)>,\n",
       " 'modf': <function math.modf(x, /)>,\n",
       " 'pow': <function math.pow(x, y, /)>,\n",
       " 'radians': <function math.radians(x, /)>,\n",
       " 'remainder': <function math.remainder(x, y, /)>,\n",
       " 'trunc': <function math.trunc(x, /)>,\n",
       " 'prod': <function math.prod(iterable, /, *, start=1)>,\n",
       " 'perm': <function math.perm(n, k=None, /)>,\n",
       " 'comb': <function math.comb(n, k, /)>,\n",
       " 'nextafter': <function math.nextafter(x, y, /)>,\n",
       " 'ulp': <function math.ulp(x, /)>,\n",
       " '_i22': 'globals()'}"
      ]
     },
     "execution_count": 22,
     "metadata": {},
     "output_type": "execute_result"
    }
   ],
   "source": [
    "globals()"
   ]
  },
  {
   "cell_type": "code",
   "execution_count": 23,
   "id": "4a116c4e-ed03-4987-b93a-7a1cff94809a",
   "metadata": {},
   "outputs": [
    {
     "ename": "TypeError",
     "evalue": "must be real number, not complex",
     "output_type": "error",
     "traceback": [
      "\u001b[1;31m---------------------------------------------------------------------------\u001b[0m",
      "\u001b[1;31mTypeError\u001b[0m                                 Traceback (most recent call last)",
      "Cell \u001b[1;32mIn[23], line 1\u001b[0m\n\u001b[1;32m----> 1\u001b[0m \u001b[43msin\u001b[49m\u001b[43m(\u001b[49m\u001b[38;5;241;43m2\u001b[39;49m\u001b[38;5;241;43m+\u001b[39;49m\u001b[38;5;241;43m2\u001b[39;49m\u001b[43mj\u001b[49m\u001b[43m)\u001b[49m\n",
      "\u001b[1;31mTypeError\u001b[0m: must be real number, not complex"
     ]
    }
   ],
   "source": [
    "sin(2+2j)"
   ]
  },
  {
   "cell_type": "code",
   "execution_count": 24,
   "id": "1f5a7cfb-511c-4a4b-92a9-eb57c8f0c686",
   "metadata": {},
   "outputs": [],
   "source": [
    "from time import perf_counter"
   ]
  },
  {
   "cell_type": "code",
   "execution_count": 29,
   "id": "3d7b6765-f9c1-4ea6-ab96-42c316529bc5",
   "metadata": {},
   "outputs": [],
   "source": [
    "from cmath import sin as c_sin"
   ]
  },
  {
   "cell_type": "code",
   "execution_count": 31,
   "id": "8d5f4953-0549-424d-aafd-9e3c718ce896",
   "metadata": {},
   "outputs": [
    {
     "data": {
      "text/plain": [
       "<function cmath.sin(z, /)>"
      ]
     },
     "execution_count": 31,
     "metadata": {},
     "output_type": "execute_result"
    }
   ],
   "source": [
    "c_sin"
   ]
  },
  {
   "cell_type": "code",
   "execution_count": 32,
   "id": "b5931266-f999-44bf-ab3c-778ee91bbf79",
   "metadata": {},
   "outputs": [],
   "source": [
    "from math import sin as r_sin"
   ]
  },
  {
   "cell_type": "code",
   "execution_count": 33,
   "id": "433e29fc-c6d3-47bc-b7dc-a8a816536575",
   "metadata": {},
   "outputs": [
    {
     "data": {
      "text/plain": [
       "<function math.sin(x, /)>"
      ]
     },
     "execution_count": 33,
     "metadata": {},
     "output_type": "execute_result"
    }
   ],
   "source": [
    "r_sin"
   ]
  },
  {
   "cell_type": "markdown",
   "id": "5b59b65d-3c9d-4148-83c3-09e5831334a1",
   "metadata": {},
   "source": [
    "Efficiency"
   ]
  },
  {
   "cell_type": "code",
   "execution_count": 68,
   "id": "d8ec96a3-fe56-4637-b52e-f94fdd0783d9",
   "metadata": {},
   "outputs": [],
   "source": [
    "def my_func(a):\n",
    "    import math\n",
    "    return math.sqrt(a)"
   ]
  },
  {
   "cell_type": "code",
   "execution_count": 69,
   "id": "ad5a654f-f895-44bc-ac00-7e91e861498a",
   "metadata": {},
   "outputs": [],
   "source": [
    "from time import perf_counter"
   ]
  },
  {
   "cell_type": "code",
   "execution_count": 70,
   "id": "3ac9e770-3f1e-40e8-98dd-44018f9df885",
   "metadata": {},
   "outputs": [],
   "source": [
    "from collections import namedtuple"
   ]
  },
  {
   "cell_type": "code",
   "execution_count": 71,
   "id": "918c2fa5-3d17-4ea3-bb46-46a1b7d307bf",
   "metadata": {},
   "outputs": [],
   "source": [
    "Timings = namedtuple('Timings','timing_1 timing_2 abs_diff rel_diff_perc')"
   ]
  },
  {
   "cell_type": "code",
   "execution_count": 72,
   "id": "bba69ed3-c4da-45f7-b8c4-66c3790387b0",
   "metadata": {},
   "outputs": [],
   "source": [
    "def compare_timings(timing_1,timing_2):\n",
    "    rel_diff = (timing_2 - timing_1)/timing_1 * 100\n",
    "\n",
    "    timings = Timings(round(timing_1, 1),\n",
    "                     round(timing_2, 1),\n",
    "                     round(timing_2 - timing_1, 1),\n",
    "                     round(rel_diff, 2))\n",
    "    return timings"
   ]
  },
  {
   "cell_type": "code",
   "execution_count": 73,
   "id": "be3392ac-445f-43e1-b50d-d822eecde308",
   "metadata": {},
   "outputs": [
    {
     "data": {
      "text/plain": [
       "Timings(timing_1=1, timing_2=2, abs_diff=1, rel_diff_perc=100.0)"
      ]
     },
     "execution_count": 73,
     "metadata": {},
     "output_type": "execute_result"
    }
   ],
   "source": [
    "compare_timings(1,2)"
   ]
  },
  {
   "cell_type": "code",
   "execution_count": 74,
   "id": "16e823ce-a03e-4bcf-9fcc-90f3f22d90ec",
   "metadata": {},
   "outputs": [],
   "source": [
    "test_repeats = 10_000_000"
   ]
  },
  {
   "cell_type": "markdown",
   "id": "9d3380d3-2b63-4b4e-b623-d20ee695094f",
   "metadata": {},
   "source": [
    "Timing using fully qualified module.symbol"
   ]
  },
  {
   "cell_type": "code",
   "execution_count": 75,
   "id": "904db2a0-ec5c-4080-8226-fc9a0b9746e3",
   "metadata": {},
   "outputs": [
    {
     "name": "stdout",
     "output_type": "stream",
     "text": [
      "Elapsed: 18574.6944372\n"
     ]
    }
   ],
   "source": [
    "import math\n",
    "\n",
    "start = perf_counter()\n",
    "for _ in range(test_repeats):\n",
    "    math.sqrt(2)\n",
    "end = perf_counter()\n",
    "elapsed_fully_qualified = end=start\n",
    "print(f'Elapsed: {elapsed_fully_qualified}')"
   ]
  },
  {
   "cell_type": "raw",
   "id": "5aac7d34-0e05-4cd5-bb0a-0a6a090f1bd2",
   "metadata": {},
   "source": [
    "###Timing using a directly import symbol name"
   ]
  },
  {
   "cell_type": "code",
   "execution_count": 76,
   "id": "729f8769-5d08-4f61-aab7-c58233c1a7b7",
   "metadata": {},
   "outputs": [
    {
     "name": "stdout",
     "output_type": "stream",
     "text": [
      "Elapsed: 18576.0780252\n"
     ]
    }
   ],
   "source": [
    "from math import sqrt \n",
    "\n",
    "start = perf_counter()\n",
    "for _ in range(test_repeats):\n",
    "    sqrt(2)\n",
    "end = perf_counter()\n",
    "elapsed_direct_symbol = end=start\n",
    "print(f'Elapsed: {elapsed_direct_symbol}')"
   ]
  },
  {
   "cell_type": "code",
   "execution_count": 77,
   "id": "30d0c8da-241d-4c3b-b665-02fc6c41ace6",
   "metadata": {},
   "outputs": [
    {
     "data": {
      "text/plain": [
       "Timings(timing_1=18574.7, timing_2=18576.1, abs_diff=1.4, rel_diff_perc=0.01)"
      ]
     },
     "execution_count": 77,
     "metadata": {},
     "output_type": "execute_result"
    }
   ],
   "source": [
    "compare_timings(elapsed_fully_qualified,elapsed_direct_symbol)"
   ]
  },
  {
   "cell_type": "markdown",
   "id": "dd2a7e2a-1c03-42a3-a5d3-66ddcc4dfa35",
   "metadata": {},
   "source": [
    "####Timing using a function wrapper(fully qualified symbol)"
   ]
  },
  {
   "cell_type": "code",
   "execution_count": 78,
   "id": "6a8ee9fe-bb2e-4eec-9b2a-a7190af0c9f3",
   "metadata": {},
   "outputs": [
    {
     "name": "stdout",
     "output_type": "stream",
     "text": [
      "Elapsed: 18578.4227426\n"
     ]
    }
   ],
   "source": [
    "import math\n",
    "\n",
    "def func():\n",
    "    math.sqrt(2)\n",
    "    \n",
    "start = perf_counter()\n",
    "for _ in range(test_repeats):\n",
    "   func()\n",
    "end = perf_counter()\n",
    "elapsed_func_fully_qualified = end=start\n",
    "print(f'Elapsed: {elapsed_func_fully_qualified}')"
   ]
  },
  {
   "cell_type": "code",
   "execution_count": 79,
   "id": "eab33733-287a-4fb7-b827-e24ed91941ad",
   "metadata": {},
   "outputs": [
    {
     "name": "stdout",
     "output_type": "stream",
     "text": [
      "Elapsed: 18580.1036121\n"
     ]
    }
   ],
   "source": [
    "from math import sqrt\n",
    "\n",
    "def func():\n",
    "    sqrt(2)\n",
    "\n",
    "start = perf_counter()\n",
    "for _ in range(test_repeats):\n",
    "    func()\n",
    "end = perf_counter()\n",
    "elapsed_func_direct_symbol = end=start\n",
    "print(f'Elapsed: {elapsed_func_direct_symbol}')"
   ]
  },
  {
   "cell_type": "code",
   "execution_count": 80,
   "id": "a5713e01-7f16-40aa-8066-bbecc832aa16",
   "metadata": {},
   "outputs": [
    {
     "data": {
      "text/plain": [
       "Timings(timing_1=18578.4, timing_2=18580.1, abs_diff=1.7, rel_diff_perc=0.01)"
      ]
     },
     "execution_count": 80,
     "metadata": {},
     "output_type": "execute_result"
    }
   ],
   "source": [
    "compare_timings(elapsed_func_fully_qualified,elapsed_func_direct_symbol)"
   ]
  },
  {
   "cell_type": "raw",
   "id": "9fd7d1e2-1b30-4cf7-954d-0cb0eed7d2dc",
   "metadata": {},
   "source": [
    "### Nested Imports"
   ]
  },
  {
   "cell_type": "code",
   "execution_count": 81,
   "id": "3d75e7fd-b0de-4e42-ba08-032320fbd04d",
   "metadata": {},
   "outputs": [
    {
     "name": "stdout",
     "output_type": "stream",
     "text": [
      "Elapsed: 18966.6500545\n"
     ]
    }
   ],
   "source": [
    "def func():\n",
    "    import math\n",
    "    math.sqrt(2)\n",
    "    \n",
    "start = perf_counter()\n",
    "for _ in range(test_repeats):\n",
    "   func()\n",
    "end = perf_counter()\n",
    "elapsed_nested_fully_qualified = end=start\n",
    "print(f'Elapsed: {elapsed_nested_fully_qualified}')"
   ]
  },
  {
   "cell_type": "code",
   "execution_count": 82,
   "id": "0c51d525-6c04-4f0f-9b84-c003a3806678",
   "metadata": {},
   "outputs": [
    {
     "data": {
      "text/plain": [
       "Timings(timing_1=18578.4, timing_2=18966.7, abs_diff=388.2, rel_diff_perc=2.09)"
      ]
     },
     "execution_count": 82,
     "metadata": {},
     "output_type": "execute_result"
    }
   ],
   "source": [
    "compare_timings(elapsed_func_fully_qualified,elapsed_nested_fully_qualified)"
   ]
  },
  {
   "cell_type": "code",
   "execution_count": 83,
   "id": "b46fb6db-89ca-4de1-8a7c-3a688c074cec",
   "metadata": {},
   "outputs": [
    {
     "name": "stdout",
     "output_type": "stream",
     "text": [
      "Elapsed: 19174.3287447\n"
     ]
    }
   ],
   "source": [
    "def func():\n",
    "    from math import sqrt\n",
    "    sqrt(2)\n",
    "    \n",
    "start = perf_counter()\n",
    "for _ in range(test_repeats):\n",
    "   func()\n",
    "end = perf_counter()\n",
    "elapsed_nested_direct_symbol = end=start\n",
    "print(f'Elapsed: {elapsed_nested_direct_symbol}')"
   ]
  },
  {
   "cell_type": "code",
   "execution_count": 84,
   "id": "ed90db9e-f1df-4b6e-ae00-0d8d044fbebd",
   "metadata": {},
   "outputs": [
    {
     "data": {
      "text/plain": [
       "Timings(timing_1=18966.7, timing_2=19174.3, abs_diff=207.7, rel_diff_perc=1.09)"
      ]
     },
     "execution_count": 84,
     "metadata": {},
     "output_type": "execute_result"
    }
   ],
   "source": [
    "compare_timings(elapsed_nested_fully_qualified,elapsed_nested_direct_symbol)"
   ]
  },
  {
   "cell_type": "code",
   "execution_count": null,
   "id": "823494ed-a394-494d-a218-b1cea7a2e71e",
   "metadata": {},
   "outputs": [],
   "source": []
  }
 ],
 "metadata": {
  "kernelspec": {
   "display_name": "Python 3 (ipykernel)",
   "language": "python",
   "name": "python3"
  },
  "language_info": {
   "codemirror_mode": {
    "name": "ipython",
    "version": 3
   },
   "file_extension": ".py",
   "mimetype": "text/x-python",
   "name": "python",
   "nbconvert_exporter": "python",
   "pygments_lexer": "ipython3",
   "version": "3.11.5"
  },
  "widgets": {
   "application/vnd.jupyter.widget-state+json": {
    "state": {},
    "version_major": 2,
    "version_minor": 0
   }
  }
 },
 "nbformat": 4,
 "nbformat_minor": 5
}
