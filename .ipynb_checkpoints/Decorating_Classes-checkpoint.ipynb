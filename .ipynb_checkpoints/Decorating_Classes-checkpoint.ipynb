{
 "cells": [
  {
   "cell_type": "code",
   "execution_count": 1,
   "id": "076697b1-7120-4113-9e78-97c44be1e903",
   "metadata": {},
   "outputs": [],
   "source": [
    "from fractions import Fraction"
   ]
  },
  {
   "cell_type": "code",
   "execution_count": 2,
   "id": "f2c11525-8937-4ff9-9b9e-854b1234c3c4",
   "metadata": {},
   "outputs": [],
   "source": [
    "f = Fraction(2,3)"
   ]
  },
  {
   "cell_type": "code",
   "execution_count": 3,
   "id": "95fe3fd7-4ff2-4bbc-9991-fa6b5056ea56",
   "metadata": {},
   "outputs": [
    {
     "data": {
      "text/plain": [
       "3"
      ]
     },
     "execution_count": 3,
     "metadata": {},
     "output_type": "execute_result"
    }
   ],
   "source": [
    "f.denominator"
   ]
  },
  {
   "cell_type": "code",
   "execution_count": 4,
   "id": "624897de-5e96-4b95-80dc-71433158f99f",
   "metadata": {},
   "outputs": [
    {
     "data": {
      "text/plain": [
       "2"
      ]
     },
     "execution_count": 4,
     "metadata": {},
     "output_type": "execute_result"
    }
   ],
   "source": [
    "f.numerator"
   ]
  },
  {
   "cell_type": "code",
   "execution_count": 5,
   "id": "bf3da775-9504-4d9d-bbeb-d9f81390124d",
   "metadata": {},
   "outputs": [],
   "source": [
    "Fraction.speak = 100"
   ]
  },
  {
   "cell_type": "code",
   "execution_count": 6,
   "id": "3ef5b021-5ddd-49c3-b941-257d008e2dfd",
   "metadata": {},
   "outputs": [
    {
     "data": {
      "text/plain": [
       "100"
      ]
     },
     "execution_count": 6,
     "metadata": {},
     "output_type": "execute_result"
    }
   ],
   "source": [
    "f.speak"
   ]
  },
  {
   "cell_type": "code",
   "execution_count": 7,
   "id": "e7e91d93-6443-45b2-a67b-40a989586442",
   "metadata": {},
   "outputs": [],
   "source": [
    "Fraction.speak = lambda self, message: 'Fraction says:{0}'.format(message)"
   ]
  },
  {
   "cell_type": "code",
   "execution_count": 8,
   "id": "bbbfd156-98c4-490f-84c9-827ee39ce988",
   "metadata": {},
   "outputs": [
    {
     "data": {
      "text/plain": [
       "'Fraction says:This is a late parrot'"
      ]
     },
     "execution_count": 8,
     "metadata": {},
     "output_type": "execute_result"
    }
   ],
   "source": [
    "f.speak('This is a late parrot')"
   ]
  },
  {
   "cell_type": "code",
   "execution_count": 9,
   "id": "c87cdcd9-b23d-443b-9180-971f0bd94d0f",
   "metadata": {},
   "outputs": [],
   "source": [
    "f2 = Fraction(10,5)"
   ]
  },
  {
   "cell_type": "code",
   "execution_count": 10,
   "id": "46489d1b-6007-4d4e-8e16-1168b8c9b084",
   "metadata": {},
   "outputs": [
    {
     "data": {
      "text/plain": [
       "'Fraction says:This parrot ia no more.'"
      ]
     },
     "execution_count": 10,
     "metadata": {},
     "output_type": "execute_result"
    }
   ],
   "source": [
    "f2.speak('This parrot ia no more.')"
   ]
  },
  {
   "cell_type": "markdown",
   "id": "bebc3230-59e1-4cc8-bc18-fb342f280459",
   "metadata": {},
   "source": [
    "--------"
   ]
  },
  {
   "cell_type": "code",
   "execution_count": 17,
   "id": "df18d057-880e-4a1b-b8c4-b0ec21b3d33e",
   "metadata": {},
   "outputs": [],
   "source": [
    "Fraction.is_integral = lambda self:self.denominator == 1"
   ]
  },
  {
   "cell_type": "code",
   "execution_count": 18,
   "id": "084b9332-a3ff-4f10-a678-2b071724bc8e",
   "metadata": {},
   "outputs": [],
   "source": [
    "f1 = Fraction(2,3)\n",
    "f2 = Fraction(64,8)"
   ]
  },
  {
   "cell_type": "code",
   "execution_count": 19,
   "id": "ffa8f4d1-a406-4a9e-8ba0-2e38a77b2c1e",
   "metadata": {},
   "outputs": [
    {
     "data": {
      "text/plain": [
       "Fraction(2, 3)"
      ]
     },
     "execution_count": 19,
     "metadata": {},
     "output_type": "execute_result"
    }
   ],
   "source": [
    "f1"
   ]
  },
  {
   "cell_type": "code",
   "execution_count": 20,
   "id": "fe903683-66c4-4970-9645-cbffa35bfb72",
   "metadata": {},
   "outputs": [
    {
     "data": {
      "text/plain": [
       "Fraction(8, 1)"
      ]
     },
     "execution_count": 20,
     "metadata": {},
     "output_type": "execute_result"
    }
   ],
   "source": [
    "f2"
   ]
  },
  {
   "cell_type": "code",
   "execution_count": 21,
   "id": "3331c879-37b5-4fa9-817b-79ac54ef818f",
   "metadata": {},
   "outputs": [
    {
     "data": {
      "text/plain": [
       "False"
      ]
     },
     "execution_count": 21,
     "metadata": {},
     "output_type": "execute_result"
    }
   ],
   "source": [
    "f1.is_integral()"
   ]
  },
  {
   "cell_type": "code",
   "execution_count": 22,
   "id": "7650e8b4-2d2a-4650-a80e-3f9f5e591224",
   "metadata": {},
   "outputs": [
    {
     "data": {
      "text/plain": [
       "True"
      ]
     },
     "execution_count": 22,
     "metadata": {},
     "output_type": "execute_result"
    }
   ],
   "source": [
    "f2.is_integral()"
   ]
  },
  {
   "cell_type": "code",
   "execution_count": 39,
   "id": "6f087416-fd82-4fed-8bdd-b07696ecd53e",
   "metadata": {},
   "outputs": [],
   "source": [
    "def dec_speak(cls):\n",
    "    cls.speak = lambda self,message:'{0} says:{1}'.format(self.__class__.__name__,message)\n",
    "    return cls"
   ]
  },
  {
   "cell_type": "code",
   "execution_count": 40,
   "id": "60715211-f332-49d6-a0fb-28b26b5ddefe",
   "metadata": {},
   "outputs": [],
   "source": [
    "Fraction = dec_speak(Fraction)"
   ]
  },
  {
   "cell_type": "code",
   "execution_count": 41,
   "id": "31c28fff-0210-4485-ab09-b92f3f036107",
   "metadata": {},
   "outputs": [],
   "source": [
    "f1 = Fraction(2,3)"
   ]
  },
  {
   "cell_type": "code",
   "execution_count": 42,
   "id": "fadf563d-5e60-47d6-93cd-bfad8f64844b",
   "metadata": {},
   "outputs": [
    {
     "data": {
      "text/plain": [
       "'Fraction says:hello'"
      ]
     },
     "execution_count": 42,
     "metadata": {},
     "output_type": "execute_result"
    }
   ],
   "source": [
    "f1.speak('hello')"
   ]
  },
  {
   "cell_type": "code",
   "execution_count": 43,
   "id": "9bc00da0-e283-4d30-9e63-91ffe4bcd02a",
   "metadata": {},
   "outputs": [],
   "source": [
    "class Person:\n",
    "    pass"
   ]
  },
  {
   "cell_type": "code",
   "execution_count": 44,
   "id": "99bb3b0a-061c-40b9-9740-a1db72981fcf",
   "metadata": {},
   "outputs": [],
   "source": [
    "Person = dec_speak(Person)"
   ]
  },
  {
   "cell_type": "code",
   "execution_count": 46,
   "id": "1df80b50-70c0-4222-a353-a3b0e907ebf1",
   "metadata": {},
   "outputs": [],
   "source": [
    "p = Person()"
   ]
  },
  {
   "cell_type": "code",
   "execution_count": 47,
   "id": "78c60a58-f40a-4a7c-bf23-59fd8652fa5d",
   "metadata": {},
   "outputs": [
    {
     "data": {
      "text/plain": [
       "'Person says:this works'"
      ]
     },
     "execution_count": 47,
     "metadata": {},
     "output_type": "execute_result"
    }
   ],
   "source": [
    "p.speak('this works')"
   ]
  },
  {
   "cell_type": "code",
   "execution_count": 48,
   "id": "55e35ca5-8bda-4f41-91e6-3a982aeb93d9",
   "metadata": {},
   "outputs": [],
   "source": [
    "from datetime import datetime,timezone"
   ]
  },
  {
   "cell_type": "code",
   "execution_count": 77,
   "id": "8a5deb39-5a79-4174-a78b-1094d2a8500b",
   "metadata": {},
   "outputs": [],
   "source": [
    "def info(self):\n",
    "        results = []\n",
    "        results.append('Time: {0}'.format(datetime.now(timezone.utc)))\n",
    "        results.append('Class: {0}'.format(self.__class__.__name__))\n",
    "        results.append('id: {0}'.format(hex(id(self))))\n",
    "        for k, v in vars(self).items():\n",
    "            results.append('{0}: {1}'.format(k,v))\n",
    "        return results \n",
    "    \n",
    "def debug_info(cls):\n",
    "    cls.debug = info\n",
    "    return cls"
   ]
  },
  {
   "cell_type": "code",
   "execution_count": 78,
   "id": "a310e675-b286-4457-a5ab-dcdbb9e53b4e",
   "metadata": {},
   "outputs": [],
   "source": [
    "@debug_info\n",
    "class Person:\n",
    "    def __init__(self,name):\n",
    "        self.name = name"
   ]
  },
  {
   "cell_type": "code",
   "execution_count": 79,
   "id": "036fa80f-e5ee-48cf-9f96-66e816615b3a",
   "metadata": {},
   "outputs": [],
   "source": [
    "p = Person('John')"
   ]
  },
  {
   "cell_type": "code",
   "execution_count": 81,
   "id": "ffc60b30-ffb0-4c14-9478-86857cc90a5b",
   "metadata": {},
   "outputs": [
    {
     "data": {
      "text/plain": [
       "['Time: 2024-02-19 14:57:20.585272+00:00',\n",
       " 'Class: Person',\n",
       " 'id: 0x162338ec150',\n",
       " 'name: John']"
      ]
     },
     "execution_count": 81,
     "metadata": {},
     "output_type": "execute_result"
    }
   ],
   "source": [
    "p.debug()"
   ]
  },
  {
   "cell_type": "code",
   "execution_count": 92,
   "id": "cdb265de-b600-48b3-a398-b2844c65e745",
   "metadata": {},
   "outputs": [],
   "source": [
    "@debug_info\n",
    "class Automobile:\n",
    "    def __init__(self,make,model,year,top_speed):\n",
    "        self.make = make\n",
    "        self.model = model\n",
    "        self.year = year\n",
    "        self.top_speed = top_speed\n",
    "        self._speed = 0\n",
    "\n",
    "    @property\n",
    "    def speed(self):\n",
    "        return self._speed\n",
    "\n",
    "    @speed.setter\n",
    "    def speed(self,new_speed):\n",
    "        if new_speed > self.top_speed:\n",
    "            raise ValueError('Speed cannot wxceed top_speed.')\n",
    "        else:\n",
    "            self._speed = new_speed"
   ]
  },
  {
   "cell_type": "code",
   "execution_count": 93,
   "id": "2f747032-f0eb-466c-a007-6f03f5285f77",
   "metadata": {},
   "outputs": [],
   "source": [
    "favorite = Automobile('Ford','Model T',1908,45)"
   ]
  },
  {
   "cell_type": "code",
   "execution_count": 94,
   "id": "c3d2c4b3-9933-4704-818a-59d3565f9639",
   "metadata": {},
   "outputs": [
    {
     "data": {
      "text/plain": [
       "['Time: 2024-02-19 16:14:04.800053+00:00',\n",
       " 'Class: Automobile',\n",
       " 'id: 0x16233e03d90',\n",
       " 'make: Ford',\n",
       " 'model: Model T',\n",
       " 'year: 1908',\n",
       " 'top_speed: 45',\n",
       " '_speed: 0']"
      ]
     },
     "execution_count": 94,
     "metadata": {},
     "output_type": "execute_result"
    }
   ],
   "source": [
    "favorite.debug()"
   ]
  },
  {
   "cell_type": "code",
   "execution_count": 95,
   "id": "4bbc038b-91ff-4cb3-befa-d5c60fd25c2d",
   "metadata": {},
   "outputs": [],
   "source": [
    "favorite.speed = 40"
   ]
  },
  {
   "cell_type": "code",
   "execution_count": 96,
   "id": "031cf29f-8a82-41ad-806c-85d62a15134e",
   "metadata": {},
   "outputs": [
    {
     "data": {
      "text/plain": [
       "['Time: 2024-02-19 16:14:24.921554+00:00',\n",
       " 'Class: Automobile',\n",
       " 'id: 0x16233e03d90',\n",
       " 'make: Ford',\n",
       " 'model: Model T',\n",
       " 'year: 1908',\n",
       " 'top_speed: 45',\n",
       " '_speed: 40']"
      ]
     },
     "execution_count": 96,
     "metadata": {},
     "output_type": "execute_result"
    }
   ],
   "source": [
    "favorite.debug()"
   ]
  },
  {
   "cell_type": "code",
   "execution_count": 97,
   "id": "a541acd9-ed1e-4b8e-9f35-9404485de45c",
   "metadata": {},
   "outputs": [],
   "source": [
    "from math import sqrt"
   ]
  },
  {
   "cell_type": "code",
   "execution_count": 98,
   "id": "d2562ae6-39cc-4744-bb13-56aff4b6edbd",
   "metadata": {},
   "outputs": [],
   "source": [
    "class Point:\n",
    "    def __init__(self,x,y):\n",
    "        self.x = x\n",
    "        self.y = y\n",
    "\n",
    "    def __abs__(self):\n",
    "        return sqrt(self.x ** 2 + self.y ** 2)\n",
    "        \n",
    "    def __repr__(self):\n",
    "        return 'Point({0},{1})'.format(self.x,self.y)"
   ]
  },
  {
   "cell_type": "code",
   "execution_count": 99,
   "id": "221a8f4b-092b-4838-8bab-e467dd27ad8c",
   "metadata": {},
   "outputs": [],
   "source": [
    "p1, p2, p3 =Point(2,3),Point(2,3),Point(0,0)"
   ]
  },
  {
   "cell_type": "code",
   "execution_count": 100,
   "id": "1903d305-63c5-4a06-8a4e-3fb8ebd7cb7d",
   "metadata": {},
   "outputs": [
    {
     "data": {
      "text/plain": [
       "3.605551275463989"
      ]
     },
     "execution_count": 100,
     "metadata": {},
     "output_type": "execute_result"
    }
   ],
   "source": [
    "abs(p1)"
   ]
  },
  {
   "cell_type": "code",
   "execution_count": 101,
   "id": "11e97031-90e1-4eb4-8a55-616c1d1af709",
   "metadata": {},
   "outputs": [
    {
     "data": {
      "text/plain": [
       "Point(2,3)"
      ]
     },
     "execution_count": 101,
     "metadata": {},
     "output_type": "execute_result"
    }
   ],
   "source": [
    "p1"
   ]
  },
  {
   "cell_type": "code",
   "execution_count": 102,
   "id": "af8b0c33-7272-4dcd-9242-ffefa4b84eb6",
   "metadata": {},
   "outputs": [
    {
     "data": {
      "text/plain": [
       "Point(2,3)"
      ]
     },
     "execution_count": 102,
     "metadata": {},
     "output_type": "execute_result"
    }
   ],
   "source": [
    "p2"
   ]
  },
  {
   "cell_type": "code",
   "execution_count": 104,
   "id": "e0844caf-d156-4a60-9ef1-c82cacbf7624",
   "metadata": {},
   "outputs": [
    {
     "data": {
      "text/plain": [
       "False"
      ]
     },
     "execution_count": 104,
     "metadata": {},
     "output_type": "execute_result"
    }
   ],
   "source": [
    "p1 is p2"
   ]
  },
  {
   "cell_type": "code",
   "execution_count": 105,
   "id": "f99ab213-08eb-42fa-96bd-92c0ff534fb6",
   "metadata": {
    "jp-MarkdownHeadingCollapsed": true
   },
   "outputs": [
    {
     "data": {
      "text/plain": [
       "False"
      ]
     },
     "execution_count": 105,
     "metadata": {},
     "output_type": "execute_result"
    }
   ],
   "source": [
    "p1 == p2"
   ]
  },
  {
   "cell_type": "raw",
   "id": "b6263a00-f62a-4d18-8060-5db8d83a2267",
   "metadata": {},
   "source": [
    "class Point:\n",
    "    def __init__(self,x,y):\n",
    "        self.x = x\n",
    "        self.y = y\n",
    "\n",
    "    def __abs__(self):\n",
    "        return sqrt(self.x ** 2 + self.y ** 2)\n",
    "        \n",
    "    def __repr__(self):\n",
    "        return 'Point({0},{1})'.format(self.x,self.y)\n",
    "\n",
    "    def __eq__(self,other):\n",
    "        if isinstance(other,Point):\n",
    "            return self.x == other.x and self.y == other.y\n",
    "        else:\n",
    "            return False\n",
    "\n",
    "    def __lt__(self,other):\n",
    "        if isinstance(other,Point):\n",
    "            return abs(self) < abs(other)\n",
    "        else:\n",
    "            return NotImplemented"
   ]
  },
  {
   "cell_type": "code",
   "execution_count": 112,
   "id": "f590ee76-60ca-4501-832e-a4fe3a58bbc7",
   "metadata": {},
   "outputs": [],
   "source": [
    "p1, p2, p3 =Point(2,3),Point(2,3),Point(0,0)"
   ]
  },
  {
   "cell_type": "code",
   "execution_count": 113,
   "id": "d1bbfd21-681b-42a9-8805-26690875cca5",
   "metadata": {},
   "outputs": [
    {
     "data": {
      "text/plain": [
       "True"
      ]
     },
     "execution_count": 113,
     "metadata": {},
     "output_type": "execute_result"
    }
   ],
   "source": [
    "p1==p2"
   ]
  },
  {
   "cell_type": "code",
   "execution_count": 114,
   "id": "226620bd-6626-4c56-a4d8-2beeb46c706f",
   "metadata": {},
   "outputs": [
    {
     "data": {
      "text/plain": [
       "True"
      ]
     },
     "execution_count": 114,
     "metadata": {},
     "output_type": "execute_result"
    }
   ],
   "source": [
    "p3 < p1"
   ]
  },
  {
   "cell_type": "code",
   "execution_count": 115,
   "id": "6364c488-5c1f-4bfb-ae1e-222cf7163865",
   "metadata": {},
   "outputs": [],
   "source": [
    "p4 = Point(100,100)"
   ]
  },
  {
   "cell_type": "code",
   "execution_count": 116,
   "id": "ccb69bfc-f2e8-49a0-8423-53129ab561dd",
   "metadata": {},
   "outputs": [
    {
     "data": {
      "text/plain": [
       "False"
      ]
     },
     "execution_count": 116,
     "metadata": {},
     "output_type": "execute_result"
    }
   ],
   "source": [
    "p4<p1"
   ]
  },
  {
   "cell_type": "code",
   "execution_count": 117,
   "id": "24635e92-485e-4190-9860-55214cdc2a74",
   "metadata": {},
   "outputs": [
    {
     "data": {
      "text/plain": [
       "False"
      ]
     },
     "execution_count": 117,
     "metadata": {},
     "output_type": "execute_result"
    }
   ],
   "source": [
    "p1>p4"
   ]
  },
  {
   "cell_type": "code",
   "execution_count": 118,
   "id": "d3d58f6b-63ce-4417-a54b-97a224a20739",
   "metadata": {},
   "outputs": [
    {
     "data": {
      "text/plain": [
       "True"
      ]
     },
     "execution_count": 118,
     "metadata": {},
     "output_type": "execute_result"
    }
   ],
   "source": [
    "p4>p1"
   ]
  },
  {
   "cell_type": "raw",
   "id": "8826ba4c-6a74-4cd2-a556-c08e4b4da8ad",
   "metadata": {},
   "source": [
    "a <= b if a < b or a == b\n",
    "a > b if not(a<b) and a != b\n",
    "a >= b if not(a<b)"
   ]
  },
  {
   "cell_type": "code",
   "execution_count": 119,
   "id": "4c4f2951-6902-4d32-9ef0-440544bd50f9",
   "metadata": {},
   "outputs": [],
   "source": [
    "def complete_ordering(cls):\n",
    "    if '__eq__' in dir(cls) and '__lt__' in dir(cls):\n",
    "        cls.__le__ = lambda self, other: self < other or self == other\n",
    "        cls.__gt__ = lambda self, other: not(self<other) and not (self == other)\n",
    "        cls.__ge__ = lambda self,other: not(self < other)\n",
    "    return cls"
   ]
  },
  {
   "cell_type": "code",
   "execution_count": 120,
   "id": "400d4dc7-d9d0-44b6-abdb-5e115094cf73",
   "metadata": {},
   "outputs": [],
   "source": [
    "@complete_ordering\n",
    "class Point:\n",
    "    def __init__(self,x,y):\n",
    "        self.x = x\n",
    "        self.y = y\n",
    "\n",
    "    def __abs__(self):\n",
    "        return sqrt(self.x ** 2 + self.y ** 2)\n",
    "        \n",
    "    def __repr__(self):\n",
    "        return 'Point({0},{1})'.format(self.x,self.y)\n",
    "\n",
    "    def __eq__(self,other):\n",
    "        if isinstance(other,Point):\n",
    "            return self.x == other.x and self.y == other.y\n",
    "        else:\n",
    "            return False\n",
    "\n",
    "    def __lt__(self,other):\n",
    "        if isinstance(other,Point):\n",
    "            return abs(self) < abs(other)\n",
    "        else:\n",
    "            return NotImplemented"
   ]
  },
  {
   "cell_type": "code",
   "execution_count": 121,
   "id": "519163b7-af95-444f-9b99-3284b71db84a",
   "metadata": {},
   "outputs": [],
   "source": [
    "p1, p2, p3, p4 =Point(2,3),Point(2,3),Point(0,0),Point(100,200)"
   ]
  },
  {
   "cell_type": "code",
   "execution_count": 122,
   "id": "3a7788cb-c9a8-427d-b8ce-85bf663b1655",
   "metadata": {},
   "outputs": [
    {
     "data": {
      "text/plain": [
       "True"
      ]
     },
     "execution_count": 122,
     "metadata": {},
     "output_type": "execute_result"
    }
   ],
   "source": [
    "p1 <= p4"
   ]
  },
  {
   "cell_type": "code",
   "execution_count": 124,
   "id": "bf6980eb-89a5-4c36-9839-1bf25c707c47",
   "metadata": {},
   "outputs": [
    {
     "data": {
      "text/plain": [
       "True"
      ]
     },
     "execution_count": 124,
     "metadata": {},
     "output_type": "execute_result"
    }
   ],
   "source": [
    "p4 >= p2"
   ]
  },
  {
   "cell_type": "code",
   "execution_count": 125,
   "id": "bc557563-e7a1-4117-95f0-0a3d15da4b36",
   "metadata": {},
   "outputs": [
    {
     "data": {
      "text/plain": [
       "False"
      ]
     },
     "execution_count": 125,
     "metadata": {},
     "output_type": "execute_result"
    }
   ],
   "source": [
    "p1 != p2"
   ]
  },
  {
   "cell_type": "code",
   "execution_count": 127,
   "id": "a50faece-9f5b-4d73-ab3f-f7f7070789a6",
   "metadata": {},
   "outputs": [],
   "source": [
    "from functools import total_ordering"
   ]
  },
  {
   "cell_type": "code",
   "execution_count": 128,
   "id": "4cbc901b-7915-411b-b758-a11c74c72854",
   "metadata": {},
   "outputs": [],
   "source": [
    "@total_ordering\n",
    "class Point:\n",
    "    def __init__(self,x,y):\n",
    "        self.x = x\n",
    "        self.y = y\n",
    "\n",
    "    def __abs__(self):\n",
    "        return sqrt(self.x ** 2 + self.y ** 2)\n",
    "        \n",
    "    def __repr__(self):\n",
    "        return 'Point({0},{1})'.format(self.x,self.y)\n",
    "\n",
    "    def __eq__(self,other):\n",
    "        if isinstance(other,Point):\n",
    "            return self.x == other.x and self.y == other.y\n",
    "        else:\n",
    "            return False\n",
    "\n",
    "    def __lt__(self,other):\n",
    "        if isinstance(other,Point):\n",
    "            return abs(self) < abs(other)\n",
    "        else:\n",
    "            return NotImplemented"
   ]
  },
  {
   "cell_type": "code",
   "execution_count": 129,
   "id": "9cfd11d5-0a06-4f6a-9e16-4689466ac262",
   "metadata": {},
   "outputs": [],
   "source": [
    "p1, p2, p3, p4 =Point(2,3),Point(2,3),Point(0,0),Point(100,200)"
   ]
  },
  {
   "cell_type": "code",
   "execution_count": 130,
   "id": "64b2c9c2-5368-477c-8a00-3b4aa11fc289",
   "metadata": {},
   "outputs": [
    {
     "data": {
      "text/plain": [
       "True"
      ]
     },
     "execution_count": 130,
     "metadata": {},
     "output_type": "execute_result"
    }
   ],
   "source": [
    "p1 <= p2"
   ]
  },
  {
   "cell_type": "code",
   "execution_count": 131,
   "id": "4e374438-3e7e-4a12-ba8c-dc5cfb8d896b",
   "metadata": {},
   "outputs": [
    {
     "data": {
      "text/plain": [
       "False"
      ]
     },
     "execution_count": 131,
     "metadata": {},
     "output_type": "execute_result"
    }
   ],
   "source": [
    "p1 >= p4"
   ]
  },
  {
   "cell_type": "code",
   "execution_count": 132,
   "id": "bbe72854-6817-4d36-9e91-c8f3f0a7a2db",
   "metadata": {},
   "outputs": [],
   "source": [
    "@total_ordering\n",
    "class Point:\n",
    "    def __init__(self,x,y):\n",
    "        self.x = x\n",
    "        self.y = y\n",
    "\n",
    "    def __abs__(self):\n",
    "        return sqrt(self.x ** 2 + self.y ** 2)\n",
    "        \n",
    "    def __repr__(self):\n",
    "        return 'Point({0},{1})'.format(self.x,self.y)\n",
    "\n",
    "    def __eq__(self,other):\n",
    "        if isinstance(other,Point):\n",
    "            return self.x == other.x and self.y == other.y\n",
    "        else:\n",
    "            return False\n",
    "\n",
    "    def __gt__(self,other):\n",
    "        if isinstance(other,Point):\n",
    "            return abs(self) > abs(other)\n",
    "        else:\n",
    "            return NotImplemented"
   ]
  },
  {
   "cell_type": "code",
   "execution_count": 133,
   "id": "0f1b6192-767a-416f-bddf-2dee8832d4e0",
   "metadata": {},
   "outputs": [],
   "source": [
    "p1, p2, p3, p4 =Point(2,3),Point(2,3),Point(0,0),Point(100,200)"
   ]
  },
  {
   "cell_type": "code",
   "execution_count": 135,
   "id": "34531d54-5b8f-421f-bab4-26f8fbb03f86",
   "metadata": {},
   "outputs": [
    {
     "data": {
      "text/plain": [
       "True"
      ]
     },
     "execution_count": 135,
     "metadata": {},
     "output_type": "execute_result"
    }
   ],
   "source": [
    "p4 > p1"
   ]
  },
  {
   "cell_type": "code",
   "execution_count": 136,
   "id": "f837a89c-3d28-4d4e-9fb2-0f1734bc5da8",
   "metadata": {},
   "outputs": [
    {
     "data": {
      "text/plain": [
       "False"
      ]
     },
     "execution_count": 136,
     "metadata": {},
     "output_type": "execute_result"
    }
   ],
   "source": [
    "p2 <= p3"
   ]
  },
  {
   "cell_type": "code",
   "execution_count": null,
   "id": "827d1958-f6a9-444e-9ce5-8907a8153136",
   "metadata": {},
   "outputs": [],
   "source": []
  }
 ],
 "metadata": {
  "kernelspec": {
   "display_name": "Python 3 (ipykernel)",
   "language": "python",
   "name": "python3"
  },
  "language_info": {
   "codemirror_mode": {
    "name": "ipython",
    "version": 3
   },
   "file_extension": ".py",
   "mimetype": "text/x-python",
   "name": "python",
   "nbconvert_exporter": "python",
   "pygments_lexer": "ipython3",
   "version": "3.11.5"
  }
 },
 "nbformat": 4,
 "nbformat_minor": 5
}
