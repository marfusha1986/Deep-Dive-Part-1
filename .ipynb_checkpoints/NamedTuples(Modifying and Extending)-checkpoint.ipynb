{
 "cells": [
  {
   "cell_type": "code",
   "execution_count": null,
   "id": "6c04637b-3f4b-4b1c-a878-71cf798091a4",
   "metadata": {},
   "outputs": [],
   "source": []
  },
  {
   "cell_type": "code",
   "execution_count": 10,
   "id": "a1ab264e-bb9e-495c-a0ba-4b5399bdca1d",
   "metadata": {},
   "outputs": [],
   "source": [
    "from collections import namedtuple"
   ]
  },
  {
   "cell_type": "code",
   "execution_count": 11,
   "id": "7dab6bbb-60fd-471b-b4c8-e74898fb4c07",
   "metadata": {},
   "outputs": [],
   "source": [
    "Point2D = namedtuple('Point2D','x y')"
   ]
  },
  {
   "cell_type": "code",
   "execution_count": 12,
   "id": "1d00dd30-a8a5-4505-95ac-82df9c24f3c0",
   "metadata": {},
   "outputs": [],
   "source": [
    "pt = Point2D(10,20)"
   ]
  },
  {
   "cell_type": "code",
   "execution_count": 13,
   "id": "aeae67ec-7920-4d6c-be01-72dd902edd83",
   "metadata": {},
   "outputs": [
    {
     "data": {
      "text/plain": [
       "Point2D(x=10, y=20)"
      ]
     },
     "execution_count": 13,
     "metadata": {},
     "output_type": "execute_result"
    }
   ],
   "source": [
    "pt"
   ]
  },
  {
   "cell_type": "code",
   "execution_count": 14,
   "id": "ec12568f-1ca0-44dd-8a78-63509f85cb8c",
   "metadata": {},
   "outputs": [
    {
     "data": {
      "text/plain": [
       "10"
      ]
     },
     "execution_count": 14,
     "metadata": {},
     "output_type": "execute_result"
    }
   ],
   "source": [
    "pt[0]"
   ]
  },
  {
   "cell_type": "code",
   "execution_count": 15,
   "id": "e67c3c1c-1f9b-4bc2-95d1-04275b711a16",
   "metadata": {},
   "outputs": [
    {
     "data": {
      "text/plain": [
       "10"
      ]
     },
     "execution_count": 15,
     "metadata": {},
     "output_type": "execute_result"
    }
   ],
   "source": [
    "pt.x"
   ]
  },
  {
   "cell_type": "code",
   "execution_count": 16,
   "id": "add01a68-fc2a-44b2-9aa9-8a7d34ea1e3b",
   "metadata": {},
   "outputs": [
    {
     "data": {
      "text/plain": [
       "2109257683712"
      ]
     },
     "execution_count": 16,
     "metadata": {},
     "output_type": "execute_result"
    }
   ],
   "source": [
    "id(pt)"
   ]
  },
  {
   "cell_type": "code",
   "execution_count": 17,
   "id": "f4397267-10a0-4165-bfc3-48adaf9e8650",
   "metadata": {},
   "outputs": [],
   "source": [
    "pt = Point2D(100,pt.y)"
   ]
  },
  {
   "cell_type": "code",
   "execution_count": 18,
   "id": "7e0749b5-8dff-47c6-936f-bd437ba29dea",
   "metadata": {},
   "outputs": [
    {
     "data": {
      "text/plain": [
       "2109258148544"
      ]
     },
     "execution_count": 18,
     "metadata": {},
     "output_type": "execute_result"
    }
   ],
   "source": [
    "id(pt)"
   ]
  },
  {
   "cell_type": "code",
   "execution_count": 19,
   "id": "2f2a6ba9-98bd-46b2-908c-42576ec8d46c",
   "metadata": {},
   "outputs": [],
   "source": [
    "s = 'python'"
   ]
  },
  {
   "cell_type": "code",
   "execution_count": 20,
   "id": "d71d6978-eb3d-4a40-affb-c645f0d2fe84",
   "metadata": {},
   "outputs": [
    {
     "data": {
      "text/plain": [
       "2109210571504"
      ]
     },
     "execution_count": 20,
     "metadata": {},
     "output_type": "execute_result"
    }
   ],
   "source": [
    "id(s)"
   ]
  },
  {
   "cell_type": "code",
   "execution_count": 21,
   "id": "e02a1389-7979-403b-b8eb-10eee83c12bb",
   "metadata": {},
   "outputs": [],
   "source": [
    "s+='rocks'"
   ]
  },
  {
   "cell_type": "code",
   "execution_count": 22,
   "id": "33f9962d-9419-470c-9ee5-9c65760f3062",
   "metadata": {},
   "outputs": [
    {
     "data": {
      "text/plain": [
       "'pythonrocks'"
      ]
     },
     "execution_count": 22,
     "metadata": {},
     "output_type": "execute_result"
    }
   ],
   "source": [
    "s"
   ]
  },
  {
   "cell_type": "code",
   "execution_count": 23,
   "id": "32df03a0-0bf7-43b1-877e-707bb8d3e38d",
   "metadata": {},
   "outputs": [
    {
     "data": {
      "text/plain": [
       "2109258191472"
      ]
     },
     "execution_count": 23,
     "metadata": {},
     "output_type": "execute_result"
    }
   ],
   "source": [
    "id(s)"
   ]
  },
  {
   "cell_type": "code",
   "execution_count": 24,
   "id": "d2301d3e-0471-43ef-a457-5bc902b3915a",
   "metadata": {},
   "outputs": [],
   "source": [
    "Stock = namedtuple('Stock','symbol year month day open high low close')"
   ]
  },
  {
   "cell_type": "code",
   "execution_count": 25,
   "id": "f4f56cfe-562f-49f1-b70a-3c9fcee2e725",
   "metadata": {},
   "outputs": [],
   "source": [
    "djia = Stock('DJIA',2018,1,25,26_313,26_453,26_268,26_393)"
   ]
  },
  {
   "cell_type": "code",
   "execution_count": 26,
   "id": "679c5083-dc13-41bd-8811-5f5021923cd2",
   "metadata": {},
   "outputs": [
    {
     "data": {
      "text/plain": [
       "Stock(symbol='DJIA', year=2018, month=1, day=25, open=26313, high=26453, low=26268, close=26393)"
      ]
     },
     "execution_count": 26,
     "metadata": {},
     "output_type": "execute_result"
    }
   ],
   "source": [
    "djia"
   ]
  },
  {
   "cell_type": "code",
   "execution_count": 27,
   "id": "c55250af-5632-40fa-a4a8-60e2b6039f7c",
   "metadata": {},
   "outputs": [],
   "source": [
    "djia = Stock(djia.symbol,djia.year,djia.month,djia.day,djia.open,djia.high,djia.low,djia.close)"
   ]
  },
  {
   "cell_type": "code",
   "execution_count": 28,
   "id": "9577bde1-5d7a-47c6-9e74-66ad05b58376",
   "metadata": {},
   "outputs": [
    {
     "data": {
      "text/plain": [
       "Stock(symbol='DJIA', year=2018, month=1, day=25, open=26313, high=26453, low=26268, close=26393)"
      ]
     },
     "execution_count": 28,
     "metadata": {},
     "output_type": "execute_result"
    }
   ],
   "source": [
    "djia"
   ]
  },
  {
   "cell_type": "code",
   "execution_count": 29,
   "id": "d2cf1e4f-63ce-4f28-9d04-a8b9fbc8cc08",
   "metadata": {},
   "outputs": [],
   "source": [
    "*values,close = djia"
   ]
  },
  {
   "cell_type": "code",
   "execution_count": 31,
   "id": "fe76e1f0-ff5f-4ca4-8482-5f10acb32a77",
   "metadata": {},
   "outputs": [
    {
     "data": {
      "text/plain": [
       "['DJIA', 2018, 1, 25, 26313, 26453, 26268]"
      ]
     },
     "execution_count": 31,
     "metadata": {},
     "output_type": "execute_result"
    }
   ],
   "source": [
    "values"
   ]
  },
  {
   "cell_type": "code",
   "execution_count": 32,
   "id": "68f2d16f-a7b9-4683-8980-7e381df15852",
   "metadata": {},
   "outputs": [
    {
     "data": {
      "text/plain": [
       "26393"
      ]
     },
     "execution_count": 32,
     "metadata": {},
     "output_type": "execute_result"
    }
   ],
   "source": [
    "close"
   ]
  },
  {
   "cell_type": "code",
   "execution_count": 33,
   "id": "7e249c88-f012-43c6-9d91-5e56eb6363f6",
   "metadata": {},
   "outputs": [],
   "source": [
    "values.append(26363)"
   ]
  },
  {
   "cell_type": "code",
   "execution_count": 34,
   "id": "38d33183-162d-4e94-9167-a16e8cdd0d8f",
   "metadata": {},
   "outputs": [
    {
     "data": {
      "text/plain": [
       "['DJIA', 2018, 1, 25, 26313, 26453, 26268, 26363]"
      ]
     },
     "execution_count": 34,
     "metadata": {},
     "output_type": "execute_result"
    }
   ],
   "source": [
    "values"
   ]
  },
  {
   "cell_type": "code",
   "execution_count": 35,
   "id": "65fd7a63-080d-486d-8188-dba7032e9f33",
   "metadata": {},
   "outputs": [],
   "source": [
    "djia = Stock(*values)"
   ]
  },
  {
   "cell_type": "code",
   "execution_count": 36,
   "id": "b41d247e-6216-44c9-8fbd-220cb2879d81",
   "metadata": {},
   "outputs": [
    {
     "data": {
      "text/plain": [
       "Stock(symbol='DJIA', year=2018, month=1, day=25, open=26313, high=26453, low=26268, close=26363)"
      ]
     },
     "execution_count": 36,
     "metadata": {},
     "output_type": "execute_result"
    }
   ],
   "source": [
    "djia"
   ]
  },
  {
   "cell_type": "code",
   "execution_count": 37,
   "id": "a20131ea-8a83-4aff-ac93-9c7839c3a2d5",
   "metadata": {},
   "outputs": [],
   "source": [
    "a = [1,2,3]"
   ]
  },
  {
   "cell_type": "code",
   "execution_count": 40,
   "id": "38de7807-9b6b-4242-9a79-8958b6c7e7cf",
   "metadata": {},
   "outputs": [
    {
     "data": {
      "text/plain": [
       "2109257340544"
      ]
     },
     "execution_count": 40,
     "metadata": {},
     "output_type": "execute_result"
    }
   ],
   "source": [
    "id(a)"
   ]
  },
  {
   "cell_type": "code",
   "execution_count": 41,
   "id": "acb70257-690a-4b57-a6c4-c0fe6490121d",
   "metadata": {},
   "outputs": [],
   "source": [
    "a = a + [4,5]"
   ]
  },
  {
   "cell_type": "code",
   "execution_count": 42,
   "id": "3f34cb32-43c3-4130-9b9c-42bc70f2edaf",
   "metadata": {},
   "outputs": [
    {
     "data": {
      "text/plain": [
       "[1, 2, 3, 4, 5, 4, 5]"
      ]
     },
     "execution_count": 42,
     "metadata": {},
     "output_type": "execute_result"
    }
   ],
   "source": [
    "a"
   ]
  },
  {
   "cell_type": "code",
   "execution_count": 44,
   "id": "4cc3fc5f-1aac-444b-9568-645016745a45",
   "metadata": {},
   "outputs": [
    {
     "data": {
      "text/plain": [
       "2109258193472"
      ]
     },
     "execution_count": 44,
     "metadata": {},
     "output_type": "execute_result"
    }
   ],
   "source": [
    "id(a)"
   ]
  },
  {
   "cell_type": "code",
   "execution_count": 45,
   "id": "260c7c6b-79e6-47a5-b378-7f08686f81ce",
   "metadata": {},
   "outputs": [],
   "source": [
    "a.append(8)"
   ]
  },
  {
   "cell_type": "code",
   "execution_count": 46,
   "id": "f47f0d79-f54d-44a0-a119-79ff9a56c42c",
   "metadata": {},
   "outputs": [
    {
     "data": {
      "text/plain": [
       "[1, 2, 3, 4, 5, 4, 5, 8]"
      ]
     },
     "execution_count": 46,
     "metadata": {},
     "output_type": "execute_result"
    }
   ],
   "source": [
    "a"
   ]
  },
  {
   "cell_type": "code",
   "execution_count": 47,
   "id": "6115b379-d7b4-4380-a5cc-66f70b017c01",
   "metadata": {},
   "outputs": [
    {
     "data": {
      "text/plain": [
       "2109258193472"
      ]
     },
     "execution_count": 47,
     "metadata": {},
     "output_type": "execute_result"
    }
   ],
   "source": [
    "id(a)"
   ]
  },
  {
   "cell_type": "code",
   "execution_count": 48,
   "id": "9f26af63-facd-4a70-b4bd-908a00856975",
   "metadata": {},
   "outputs": [],
   "source": [
    "values = djia[:7]"
   ]
  },
  {
   "cell_type": "code",
   "execution_count": 49,
   "id": "032f1d8b-0eae-4b1a-9e46-05c7f8799ed4",
   "metadata": {},
   "outputs": [
    {
     "data": {
      "text/plain": [
       "tuple"
      ]
     },
     "execution_count": 49,
     "metadata": {},
     "output_type": "execute_result"
    }
   ],
   "source": [
    "type(values)"
   ]
  },
  {
   "cell_type": "code",
   "execution_count": 50,
   "id": "722d1b37-57f8-4b6b-a9f9-6fb43944018f",
   "metadata": {},
   "outputs": [
    {
     "data": {
      "text/plain": [
       "('DJIA', 2018, 1, 25, 26313, 26453, 26268)"
      ]
     },
     "execution_count": 50,
     "metadata": {},
     "output_type": "execute_result"
    }
   ],
   "source": [
    "values"
   ]
  },
  {
   "cell_type": "code",
   "execution_count": 51,
   "id": "86952007-37d7-4cbc-8e88-f85a7801eb0a",
   "metadata": {},
   "outputs": [
    {
     "data": {
      "text/plain": [
       "('DJIA', 2018, 1, 25, 26313, 26453, 26268, 100)"
      ]
     },
     "execution_count": 51,
     "metadata": {},
     "output_type": "execute_result"
    }
   ],
   "source": [
    "values + (100,)"
   ]
  },
  {
   "cell_type": "code",
   "execution_count": 52,
   "id": "e55bd185-0d40-4774-8e73-405a9963b85b",
   "metadata": {},
   "outputs": [],
   "source": [
    "djia = Stock(*(values + (100,)))"
   ]
  },
  {
   "cell_type": "code",
   "execution_count": 53,
   "id": "2bb1ea99-ea2c-4c87-9cc9-9a2c70d30222",
   "metadata": {},
   "outputs": [
    {
     "data": {
      "text/plain": [
       "Stock(symbol='DJIA', year=2018, month=1, day=25, open=26313, high=26453, low=26268, close=100)"
      ]
     },
     "execution_count": 53,
     "metadata": {},
     "output_type": "execute_result"
    }
   ],
   "source": [
    "djia"
   ]
  },
  {
   "cell_type": "code",
   "execution_count": 54,
   "id": "52f29ea5-1010-4f70-b6ac-a111b92b0349",
   "metadata": {},
   "outputs": [],
   "source": [
    "djia = Stock(*values ,1000)"
   ]
  },
  {
   "cell_type": "code",
   "execution_count": 55,
   "id": "5bca30a4-ffdb-4dc8-9eac-c253a50ccab8",
   "metadata": {},
   "outputs": [
    {
     "data": {
      "text/plain": [
       "Stock(symbol='DJIA', year=2018, month=1, day=25, open=26313, high=26453, low=26268, close=1000)"
      ]
     },
     "execution_count": 55,
     "metadata": {},
     "output_type": "execute_result"
    }
   ],
   "source": [
    "djia"
   ]
  },
  {
   "cell_type": "code",
   "execution_count": 56,
   "id": "cc724ad0-3987-4dcc-a72f-d829de4ec9f6",
   "metadata": {},
   "outputs": [
    {
     "data": {
      "text/plain": [
       "2109259468576"
      ]
     },
     "execution_count": 56,
     "metadata": {},
     "output_type": "execute_result"
    }
   ],
   "source": [
    "id(djia)"
   ]
  },
  {
   "cell_type": "code",
   "execution_count": 60,
   "id": "9743018c-1acb-43cc-9791-106757f08416",
   "metadata": {},
   "outputs": [
    {
     "data": {
      "text/plain": [
       "Stock(symbol='DJIA', year=2019, month=1, day=25, open=10000, high=26453, low=26268, close=1000)"
      ]
     },
     "execution_count": 60,
     "metadata": {},
     "output_type": "execute_result"
    }
   ],
   "source": [
    "djia._replace(year=2019, open=10000)"
   ]
  },
  {
   "cell_type": "code",
   "execution_count": 61,
   "id": "d3d916be-59bb-4284-a34e-7985c04757e6",
   "metadata": {},
   "outputs": [
    {
     "data": {
      "text/plain": [
       "Stock(symbol='DJIA', year=2018, month=1, day=25, open=26313, high=26453, low=26268, close=1000)"
      ]
     },
     "execution_count": 61,
     "metadata": {},
     "output_type": "execute_result"
    }
   ],
   "source": [
    "djia"
   ]
  },
  {
   "cell_type": "code",
   "execution_count": 62,
   "id": "90fcc904-c332-41f3-ae49-3a2bba255dda",
   "metadata": {},
   "outputs": [
    {
     "data": {
      "text/plain": [
       "2109259468576"
      ]
     },
     "execution_count": 62,
     "metadata": {},
     "output_type": "execute_result"
    }
   ],
   "source": [
    "id(djia)"
   ]
  },
  {
   "cell_type": "code",
   "execution_count": 64,
   "id": "ba63afca-61b0-4965-95e8-392d7cd85ce7",
   "metadata": {},
   "outputs": [],
   "source": [
    "djia = Stock._make(values + (100,))"
   ]
  },
  {
   "cell_type": "code",
   "execution_count": 65,
   "id": "755a8e5d-96b3-4300-90f7-601f091823eb",
   "metadata": {},
   "outputs": [
    {
     "data": {
      "text/plain": [
       "Stock(symbol='DJIA', year=2018, month=1, day=25, open=26313, high=26453, low=26268, close=100)"
      ]
     },
     "execution_count": 65,
     "metadata": {},
     "output_type": "execute_result"
    }
   ],
   "source": [
    "djia"
   ]
  },
  {
   "cell_type": "code",
   "execution_count": 66,
   "id": "cca87367-9bd2-4946-a548-2c061d6bf7a1",
   "metadata": {},
   "outputs": [],
   "source": [
    "djia = djia._replace(close=5)"
   ]
  },
  {
   "cell_type": "code",
   "execution_count": 67,
   "id": "b434cd8b-b6e9-4f8b-85ef-4165a5531577",
   "metadata": {},
   "outputs": [
    {
     "data": {
      "text/plain": [
       "Stock(symbol='DJIA', year=2018, month=1, day=25, open=26313, high=26453, low=26268, close=5)"
      ]
     },
     "execution_count": 67,
     "metadata": {},
     "output_type": "execute_result"
    }
   ],
   "source": [
    "djia"
   ]
  },
  {
   "cell_type": "code",
   "execution_count": 68,
   "id": "d0947a6a-149e-4f00-bce4-089fd8f5f36f",
   "metadata": {},
   "outputs": [
    {
     "data": {
      "text/plain": [
       "__main__.Point2D"
      ]
     },
     "execution_count": 68,
     "metadata": {},
     "output_type": "execute_result"
    }
   ],
   "source": [
    "Point2D"
   ]
  },
  {
   "cell_type": "code",
   "execution_count": 69,
   "id": "b228fc3a-f409-48f8-b95f-7215429c6923",
   "metadata": {},
   "outputs": [
    {
     "data": {
      "text/plain": [
       "('x', 'y')"
      ]
     },
     "execution_count": 69,
     "metadata": {},
     "output_type": "execute_result"
    }
   ],
   "source": [
    "Point2D._fields"
   ]
  },
  {
   "cell_type": "code",
   "execution_count": 71,
   "id": "b81ce492-e8c9-4b57-a7a5-4d0e4764ebc9",
   "metadata": {},
   "outputs": [
    {
     "data": {
      "text/plain": [
       "('x', 'y', 'z')"
      ]
     },
     "execution_count": 71,
     "metadata": {},
     "output_type": "execute_result"
    }
   ],
   "source": [
    "Point2D._fields + ('z',)"
   ]
  },
  {
   "cell_type": "code",
   "execution_count": 73,
   "id": "44a96dad-2ed7-4b82-b067-cdd09984283b",
   "metadata": {},
   "outputs": [],
   "source": [
    "Point3D = namedtuple('Point3D', Point2D._fields + ('z',))"
   ]
  },
  {
   "cell_type": "code",
   "execution_count": 74,
   "id": "4c5b7693-045f-4655-b18d-da93a6712b7c",
   "metadata": {},
   "outputs": [
    {
     "data": {
      "text/plain": [
       "('x', 'y', 'z')"
      ]
     },
     "execution_count": 74,
     "metadata": {},
     "output_type": "execute_result"
    }
   ],
   "source": [
    "Point3D._fields"
   ]
  },
  {
   "cell_type": "code",
   "execution_count": 75,
   "id": "80d79c2a-3358-4b0e-9c13-59c890287fa4",
   "metadata": {},
   "outputs": [
    {
     "data": {
      "text/plain": [
       "('symbol', 'year', 'month', 'day', 'open', 'high', 'low', 'close')"
      ]
     },
     "execution_count": 75,
     "metadata": {},
     "output_type": "execute_result"
    }
   ],
   "source": [
    "Stock._fields"
   ]
  },
  {
   "cell_type": "code",
   "execution_count": 76,
   "id": "8d869035-712b-468d-add3-1c562c21de95",
   "metadata": {},
   "outputs": [],
   "source": [
    "StockExt = namedtuple('StockExt',Stock._fields + ('previous_close',))"
   ]
  },
  {
   "cell_type": "code",
   "execution_count": 77,
   "id": "784a979c-3064-4c26-a06a-d615a9a69c93",
   "metadata": {},
   "outputs": [
    {
     "data": {
      "text/plain": [
       "('symbol',\n",
       " 'year',\n",
       " 'month',\n",
       " 'day',\n",
       " 'open',\n",
       " 'high',\n",
       " 'low',\n",
       " 'close',\n",
       " 'previous_close')"
      ]
     },
     "execution_count": 77,
     "metadata": {},
     "output_type": "execute_result"
    }
   ],
   "source": [
    "StockExt._fields"
   ]
  },
  {
   "cell_type": "code",
   "execution_count": 78,
   "id": "3ce28211-a07c-4b17-bf69-bc9cb4bd9bdf",
   "metadata": {},
   "outputs": [
    {
     "data": {
      "text/plain": [
       "Point2D(x=100, y=20)"
      ]
     },
     "execution_count": 78,
     "metadata": {},
     "output_type": "execute_result"
    }
   ],
   "source": [
    "pt"
   ]
  },
  {
   "cell_type": "code",
   "execution_count": 79,
   "id": "d987ba25-e153-469a-b273-a0da28adb2df",
   "metadata": {},
   "outputs": [],
   "source": [
    "pt3D = Point3D(*pt,100)"
   ]
  },
  {
   "cell_type": "code",
   "execution_count": 80,
   "id": "5be5a763-8c28-455b-82ca-d53e1261ca18",
   "metadata": {},
   "outputs": [
    {
     "data": {
      "text/plain": [
       "Point3D(x=100, y=20, z=100)"
      ]
     },
     "execution_count": 80,
     "metadata": {},
     "output_type": "execute_result"
    }
   ],
   "source": [
    "pt3D"
   ]
  },
  {
   "cell_type": "code",
   "execution_count": 81,
   "id": "ec602358-8f74-4ec7-a78e-b0ff5f9bc9c3",
   "metadata": {},
   "outputs": [
    {
     "data": {
      "text/plain": [
       "Stock(symbol='DJIA', year=2018, month=1, day=25, open=26313, high=26453, low=26268, close=5)"
      ]
     },
     "execution_count": 81,
     "metadata": {},
     "output_type": "execute_result"
    }
   ],
   "source": [
    "djia"
   ]
  },
  {
   "cell_type": "code",
   "execution_count": 82,
   "id": "9c0aab54-2c3e-4177-9c8f-139403c8c16e",
   "metadata": {},
   "outputs": [],
   "source": [
    "djia_ext = StockExt(*djia,100000)"
   ]
  },
  {
   "cell_type": "code",
   "execution_count": 83,
   "id": "d30bb1a7-81b7-4f3d-9898-8ffb1cf85bb6",
   "metadata": {},
   "outputs": [
    {
     "data": {
      "text/plain": [
       "StockExt(symbol='DJIA', year=2018, month=1, day=25, open=26313, high=26453, low=26268, close=5, previous_close=100000)"
      ]
     },
     "execution_count": 83,
     "metadata": {},
     "output_type": "execute_result"
    }
   ],
   "source": [
    "djia_ext"
   ]
  },
  {
   "cell_type": "code",
   "execution_count": null,
   "id": "dd4aa724-be27-4a44-903a-08ba983c13a7",
   "metadata": {},
   "outputs": [],
   "source": []
  }
 ],
 "metadata": {
  "kernelspec": {
   "display_name": "Python 3 (ipykernel)",
   "language": "python",
   "name": "python3"
  },
  "language_info": {
   "codemirror_mode": {
    "name": "ipython",
    "version": 3
   },
   "file_extension": ".py",
   "mimetype": "text/x-python",
   "name": "python",
   "nbconvert_exporter": "python",
   "pygments_lexer": "ipython3",
   "version": "3.11.5"
  },
  "widgets": {
   "application/vnd.jupyter.widget-state+json": {
    "state": {},
    "version_major": 2,
    "version_minor": 0
   }
  }
 },
 "nbformat": 4,
 "nbformat_minor": 5
}
