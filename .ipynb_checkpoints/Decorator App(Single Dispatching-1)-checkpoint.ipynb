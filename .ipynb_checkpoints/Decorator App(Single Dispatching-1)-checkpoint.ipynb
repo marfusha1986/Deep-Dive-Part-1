{
 "cells": [
  {
   "cell_type": "code",
   "execution_count": 1,
   "id": "84a74054-8655-4a79-8743-f170b41fac0c",
   "metadata": {},
   "outputs": [],
   "source": [
    " from html import escape"
   ]
  },
  {
   "cell_type": "code",
   "execution_count": 2,
   "id": "2edcac85-f18b-4772-99df-e58519b2b5d5",
   "metadata": {},
   "outputs": [],
   "source": [
    "def html_escape(arg):\n",
    "    return escape(str(arg))\n",
    "\n",
    "def html_int(a):\n",
    "    return '{0}(<i>{1}</i>)'.format(a,str(hex(a)))\n",
    "\n",
    "def html_real(a):\n",
    "    return '{0.2f}'.format(round(a,2))\n",
    "\n",
    "def html_str(s):\n",
    "    return html_escape(s).replace('\\n','<br/>\\n')\n",
    "\n",
    "def html_list(l):\n",
    "    items = ('<li>{0}</li>'.format(html_escape(item))\n",
    "           for item in l\n",
    "           )\n",
    "    return '<ul>\\n' + '\\n'.join(items) + '\\n</ul>'\n",
    "\n",
    "def html_dict(d):\n",
    "    items = ('li>{0} = {1}</li>'.format(k,v)\n",
    "             for k,v in d.items()\n",
    "            )\n",
    "    return '<ul>\\n' + '\\n'.join(items) + '\\n</ul>'"
   ]
  },
  {
   "cell_type": "code",
   "execution_count": 3,
   "id": "154558c7-107a-48e5-95fa-745a8f38e1fb",
   "metadata": {},
   "outputs": [
    {
     "name": "stdout",
     "output_type": "stream",
     "text": [
      "<br/>\n",
      "This is <br/>\n",
      "a multi line string<br/>\n",
      "with special characters: 10 &lt; 100<br/>\n",
      "\n"
     ]
    }
   ],
   "source": [
    " print(html_str(\"\"\"\n",
    " This is \n",
    " a multi line string\n",
    " with special characters: 10 < 100\n",
    " \"\"\"))"
   ]
  },
  {
   "cell_type": "code",
   "execution_count": 4,
   "id": "30bdad4d-e89f-4cb6-a45d-790c0fa83673",
   "metadata": {},
   "outputs": [
    {
     "name": "stdout",
     "output_type": "stream",
     "text": [
      "255(<i>0xff</i>)\n"
     ]
    }
   ],
   "source": [
    "print(html_int(255))"
   ]
  },
  {
   "cell_type": "code",
   "execution_count": 5,
   "id": "34688a27-4092-4cf1-9a7f-ef675434885c",
   "metadata": {},
   "outputs": [
    {
     "name": "stdout",
     "output_type": "stream",
     "text": [
      "(3+10j)\n"
     ]
    }
   ],
   "source": [
    "print(html_escape(3+10j))"
   ]
  },
  {
   "cell_type": "code",
   "execution_count": 6,
   "id": "7bf9a3e0-be5c-41d5-9b55-c1b337a6adf7",
   "metadata": {},
   "outputs": [],
   "source": [
    "from decimal import Decimal"
   ]
  },
  {
   "cell_type": "code",
   "execution_count": 7,
   "id": "330171f3-9095-47e9-99b9-53e409618bc5",
   "metadata": {},
   "outputs": [],
   "source": [
    "def htmlize(arg):\n",
    "    if isinstance(arg,int):\n",
    "        return html_int(arg)\n",
    "    elif isinstance(arg,float) or isinstance(arg,Decimal):\n",
    "        return html_real(arg)\n",
    "    elif isinstance(arg,str):\n",
    "        return html_str(arg)\n",
    "    elif isinstance(arg,list) or isinstance(arg,tuple):\n",
    "        return html_list(arg)\n",
    "    elif isinstance(arg,dict):\n",
    "        return html_dict(arg)\n",
    "    else:\n",
    "        return html_escape(arg)"
   ]
  },
  {
   "cell_type": "code",
   "execution_count": 8,
   "id": "138fb42c-486b-4719-a614-40c45e5cf6c9",
   "metadata": {},
   "outputs": [
    {
     "data": {
      "text/plain": [
       "'100(<i>0x64</i>)'"
      ]
     },
     "execution_count": 8,
     "metadata": {},
     "output_type": "execute_result"
    }
   ],
   "source": [
    "htmlize(100)"
   ]
  },
  {
   "cell_type": "code",
   "execution_count": 10,
   "id": "72bff531-ef2f-44b3-b85c-35ab0476fcdf",
   "metadata": {},
   "outputs": [
    {
     "data": {
      "text/plain": [
       "'This is <br/>\\nPython Programming!'"
      ]
     },
     "execution_count": 10,
     "metadata": {},
     "output_type": "execute_result"
    }
   ],
   "source": [
    "htmlize(\"\"\"This is \n",
    "Python Programming!\"\"\")"
   ]
  },
  {
   "cell_type": "code",
   "execution_count": 12,
   "id": "1b006fb2-9d64-444b-93e1-fdf60a2b359b",
   "metadata": {},
   "outputs": [
    {
     "name": "stdout",
     "output_type": "stream",
     "text": [
      "<ul>\n",
      "<li>1</li>\n",
      "<li>5</li>\n",
      "<li>6</li>\n",
      "</ul>\n"
     ]
    }
   ],
   "source": [
    "print(htmlize([1,5,6]))"
   ]
  },
  {
   "cell_type": "code",
   "execution_count": 14,
   "id": "b0caec0d-bf63-4b28-8ebe-b0d0f31015ca",
   "metadata": {},
   "outputs": [
    {
     "name": "stdout",
     "output_type": "stream",
     "text": [
      "<ul>\n",
      "<li>Python\n",
      "rocks! 0 &lt; 1</li>\n",
      "<li>(10, 20, 30)</li>\n",
      "<li>100</li>\n",
      "</ul>\n"
     ]
    }
   ],
   "source": [
    "print(htmlize([\"\"\"Python\n",
    "rocks! 0 < 1\"\"\",(10,20,30),100]))"
   ]
  },
  {
   "cell_type": "markdown",
   "id": "acabcdb0-6515-40c6-a053-163500cf3946",
   "metadata": {
    "jp-MarkdownHeadingCollapsed": true
   },
   "source": [
    "### We restarted Kernel again and continue "
   ]
  },
  {
   "cell_type": "code",
   "execution_count": 2,
   "id": "a7ed023c-0763-4243-a03e-e907016f39e6",
   "metadata": {},
   "outputs": [],
   "source": [
    "from html import escape\n",
    "from decimal import Decimal"
   ]
  },
  {
   "cell_type": "code",
   "execution_count": 6,
   "id": "dc5ca5a5-5f04-490e-af12-74308e5c30d8",
   "metadata": {},
   "outputs": [],
   "source": [
    "def htmlize(arg):\n",
    "    if isinstance(arg,int):\n",
    "        return html_int(arg)\n",
    "    elif isinstance(arg,float) or isinstance(arg,Decimal):\n",
    "        return html_real(arg)\n",
    "    elif isinstance(arg,str):\n",
    "        return html_str(arg)\n",
    "    elif isinstance(arg,list) or isinstance(arg,tuple):\n",
    "        return html_list(arg)\n",
    "    elif isinstance(arg,dict):\n",
    "        return html_dict(arg)\n",
    "    elif isinstance(arg,set):\n",
    "        return html_set(arg)\n",
    "    else:\n",
    "        return html_escape(arg)"
   ]
  },
  {
   "cell_type": "code",
   "execution_count": 7,
   "id": "d62bc45f-c798-455c-b24b-b64847eec307",
   "metadata": {},
   "outputs": [],
   "source": [
    "def html_escape(arg):\n",
    "    return escape(str(arg))\n",
    "\n",
    "def html_int(a):\n",
    "    return '{0}(<i>{1}</i>)'.format(a,str(hex(a)))\n",
    "\n",
    "def html_real(a):\n",
    "    return '{0.2f}'.format(round(a,2))\n",
    "\n",
    "def html_str(s):\n",
    "    return html_escape(s).replace('\\n','<br/>\\n')\n",
    "\n",
    "def html_list(l):\n",
    "    items = ('<li>{0}</li>'.format(htmlize(item))\n",
    "           for item in l\n",
    "           )\n",
    "    return '<ul>\\n' + '\\n'.join(items) + '\\n</ul>'\n",
    "\n",
    "def html_dict(d):\n",
    "    items = ('li>{0} = {1}</li>'.format(html_escape(k),htmlize(v))\n",
    "             for k,v in d.items()\n",
    "            )\n",
    "    return '<ul>\\n' + '\\n'.join(items) + '\\n</ul>'\n",
    "\n",
    "def html_set(arg):\n",
    "    return html_list(arg)"
   ]
  },
  {
   "cell_type": "code",
   "execution_count": 8,
   "id": "81d38a33-0761-4fb5-a0b7-6e5880677e5f",
   "metadata": {},
   "outputs": [
    {
     "name": "stdout",
     "output_type": "stream",
     "text": [
      "<ul>\n",
      "<li>Python<br/>\n",
      "rocks! 0 &lt; 1</li>\n",
      "<li><ul>\n",
      "<li>10(<i>0xa</i>)</li>\n",
      "<li>20(<i>0x14</i>)</li>\n",
      "<li>30(<i>0x1e</i>)</li>\n",
      "</ul></li>\n",
      "<li>100(<i>0x64</i>)</li>\n",
      "</ul>\n"
     ]
    }
   ],
   "source": [
    "print(htmlize([\"\"\"Python\n",
    "rocks! 0 < 1\"\"\",(10,20,30),100]))"
   ]
  },
  {
   "cell_type": "code",
   "execution_count": 9,
   "id": "a5195067-7451-402f-aa50-e2b8149ec735",
   "metadata": {},
   "outputs": [
    {
     "data": {
      "text/plain": [
       "'<ul>\\n<li>1(<i>0x1</i>)</li>\\n<li>2(<i>0x2</i>)</li>\\n<li>3(<i>0x3</i>)</li>\\n</ul>'"
      ]
     },
     "execution_count": 9,
     "metadata": {},
     "output_type": "execute_result"
    }
   ],
   "source": [
    "htmlize({1,2,3})"
   ]
  },
  {
   "cell_type": "code",
   "execution_count": 14,
   "id": "92fa22d4-74f2-44a7-8117-139c88338926",
   "metadata": {},
   "outputs": [],
   "source": [
    "def htmlize(arg):\n",
    "    registry = {\n",
    "        object: html_escape,\n",
    "        int: html_int,\n",
    "        float: html_real,\n",
    "        Decimal: html_real,\n",
    "        str: html_str,\n",
    "        list: html_list,\n",
    "        set: html_set,\n",
    "        tuple: html_list,\n",
    "        dict: html_dict\n",
    "    }\n",
    "\n",
    "    fn = registry.get(type(arg),registry[object])\n",
    "\n",
    "    return fn(arg)"
   ]
  },
  {
   "cell_type": "code",
   "execution_count": 15,
   "id": "44f38994-0368-4200-bc0c-43db15c201f9",
   "metadata": {},
   "outputs": [
    {
     "data": {
      "text/plain": [
       "'100(<i>0x64</i>)'"
      ]
     },
     "execution_count": 15,
     "metadata": {},
     "output_type": "execute_result"
    }
   ],
   "source": [
    "htmlize(100)"
   ]
  },
  {
   "cell_type": "code",
   "execution_count": 16,
   "id": "99fb5d7b-b2dc-4aa9-8e9a-ab3360ebb075",
   "metadata": {},
   "outputs": [
    {
     "name": "stdout",
     "output_type": "stream",
     "text": [
      "<ul>\n",
      "<li>1(<i>0x1</i>)</li>\n",
      "<li>2(<i>0x2</i>)</li>\n",
      "<li>3(<i>0x3</i>)</li>\n",
      "</ul>\n"
     ]
    }
   ],
   "source": [
    "print(htmlize([1,2,3]))"
   ]
  },
  {
   "cell_type": "markdown",
   "id": "7214abbd-0f3e-49ea-8c1c-8026044c834b",
   "metadata": {},
   "source": [
    "### Decorator App(Dispatching-2)"
   ]
  },
  {
   "cell_type": "code",
   "execution_count": 17,
   "id": "63b65647-6202-46b1-932e-dcf1b1cc5ff7",
   "metadata": {},
   "outputs": [],
   "source": [
    "def singledispatch(fn):\n",
    "    registry = {}\n",
    "\n",
    "    registry[object] = fn\n",
    "    \n",
    "    def inner(arg):\n",
    "        return registry[object](arg)\n",
    "        \n",
    "    return inner"
   ]
  },
  {
   "cell_type": "code",
   "execution_count": 18,
   "id": "57664da9-c24d-4943-8cd5-a1a33e14f4df",
   "metadata": {},
   "outputs": [],
   "source": [
    "@singledispatch\n",
    "def htmlize(a):\n",
    "    return escape(str(a))"
   ]
  },
  {
   "cell_type": "code",
   "execution_count": 19,
   "id": "1440603c-9c5d-4480-a15a-eb67e6486e4a",
   "metadata": {},
   "outputs": [
    {
     "data": {
      "text/plain": [
       "'1&lt;100'"
      ]
     },
     "execution_count": 19,
     "metadata": {},
     "output_type": "execute_result"
    }
   ],
   "source": [
    "htmlize('1<100')"
   ]
  },
  {
   "cell_type": "code",
   "execution_count": 25,
   "id": "55739a8f-d92e-4532-a994-b7e667b0f9bd",
   "metadata": {},
   "outputs": [],
   "source": [
    "def singledispatch(fn):\n",
    "    registry = {}\n",
    "\n",
    "    registry[object] = fn\n",
    "    registry[int] = lambda a: '{0}(<i>{1}</i>)'.format(a,str(hex(a)))\n",
    "    registry[str] = lambda s: escape(s).replace('\\n','<br/>\\n')\n",
    "    \n",
    "    def inner(arg):\n",
    "        return registry.get(type(arg),registry[object])(arg)\n",
    "        \n",
    "    return inner"
   ]
  },
  {
   "cell_type": "code",
   "execution_count": 26,
   "id": "260bfb16-f408-464c-a4b5-6290828c9946",
   "metadata": {},
   "outputs": [],
   "source": [
    "@singledispatch\n",
    "def htmlize(a):\n",
    "    return escape(str(a))"
   ]
  },
  {
   "cell_type": "code",
   "execution_count": 27,
   "id": "1313f6ce-f8b9-4494-a1c8-ff104837543b",
   "metadata": {},
   "outputs": [
    {
     "data": {
      "text/plain": [
       "'1&lt;100'"
      ]
     },
     "execution_count": 27,
     "metadata": {},
     "output_type": "execute_result"
    }
   ],
   "source": [
    "htmlize('1<100')"
   ]
  },
  {
   "cell_type": "code",
   "execution_count": 28,
   "id": "81313b31-eea9-4228-9c52-3d70af36226b",
   "metadata": {},
   "outputs": [
    {
     "data": {
      "text/plain": [
       "'100(<i>0x64</i>)'"
      ]
     },
     "execution_count": 28,
     "metadata": {},
     "output_type": "execute_result"
    }
   ],
   "source": [
    "htmlize(100)"
   ]
  },
  {
   "cell_type": "code",
   "execution_count": 53,
   "id": "8608c4dc-9799-470f-a304-7909dbb53a36",
   "metadata": {},
   "outputs": [],
   "source": [
    "def singledispatch(fn):\n",
    "    registry = {}\n",
    "\n",
    "    registry[object] = fn\n",
    "\n",
    "    def decorated(arg):\n",
    "        return registry.get(type(arg),registry[object])(arg)\n",
    "\n",
    "    def register(type_):\n",
    "        def inner(fn):\n",
    "            registry[type_] = fn\n",
    "            return fn\n",
    "        return inner\n",
    "    def dispatch(type_):\n",
    "        return registry.get(type_,registry[object])\n",
    "        \n",
    "    decorated.register = register\n",
    "    #decorated.registry = registry\n",
    "    decorated.dispatch = dispatch\n",
    "    return decorated"
   ]
  },
  {
   "cell_type": "code",
   "execution_count": 54,
   "id": "a910ddfb-dbd5-4fad-9155-e3eb585af4eb",
   "metadata": {},
   "outputs": [],
   "source": [
    "@singledispatch\n",
    "def htmlize(a):\n",
    "    return escape(str(a))"
   ]
  },
  {
   "cell_type": "code",
   "execution_count": 55,
   "id": "b5b2a780-9991-4290-b4b2-43359a098a1d",
   "metadata": {},
   "outputs": [
    {
     "data": {
      "text/plain": [
       "'1 &lt; 100'"
      ]
     },
     "execution_count": 55,
     "metadata": {},
     "output_type": "execute_result"
    }
   ],
   "source": [
    "htmlize('1 < 100')"
   ]
  },
  {
   "cell_type": "code",
   "execution_count": 56,
   "id": "c108034e-d3b2-4848-8cc2-44f135bb4f74",
   "metadata": {},
   "outputs": [
    {
     "data": {
      "text/plain": [
       "<function __main__.htmlize(a)>"
      ]
     },
     "execution_count": 56,
     "metadata": {},
     "output_type": "execute_result"
    }
   ],
   "source": [
    "htmlize.dispatch(int)"
   ]
  },
  {
   "cell_type": "code",
   "execution_count": 57,
   "id": "48040cfa-4919-4674-971a-1c3bd0480dd3",
   "metadata": {},
   "outputs": [],
   "source": [
    "@htmlize.register(int)\n",
    "def html_int(a):\n",
    "    return '{0}(<i>{1}</i>)'.format(a,str(hex(a)))"
   ]
  },
  {
   "cell_type": "code",
   "execution_count": 58,
   "id": "0f2e29e9-e3b7-4807-9810-25df06d3e7a7",
   "metadata": {},
   "outputs": [
    {
     "data": {
      "text/plain": [
       "'100(<i>0x64</i>)'"
      ]
     },
     "execution_count": 58,
     "metadata": {},
     "output_type": "execute_result"
    }
   ],
   "source": [
    "htmlize(100)"
   ]
  },
  {
   "cell_type": "code",
   "execution_count": 59,
   "id": "04e0bb1f-4f16-4f71-914f-a660d2c080ad",
   "metadata": {},
   "outputs": [
    {
     "data": {
      "text/plain": [
       "<function __main__.html_int(a)>"
      ]
     },
     "execution_count": 59,
     "metadata": {},
     "output_type": "execute_result"
    }
   ],
   "source": [
    "htmlize.dispatch(int)"
   ]
  },
  {
   "cell_type": "code",
   "execution_count": 60,
   "id": "a319a3c6-eb28-4f79-b6ad-bce45b36034b",
   "metadata": {},
   "outputs": [],
   "source": [
    "@htmlize.register(tuple)\n",
    "@htmlize.register(list)\n",
    "def html_sequence(l):\n",
    "    items = ('<li>{0}</li>'.format(html_escape(item))\n",
    "           for item in l\n",
    "           )\n",
    "    return '<ul>\\n' + '\\n'.join(items) + '\\n</ul>'"
   ]
  },
  {
   "cell_type": "code",
   "execution_count": 62,
   "id": "c2c23d1e-b3fc-45b6-abfb-c0e579cdacb5",
   "metadata": {},
   "outputs": [
    {
     "data": {
      "text/plain": [
       "<function __main__.html_sequence(l)>"
      ]
     },
     "execution_count": 62,
     "metadata": {},
     "output_type": "execute_result"
    }
   ],
   "source": [
    "htmlize.dispatch(list)"
   ]
  },
  {
   "cell_type": "code",
   "execution_count": 52,
   "id": "ad183c39-fbe6-41dd-9aad-c1b5cb786dae",
   "metadata": {},
   "outputs": [
    {
     "data": {
      "text/plain": [
       "'<ul>\\n<li>1</li>\\n<li>2</li>\\n<li>3</li>\\n</ul>'"
      ]
     },
     "execution_count": 52,
     "metadata": {},
     "output_type": "execute_result"
    }
   ],
   "source": [
    "htmlize([1,2,3])"
   ]
  },
  {
   "cell_type": "code",
   "execution_count": 71,
   "id": "b5870b5b-7495-47b6-982a-d14c73c3fed6",
   "metadata": {},
   "outputs": [],
   "source": [
    "from numbers import Integral"
   ]
  },
  {
   "cell_type": "code",
   "execution_count": 72,
   "id": "12601dc5-fc18-4b70-a8a3-91662d87d18c",
   "metadata": {},
   "outputs": [],
   "source": [
    "@singledispatch\n",
    "def htmlize(a):\n",
    "    return escape(str(a))"
   ]
  },
  {
   "cell_type": "code",
   "execution_count": 73,
   "id": "6a297ef1-9ab1-45ad-85cf-291a2d79f4b2",
   "metadata": {},
   "outputs": [],
   "source": [
    "@htmlize.register(Integral)\n",
    "def html_integral_number(a):\n",
    "    return  '{0}(<i>{1}</i>)'.format(a,str(hex(a)))"
   ]
  },
  {
   "cell_type": "code",
   "execution_count": 74,
   "id": "dbf06f11-1b86-4445-acb0-cc7dfa0d228a",
   "metadata": {},
   "outputs": [
    {
     "data": {
      "text/plain": [
       "True"
      ]
     },
     "execution_count": 74,
     "metadata": {},
     "output_type": "execute_result"
    }
   ],
   "source": [
    "isinstance(True,Integral)"
   ]
  },
  {
   "cell_type": "code",
   "execution_count": 75,
   "id": "d05be31c-acd4-408d-a993-f487ddb3890e",
   "metadata": {},
   "outputs": [],
   "source": [
    "@htmlize.register(int)\n",
    "@htmlize.register(bool)\n",
    "def html_integral_number(a):\n",
    "    return  '{0}(<i>{1}</i>)'.format(a,str(hex(a)))"
   ]
  },
  {
   "cell_type": "code",
   "execution_count": 76,
   "id": "df1fe507-79dc-4f9c-ba9c-6163bca84d8f",
   "metadata": {},
   "outputs": [
    {
     "data": {
      "text/plain": [
       "'10(<i>0xa</i>)'"
      ]
     },
     "execution_count": 76,
     "metadata": {},
     "output_type": "execute_result"
    }
   ],
   "source": [
    "htmlize(10)"
   ]
  },
  {
   "cell_type": "code",
   "execution_count": 77,
   "id": "9de015d7-2f10-47ac-901d-38cb22bb4eab",
   "metadata": {},
   "outputs": [
    {
     "data": {
      "text/plain": [
       "'True(<i>0x1</i>)'"
      ]
     },
     "execution_count": 77,
     "metadata": {},
     "output_type": "execute_result"
    }
   ],
   "source": [
    "htmlize(True)"
   ]
  },
  {
   "cell_type": "code",
   "execution_count": 78,
   "id": "64eb55bf-15d1-49db-80a1-03fdf5edfda1",
   "metadata": {},
   "outputs": [],
   "source": [
    "from collections.abc import Sequence"
   ]
  },
  {
   "cell_type": "code",
   "execution_count": 79,
   "id": "a6a21c24-aa52-48ee-9638-a9d831d6ffa4",
   "metadata": {},
   "outputs": [
    {
     "data": {
      "text/plain": [
       "True"
      ]
     },
     "execution_count": 79,
     "metadata": {},
     "output_type": "execute_result"
    }
   ],
   "source": [
    "isinstance([1,2,3],Sequence)"
   ]
  },
  {
   "cell_type": "code",
   "execution_count": 80,
   "id": "76b3d2a6-caf6-42e4-a6a3-328f1238a5b3",
   "metadata": {},
   "outputs": [
    {
     "data": {
      "text/plain": [
       "True"
      ]
     },
     "execution_count": 80,
     "metadata": {},
     "output_type": "execute_result"
    }
   ],
   "source": [
    "isinstance((1,2,3),Sequence)"
   ]
  },
  {
   "cell_type": "code",
   "execution_count": 81,
   "id": "c6942b6f-6d55-4956-8433-e951a1964e31",
   "metadata": {},
   "outputs": [],
   "source": [
    "@htmlize.register(Sequence)\n",
    "def html_sequence(l):\n",
    "    items = ('<li>{0}</li>'.format(html_escape(item))\n",
    "           for item in l\n",
    "           )\n",
    "    return '<ul>\\n' + '\\n'.join(items) + '\\n</ul>'"
   ]
  },
  {
   "cell_type": "code",
   "execution_count": 83,
   "id": "51a57220-58cc-4ccf-b10e-618c923bd409",
   "metadata": {},
   "outputs": [
    {
     "data": {
      "text/plain": [
       "False"
      ]
     },
     "execution_count": 83,
     "metadata": {},
     "output_type": "execute_result"
    }
   ],
   "source": [
    "type([1,2,3]) is Sequence"
   ]
  },
  {
   "cell_type": "markdown",
   "id": "f8fb925a-35e8-4b20-af36-3cc712e81f9d",
   "metadata": {},
   "source": [
    "### Decorator App(Dispatching-3)"
   ]
  },
  {
   "cell_type": "code",
   "execution_count": 84,
   "id": "788fff44-55fa-429f-bf1e-1e7b2c54eb3a",
   "metadata": {},
   "outputs": [],
   "source": [
    "from functools import singledispatch\n",
    "from collections.abc import Sequence\n",
    "from numbers import Integral"
   ]
  },
  {
   "cell_type": "code",
   "execution_count": 86,
   "id": "15f78bcb-1289-4ef5-99a1-aca9160aed02",
   "metadata": {},
   "outputs": [],
   "source": [
    "@singledispatch\n",
    "def htmlize(a):\n",
    "    return escape(str(a))"
   ]
  },
  {
   "cell_type": "code",
   "execution_count": 87,
   "id": "1b16a4cc-c95c-4386-8df4-4232675c3f35",
   "metadata": {},
   "outputs": [
    {
     "data": {
      "text/plain": [
       "mappingproxy({object: <function __main__.htmlize(a)>})"
      ]
     },
     "execution_count": 87,
     "metadata": {},
     "output_type": "execute_result"
    }
   ],
   "source": [
    "htmlize.registry"
   ]
  },
  {
   "cell_type": "code",
   "execution_count": 88,
   "id": "3e9fd157-ae32-4eba-ab3d-027bd6614fdd",
   "metadata": {},
   "outputs": [
    {
     "data": {
      "text/plain": [
       "<function __main__.htmlize(a)>"
      ]
     },
     "execution_count": 88,
     "metadata": {},
     "output_type": "execute_result"
    }
   ],
   "source": [
    "htmlize.dispatch(str)"
   ]
  },
  {
   "cell_type": "code",
   "execution_count": 89,
   "id": "58d6b355-0e8a-4994-b314-6911e60c025f",
   "metadata": {},
   "outputs": [],
   "source": [
    "@htmlize.register(Integral)\n",
    "def html_integral_number(a):\n",
    "    return '{0}(<i>{1}</i>)'.format(a,str(hex(a)))"
   ]
  },
  {
   "cell_type": "code",
   "execution_count": 90,
   "id": "19d22183-ac25-47a3-8c2b-e1e5f4b24c26",
   "metadata": {},
   "outputs": [
    {
     "data": {
      "text/plain": [
       "mappingproxy({object: <function __main__.htmlize(a)>,\n",
       "              numbers.Integral: <function __main__.html_integral_number(a)>})"
      ]
     },
     "execution_count": 90,
     "metadata": {},
     "output_type": "execute_result"
    }
   ],
   "source": [
    "htmlize.registry"
   ]
  },
  {
   "cell_type": "code",
   "execution_count": 91,
   "id": "9d9213b7-f032-49c5-9b07-d1d42eaa9d72",
   "metadata": {},
   "outputs": [
    {
     "data": {
      "text/plain": [
       "<function __main__.html_integral_number(a)>"
      ]
     },
     "execution_count": 91,
     "metadata": {},
     "output_type": "execute_result"
    }
   ],
   "source": [
    "htmlize.dispatch(int)"
   ]
  },
  {
   "cell_type": "code",
   "execution_count": 93,
   "id": "26bdd821-a680-4977-ad0c-242d0374e563",
   "metadata": {},
   "outputs": [
    {
     "data": {
      "text/plain": [
       "int"
      ]
     },
     "execution_count": 93,
     "metadata": {},
     "output_type": "execute_result"
    }
   ],
   "source": [
    "type(10)"
   ]
  },
  {
   "cell_type": "code",
   "execution_count": 94,
   "id": "f481ae38-f2ad-495f-bce0-45e95a4ce731",
   "metadata": {},
   "outputs": [
    {
     "data": {
      "text/plain": [
       "True"
      ]
     },
     "execution_count": 94,
     "metadata": {},
     "output_type": "execute_result"
    }
   ],
   "source": [
    "isinstance(10,int)"
   ]
  },
  {
   "cell_type": "code",
   "execution_count": 96,
   "id": "395c68fd-a7fe-4bfa-b86d-1c46d36de926",
   "metadata": {},
   "outputs": [
    {
     "data": {
      "text/plain": [
       "True"
      ]
     },
     "execution_count": 96,
     "metadata": {},
     "output_type": "execute_result"
    }
   ],
   "source": [
    "isinstance(10,Integral)"
   ]
  },
  {
   "cell_type": "code",
   "execution_count": 97,
   "id": "15f8a4c0-b5ef-4f5e-9efc-aa45e22c723e",
   "metadata": {},
   "outputs": [
    {
     "data": {
      "text/plain": [
       "<function __main__.html_integral_number(a)>"
      ]
     },
     "execution_count": 97,
     "metadata": {},
     "output_type": "execute_result"
    }
   ],
   "source": [
    "htmlize.dispatch(Integral)"
   ]
  },
  {
   "cell_type": "code",
   "execution_count": 98,
   "id": "220690f6-c4b1-4381-9cca-d8e9e899437f",
   "metadata": {},
   "outputs": [],
   "source": [
    "@htmlize.register(Sequence)\n",
    "def html_sequence(l):\n",
    "    items = ('<li>{0}</li>'.format(html_escape(item))\n",
    "           for item in l\n",
    "           )\n",
    "    return '<ul>\\n' + '\\n'.join(items) + '\\n</ul>'"
   ]
  },
  {
   "cell_type": "code",
   "execution_count": 99,
   "id": "057ade9a-b3d2-480e-8856-a1b028c337f7",
   "metadata": {},
   "outputs": [
    {
     "data": {
      "text/plain": [
       "'<ul>\\n<li>1</li>\\n<li>2</li>\\n<li>3</li>\\n</ul>'"
      ]
     },
     "execution_count": 99,
     "metadata": {},
     "output_type": "execute_result"
    }
   ],
   "source": [
    "htmlize([1,2,3])"
   ]
  },
  {
   "cell_type": "code",
   "execution_count": 100,
   "id": "8a9c1de8-08dd-4704-b6eb-aa12449e820f",
   "metadata": {},
   "outputs": [
    {
     "data": {
      "text/plain": [
       "'<ul>\\n<li>p</li>\\n<li>y</li>\\n<li>t</li>\\n<li>h</li>\\n<li>o</li>\\n<li>n</li>\\n</ul>'"
      ]
     },
     "execution_count": 100,
     "metadata": {},
     "output_type": "execute_result"
    }
   ],
   "source": [
    "htmlize('python')"
   ]
  },
  {
   "cell_type": "code",
   "execution_count": 101,
   "id": "f90734b1-7f63-4f3c-a4c7-5d795f9da54c",
   "metadata": {},
   "outputs": [
    {
     "data": {
      "text/plain": [
       "'<ul>\\n<li>p</li>\\n<li>y</li>\\n<li>t</li>\\n<li>h</li>\\n<li>o</li>\\n<li>n</li>\\n<li> </li>\\n<li>0</li>\\n<li> </li>\\n<li>&lt;</li>\\n<li> </li>\\n<li>1</li>\\n</ul>'"
      ]
     },
     "execution_count": 101,
     "metadata": {},
     "output_type": "execute_result"
    }
   ],
   "source": [
    "htmlize('python 0 < 1')"
   ]
  },
  {
   "cell_type": "code",
   "execution_count": 102,
   "id": "c64441ec-1a03-42dd-b4df-5ee88abb472f",
   "metadata": {},
   "outputs": [
    {
     "data": {
      "text/plain": [
       "mappingproxy({object: <function __main__.htmlize(a)>,\n",
       "              numbers.Integral: <function __main__.html_integral_number(a)>,\n",
       "              collections.abc.Sequence: <function __main__.html_sequence(l)>})"
      ]
     },
     "execution_count": 102,
     "metadata": {},
     "output_type": "execute_result"
    }
   ],
   "source": [
    "htmlize.registry"
   ]
  },
  {
   "cell_type": "code",
   "execution_count": 103,
   "id": "29c1be61-db69-4c9d-906e-f2c990145862",
   "metadata": {},
   "outputs": [],
   "source": [
    "@htmlize.register(tuple)\n",
    "def html_tuple(t):\n",
    "    items = (escape(str(item)) for item in t)\n",
    "    return '({0})'.format(', '.join(items))"
   ]
  },
  {
   "cell_type": "code",
   "execution_count": 104,
   "id": "20562de6-6408-4ad0-871d-362b149ca963",
   "metadata": {},
   "outputs": [
    {
     "data": {
      "text/plain": [
       "mappingproxy({object: <function __main__.htmlize(a)>,\n",
       "              numbers.Integral: <function __main__.html_integral_number(a)>,\n",
       "              collections.abc.Sequence: <function __main__.html_sequence(l)>,\n",
       "              tuple: <function __main__.html_tuple(t)>})"
      ]
     },
     "execution_count": 104,
     "metadata": {},
     "output_type": "execute_result"
    }
   ],
   "source": [
    "htmlize.registry"
   ]
  },
  {
   "cell_type": "code",
   "execution_count": 105,
   "id": "e636d99f-f168-4e2f-a507-04e98630446c",
   "metadata": {},
   "outputs": [
    {
     "data": {
      "text/plain": [
       "'(1, 2, 3)'"
      ]
     },
     "execution_count": 105,
     "metadata": {},
     "output_type": "execute_result"
    }
   ],
   "source": [
    "htmlize((1,2,3))"
   ]
  },
  {
   "cell_type": "code",
   "execution_count": null,
   "id": "481d5cb6-5699-4e07-aab8-e8d3ce6026e4",
   "metadata": {},
   "outputs": [],
   "source": []
  }
 ],
 "metadata": {
  "kernelspec": {
   "display_name": "Python 3 (ipykernel)",
   "language": "python",
   "name": "python3"
  },
  "language_info": {
   "codemirror_mode": {
    "name": "ipython",
    "version": 3
   },
   "file_extension": ".py",
   "mimetype": "text/x-python",
   "name": "python",
   "nbconvert_exporter": "python",
   "pygments_lexer": "ipython3",
   "version": "3.11.5"
  }
 },
 "nbformat": 4,
 "nbformat_minor": 5
}
