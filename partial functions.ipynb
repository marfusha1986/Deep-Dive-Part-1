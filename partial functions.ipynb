{
 "cells": [
  {
   "cell_type": "code",
   "execution_count": 1,
   "id": "3a9e2477",
   "metadata": {},
   "outputs": [],
   "source": [
    "from functools import partial"
   ]
  },
  {
   "cell_type": "code",
   "execution_count": 2,
   "id": "58937a71",
   "metadata": {},
   "outputs": [],
   "source": [
    "def my_func(a,b,c):\n",
    "    print(a,b,c)"
   ]
  },
  {
   "cell_type": "code",
   "execution_count": 3,
   "id": "09b7ad4b",
   "metadata": {},
   "outputs": [
    {
     "name": "stdout",
     "output_type": "stream",
     "text": [
      "10 20 30\n"
     ]
    }
   ],
   "source": [
    "my_func(10,20,30)"
   ]
  },
  {
   "cell_type": "code",
   "execution_count": 4,
   "id": "28c6a7bb",
   "metadata": {},
   "outputs": [],
   "source": [
    "def f(x,y):\n",
    "    return my_func(10,x,y)"
   ]
  },
  {
   "cell_type": "code",
   "execution_count": 5,
   "id": "d35c7a2e",
   "metadata": {},
   "outputs": [
    {
     "name": "stdout",
     "output_type": "stream",
     "text": [
      "10 20 30\n"
     ]
    }
   ],
   "source": [
    "f(20,30)"
   ]
  },
  {
   "cell_type": "code",
   "execution_count": 6,
   "id": "ee27036a",
   "metadata": {},
   "outputs": [
    {
     "name": "stdout",
     "output_type": "stream",
     "text": [
      "10 100 200\n"
     ]
    }
   ],
   "source": [
    "f(100,200)"
   ]
  },
  {
   "cell_type": "code",
   "execution_count": 9,
   "id": "88c6ac83",
   "metadata": {},
   "outputs": [],
   "source": [
    "f = lambda x,y:my_func(10,x,y)"
   ]
  },
  {
   "cell_type": "code",
   "execution_count": 10,
   "id": "e0a0e551",
   "metadata": {},
   "outputs": [
    {
     "name": "stdout",
     "output_type": "stream",
     "text": [
      "10 100 200\n"
     ]
    }
   ],
   "source": [
    "f(100,200)"
   ]
  },
  {
   "cell_type": "code",
   "execution_count": 11,
   "id": "35d43aa3",
   "metadata": {},
   "outputs": [],
   "source": [
    "f = partial(my_func,10)"
   ]
  },
  {
   "cell_type": "code",
   "execution_count": 12,
   "id": "df68e40a",
   "metadata": {},
   "outputs": [
    {
     "name": "stdout",
     "output_type": "stream",
     "text": [
      "10 20 30\n"
     ]
    }
   ],
   "source": [
    "f(20,30)"
   ]
  },
  {
   "cell_type": "code",
   "execution_count": 13,
   "id": "45b66afa",
   "metadata": {},
   "outputs": [],
   "source": [
    "f = partial(my_func,10,20)"
   ]
  },
  {
   "cell_type": "code",
   "execution_count": 14,
   "id": "18b03136",
   "metadata": {},
   "outputs": [
    {
     "name": "stdout",
     "output_type": "stream",
     "text": [
      "10 20 30\n"
     ]
    }
   ],
   "source": [
    "f(30)"
   ]
  },
  {
   "cell_type": "code",
   "execution_count": 15,
   "id": "008ccdc8",
   "metadata": {},
   "outputs": [],
   "source": [
    "def my_func(a,b,*args,k1,k2,**kwargs):\n",
    "    print(a,b,args,k1,k2,kwargs)"
   ]
  },
  {
   "cell_type": "code",
   "execution_count": 16,
   "id": "823774e9",
   "metadata": {},
   "outputs": [
    {
     "name": "stdout",
     "output_type": "stream",
     "text": [
      "10 20 (100, 200) a b {'k3': 1000, 'k4': 4000}\n"
     ]
    }
   ],
   "source": [
    "my_func(10,20,100,200,k1='a',k2='b',k3=1000,k4=4000)"
   ]
  },
  {
   "cell_type": "code",
   "execution_count": 24,
   "id": "badf20cb",
   "metadata": {},
   "outputs": [],
   "source": [
    "def f(x,*vars,kw,**kvars):\n",
    "    return my_func(10,x,*vars,k1='a',k2=kw,**kvars)"
   ]
  },
  {
   "cell_type": "code",
   "execution_count": 25,
   "id": "e1c1c6a2",
   "metadata": {},
   "outputs": [
    {
     "name": "stdout",
     "output_type": "stream",
     "text": [
      "10 20 (100, 200) a b {'k3': 1000, 'k4': 2000}\n"
     ]
    }
   ],
   "source": [
    "f(20,100,200,kw='b',k3=1000,k4=2000)"
   ]
  },
  {
   "cell_type": "code",
   "execution_count": 26,
   "id": "627b0cf1",
   "metadata": {},
   "outputs": [],
   "source": [
    "f = partial(my_func, 10, k1='a')"
   ]
  },
  {
   "cell_type": "code",
   "execution_count": 27,
   "id": "17486d5d",
   "metadata": {},
   "outputs": [
    {
     "name": "stdout",
     "output_type": "stream",
     "text": [
      "10 20 (200, 100) a b {'k3': 1000, 'k4': 2000}\n"
     ]
    }
   ],
   "source": [
    "f(20,200,100,k2='b',k3=1000,k4=2000)"
   ]
  },
  {
   "cell_type": "code",
   "execution_count": 28,
   "id": "62cb01e5",
   "metadata": {},
   "outputs": [],
   "source": [
    "def pow(base,exponent):\n",
    "    return base ** exponent"
   ]
  },
  {
   "cell_type": "code",
   "execution_count": 29,
   "id": "dd5d1224",
   "metadata": {},
   "outputs": [],
   "source": [
    "sq = partial(pow,exponent=2)"
   ]
  },
  {
   "cell_type": "code",
   "execution_count": 30,
   "id": "eab64653",
   "metadata": {},
   "outputs": [
    {
     "data": {
      "text/plain": [
       "100"
      ]
     },
     "execution_count": 30,
     "metadata": {},
     "output_type": "execute_result"
    }
   ],
   "source": [
    "sq(10)"
   ]
  },
  {
   "cell_type": "code",
   "execution_count": 34,
   "id": "ac439784",
   "metadata": {},
   "outputs": [],
   "source": [
    "cube=partial(pow,exponent=3)"
   ]
  },
  {
   "cell_type": "code",
   "execution_count": 35,
   "id": "79c7ba7b",
   "metadata": {},
   "outputs": [
    {
     "data": {
      "text/plain": [
       "1000000"
      ]
     },
     "execution_count": 35,
     "metadata": {},
     "output_type": "execute_result"
    }
   ],
   "source": [
    "cube(100)"
   ]
  },
  {
   "cell_type": "code",
   "execution_count": 36,
   "id": "f8df40bd",
   "metadata": {},
   "outputs": [
    {
     "data": {
      "text/plain": [
       "1000"
      ]
     },
     "execution_count": 36,
     "metadata": {},
     "output_type": "execute_result"
    }
   ],
   "source": [
    "cube(base=10)"
   ]
  },
  {
   "cell_type": "code",
   "execution_count": 45,
   "id": "d3cbed7c",
   "metadata": {},
   "outputs": [],
   "source": [
    "a = 10\n",
    "sq=partial(pow,exponent=a)"
   ]
  },
  {
   "cell_type": "code",
   "execution_count": 49,
   "id": "de69f905",
   "metadata": {},
   "outputs": [
    {
     "data": {
      "text/plain": [
       "9765625"
      ]
     },
     "execution_count": 49,
     "metadata": {},
     "output_type": "execute_result"
    }
   ],
   "source": [
    "sq(5)"
   ]
  },
  {
   "cell_type": "code",
   "execution_count": 50,
   "id": "15246dcc",
   "metadata": {},
   "outputs": [],
   "source": [
    "a=3"
   ]
  },
  {
   "cell_type": "code",
   "execution_count": 51,
   "id": "c5f1594f",
   "metadata": {},
   "outputs": [
    {
     "data": {
      "text/plain": [
       "9765625"
      ]
     },
     "execution_count": 51,
     "metadata": {},
     "output_type": "execute_result"
    }
   ],
   "source": [
    "sq(5)"
   ]
  },
  {
   "cell_type": "code",
   "execution_count": 52,
   "id": "1b4d1406",
   "metadata": {},
   "outputs": [],
   "source": [
    "def my_func(a,b):\n",
    "    print(a,b)"
   ]
  },
  {
   "cell_type": "code",
   "execution_count": 53,
   "id": "966f3751",
   "metadata": {},
   "outputs": [],
   "source": [
    "a = [1,2]\n",
    "f = partial(my_func,a)"
   ]
  },
  {
   "cell_type": "code",
   "execution_count": 54,
   "id": "ac45e912",
   "metadata": {},
   "outputs": [
    {
     "name": "stdout",
     "output_type": "stream",
     "text": [
      "[1, 2] 100\n"
     ]
    }
   ],
   "source": [
    "f(100)"
   ]
  },
  {
   "cell_type": "code",
   "execution_count": 55,
   "id": "acd31e37",
   "metadata": {},
   "outputs": [],
   "source": [
    "a.append(3)"
   ]
  },
  {
   "cell_type": "code",
   "execution_count": 56,
   "id": "6fd9ca4c",
   "metadata": {},
   "outputs": [
    {
     "data": {
      "text/plain": [
       "[1, 2, 3]"
      ]
     },
     "execution_count": 56,
     "metadata": {},
     "output_type": "execute_result"
    }
   ],
   "source": [
    "a"
   ]
  },
  {
   "cell_type": "code",
   "execution_count": 57,
   "id": "01a5767c",
   "metadata": {},
   "outputs": [
    {
     "name": "stdout",
     "output_type": "stream",
     "text": [
      "[1, 2, 3] 100\n"
     ]
    }
   ],
   "source": [
    "f(100)"
   ]
  },
  {
   "cell_type": "code",
   "execution_count": 58,
   "id": "79dc74b9",
   "metadata": {},
   "outputs": [],
   "source": [
    "origin = (0,0)"
   ]
  },
  {
   "cell_type": "code",
   "execution_count": 59,
   "id": "79ae6299",
   "metadata": {},
   "outputs": [],
   "source": [
    "l = [(1,1),(0,2),(-3,2),(0,0),(10,10)]"
   ]
  },
  {
   "cell_type": "code",
   "execution_count": 71,
   "id": "457ec819",
   "metadata": {},
   "outputs": [],
   "source": [
    "dist2 = lambda a,b:(a[0] - b[0])**2 + (a[1]-b[1])**2"
   ]
  },
  {
   "cell_type": "code",
   "execution_count": 72,
   "id": "a24e4a06",
   "metadata": {},
   "outputs": [
    {
     "data": {
      "text/plain": [
       "2"
      ]
     },
     "execution_count": 72,
     "metadata": {},
     "output_type": "execute_result"
    }
   ],
   "source": [
    "dist2((1,1),origin)"
   ]
  },
  {
   "cell_type": "code",
   "execution_count": 73,
   "id": "7f0f345e",
   "metadata": {},
   "outputs": [
    {
     "data": {
      "text/plain": [
       "[(-3, 2), (0, 0), (0, 2), (1, 1), (10, 10)]"
      ]
     },
     "execution_count": 73,
     "metadata": {},
     "output_type": "execute_result"
    }
   ],
   "source": [
    "sorted(l)"
   ]
  },
  {
   "cell_type": "code",
   "execution_count": 80,
   "id": "46fd8e65",
   "metadata": {},
   "outputs": [],
   "source": [
    "f = partial(dist2,origin)"
   ]
  },
  {
   "cell_type": "code",
   "execution_count": 82,
   "id": "7a17939d",
   "metadata": {},
   "outputs": [
    {
     "data": {
      "text/plain": [
       "2"
      ]
     },
     "execution_count": 82,
     "metadata": {},
     "output_type": "execute_result"
    }
   ],
   "source": [
    "f((1,1))"
   ]
  },
  {
   "cell_type": "code",
   "execution_count": 85,
   "id": "ab1e9c69",
   "metadata": {},
   "outputs": [
    {
     "data": {
      "text/plain": [
       "[(0, 0), (1, 1), (0, 2), (-3, 2), (10, 10)]"
      ]
     },
     "execution_count": 85,
     "metadata": {},
     "output_type": "execute_result"
    }
   ],
   "source": [
    "sorted(l,key=f)"
   ]
  },
  {
   "cell_type": "code",
   "execution_count": 86,
   "id": "fa1a3ef4",
   "metadata": {},
   "outputs": [],
   "source": [
    "f = lambda x: dist2(origin,x)"
   ]
  },
  {
   "cell_type": "code",
   "execution_count": 87,
   "id": "5f40491f",
   "metadata": {},
   "outputs": [
    {
     "data": {
      "text/plain": [
       "[(0, 0), (1, 1), (0, 2), (-3, 2), (10, 10)]"
      ]
     },
     "execution_count": 87,
     "metadata": {},
     "output_type": "execute_result"
    }
   ],
   "source": [
    "sorted(l,key=f)"
   ]
  },
  {
   "cell_type": "code",
   "execution_count": null,
   "id": "f238779f",
   "metadata": {},
   "outputs": [],
   "source": []
  }
 ],
 "metadata": {
  "kernelspec": {
   "display_name": "Python 3 (ipykernel)",
   "language": "python",
   "name": "python3"
  },
  "language_info": {
   "codemirror_mode": {
    "name": "ipython",
    "version": 3
   },
   "file_extension": ".py",
   "mimetype": "text/x-python",
   "name": "python",
   "nbconvert_exporter": "python",
   "pygments_lexer": "ipython3",
   "version": "3.9.13"
  }
 },
 "nbformat": 4,
 "nbformat_minor": 5
}
